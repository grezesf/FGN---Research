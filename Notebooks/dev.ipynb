{
 "cells": [
  {
   "cell_type": "code",
   "execution_count": 1,
   "metadata": {},
   "outputs": [],
   "source": [
    "import torch\n",
    "import numpy as np"
   ]
  },
  {
   "cell_type": "code",
   "execution_count": 2,
   "metadata": {},
   "outputs": [],
   "source": [
    "out_features = 4\n",
    "in_features = 16"
   ]
  },
  {
   "cell_type": "code",
   "execution_count": 12,
   "metadata": {},
   "outputs": [
    {
     "name": "stdout",
     "output_type": "stream",
     "text": [
      "(16, 4)\n",
      "[[ 0  1  2  3]\n",
      " [ 4  5  6  7]\n",
      " [ 8  9 10 11]\n",
      " [12 13 14 15]\n",
      " [16 17 18 19]\n",
      " [20 21 22 23]\n",
      " [24 25 26 27]\n",
      " [28 29 30 31]\n",
      " [32 33 34 35]\n",
      " [36 37 38 39]\n",
      " [40 41 42 43]\n",
      " [44 45 46 47]\n",
      " [48 49 50 51]\n",
      " [52 53 54 55]\n",
      " [56 57 58 59]\n",
      " [60 61 62 63]]\n"
     ]
    }
   ],
   "source": [
    "g = np.arange(in_features*out_features).reshape((in_features, out_features))\n",
    "print(g.shape)\n",
    "print(g)"
   ]
  },
  {
   "cell_type": "code",
   "execution_count": 13,
   "metadata": {},
   "outputs": [
    {
     "name": "stdout",
     "output_type": "stream",
     "text": [
      "(16,)\n",
      "[ 0  1  2  3  4  5  6  7  8  9 10 11 12 13 14 15]\n"
     ]
    }
   ],
   "source": [
    "max_prev_g = np.arange(in_features)\n",
    "print(max_prev_g.shape)\n",
    "print(max_prev_g)"
   ]
  },
  {
   "cell_type": "code",
   "execution_count": 17,
   "metadata": {},
   "outputs": [
    {
     "data": {
      "text/plain": [
       "array([[  0,   0,   0,   0],\n",
       "       [  4,   5,   6,   7],\n",
       "       [ 16,  18,  20,  22],\n",
       "       [ 36,  39,  42,  45],\n",
       "       [ 64,  68,  72,  76],\n",
       "       [100, 105, 110, 115],\n",
       "       [144, 150, 156, 162],\n",
       "       [196, 203, 210, 217],\n",
       "       [256, 264, 272, 280],\n",
       "       [324, 333, 342, 351],\n",
       "       [400, 410, 420, 430],\n",
       "       [484, 495, 506, 517],\n",
       "       [576, 588, 600, 612],\n",
       "       [676, 689, 702, 715],\n",
       "       [784, 798, 812, 826],\n",
       "       [900, 915, 930, 945]])"
      ]
     },
     "execution_count": 17,
     "metadata": {},
     "output_type": "execute_result"
    }
   ],
   "source": [
    "np.einsum('ij,i -> ij', g, max_prev_g)\n"
   ]
  },
  {
   "cell_type": "code",
   "execution_count": null,
   "metadata": {},
   "outputs": [],
   "source": []
  }
 ],
 "metadata": {
  "kernelspec": {
   "display_name": "Python 2",
   "language": "python",
   "name": "python2"
  },
  "language_info": {
   "codemirror_mode": {
    "name": "ipython",
    "version": 2
   },
   "file_extension": ".py",
   "mimetype": "text/x-python",
   "name": "python",
   "nbconvert_exporter": "python",
   "pygments_lexer": "ipython2",
   "version": "2.7.12"
  }
 },
 "nbformat": 4,
 "nbformat_minor": 4
}
