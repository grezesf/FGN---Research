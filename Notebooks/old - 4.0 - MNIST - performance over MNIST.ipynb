{
 "cells": [
  {
   "cell_type": "code",
   "execution_count": 1,
   "metadata": {},
   "outputs": [],
   "source": [
    "# in this notebook i compare how classic models, \n",
    "# similar fgn models and converted models perform over MNIST train/dev/test"
   ]
  },
  {
   "cell_type": "code",
   "execution_count": 2,
   "metadata": {},
   "outputs": [],
   "source": [
    "from __future__ import print_function"
   ]
  },
  {
   "cell_type": "code",
   "execution_count": 3,
   "metadata": {},
   "outputs": [],
   "source": [
    "import matplotlib as mpl\n",
    "# set this 'backend' when using jupyter; do this before importing pyplot\n",
    "mpl.use('nbagg')\n",
    "import matplotlib.pyplot as plt"
   ]
  },
  {
   "cell_type": "code",
   "execution_count": 5,
   "metadata": {},
   "outputs": [],
   "source": [
    "import os"
   ]
  },
  {
   "cell_type": "code",
   "execution_count": 7,
   "metadata": {},
   "outputs": [],
   "source": [
    "# fold with exp results\n",
    "run_dir = '/home/felix/Research/Adversarial Research/FGN---Research/Experiments/Exp-00_train_models-run1/'"
   ]
  },
  {
   "cell_type": "code",
   "execution_count": 6,
   "metadata": {},
   "outputs": [
    {
     "name": "stdout",
     "output_type": "stream",
     "text": [
      "['2019-09-17 16:29:06.273379_[64, 64]_fgn_sphere_lsig8.0000E-05_2_training_history.txt', '2019-09-17 16:15:24.725850_[64, 64]_fgn_diag_lsig8.0000E-05_1_training_history.txt', '2019-09-17 16:29:48.542748_[64, 64]_fgn_diag_lsig8.0000E-05_2_training_history.txt', '2019-09-17 16:31:03.122659_[64, 64]_fgn_sphere_lsig8.0000E-04_2_training_history.txt', '2019-09-17 16:25:12.640506_[64, 64]_fgn_sphere_lsig8.0000E-06_2_training_history.txt', '2019-09-17 16:21:04.653018_[64, 64]_fgn_sphere_lsig8.0000E-07_2_training_history.txt', '2019-09-17 15:59:19.358049_[64, 64]_fgn_sphere_lsig8.0000E-05_0_training_history.txt', '2019-09-17 15:53:18.216091_[64, 64]_fgn_sphere_lsig4.0000E-06_0_training_history.txt', '2019-09-17 16:31:25.075494_[64, 64]_fgn_diag_lsig8.0000E-04_2_training_history.txt', '2019-09-17 16:08:01.715579_[64, 64]_fgn_sphere_lsig4.0000E-06_1_training_history.txt', '2019-09-17 16:03:44.221197_[64, 64]_converted_adjusted_FGN_1_trained_weights_training_history.txt', '2019-09-17 16:18:55.370375_[64, 64]_classic_2_training_history.txt', '2019-09-17 15:51:01.679610_[64, 64]_fgn_sphere_lsig8.0000E-08_0_training_history.txt', '2019-09-17 15:53:59.669148_[64, 64]_fgn_diag_lsig4.0000E-06_0_training_history.txt', '2019-09-17 16:03:44.221197_[64, 64]_classic_1_training_history.txt', '2019-09-17 16:02:25.151261_[64, 64]_fgn_diag_lsig8.0000E-04_0_training_history.txt', '2019-09-17 16:16:45.724895_[64, 64]_fgn_sphere_lsig8.0000E-04_1_training_history.txt', '2019-09-17 16:22:57.726801_[64, 64]_fgn_sphere_lsig4.0000E-06_2_training_history.txt', '2019-09-17 16:23:39.487626_[64, 64]_fgn_diag_lsig4.0000E-06_2_training_history.txt', '2019-09-17 16:11:12.423162_[64, 64]_fgn_diag_lsig8.0000E-06_1_training_history.txt', '2019-09-17 16:19:59.668584_[64, 64]_fgn_diag_lsig8.0000E-08_2_training_history.txt', '2019-09-17 15:50:46.235244_[64, 64]_classic_0_training_history.txt', '2019-09-17 16:27:07.767608_[64, 64]_fgn_sphere_lsig1.6000E-05_2_training_history.txt', '2019-09-17 16:08:44.263059_[64, 64]_fgn_diag_lsig4.0000E-06_1_training_history.txt', '2019-09-17 16:19:18.439281_[64, 64]_fgn_sphere_lsig8.0000E-08_2_training_history.txt', '2019-09-17 16:27:46.632246_[64, 64]_fgn_diag_lsig1.6000E-05_2_training_history.txt', '2019-09-17 16:17:25.883198_[64, 64]_fgn_diag_lsig8.0000E-04_1_training_history.txt', '2019-09-17 16:13:24.744065_[64, 64]_fgn_diag_lsig1.6000E-05_1_training_history.txt', '2019-09-17 16:25:58.401087_[64, 64]_fgn_diag_lsig8.0000E-06_2_training_history.txt', '2019-09-17 16:12:46.639566_[64, 64]_fgn_sphere_lsig1.6000E-05_1_training_history.txt', '2019-09-17 16:04:04.856745_[64, 64]_fgn_sphere_lsig8.0000E-08_1_training_history.txt', '2019-09-17 15:55:20.184880_[64, 64]_fgn_sphere_lsig8.0000E-06_0_training_history.txt', '2019-09-17 15:57:19.976878_[64, 64]_fgn_sphere_lsig1.6000E-05_0_training_history.txt', '2019-09-17 16:21:42.822543_[64, 64]_fgn_diag_lsig8.0000E-07_2_training_history.txt', '2019-09-17 16:04:41.660018_[64, 64]_fgn_diag_lsig8.0000E-08_1_training_history.txt', '2019-09-17 15:52:07.726098_[64, 64]_fgn_sphere_lsig8.0000E-07_0_training_history.txt', '2019-09-17 16:10:15.656152_[64, 64]_fgn_sphere_lsig8.0000E-06_1_training_history.txt', '2019-09-17 15:50:46.235244_[64, 64]_converted_adjusted_FGN_0_trained_weights_training_history.txt', '2019-09-17 15:58:00.378498_[64, 64]_fgn_diag_lsig1.6000E-05_0_training_history.txt', '2019-09-17 16:06:30.532739_[64, 64]_fgn_diag_lsig8.0000E-07_1_training_history.txt', '2019-09-17 15:52:30.604253_[64, 64]_fgn_diag_lsig8.0000E-07_0_training_history.txt', '2019-09-17 15:51:21.058557_[64, 64]_fgn_diag_lsig8.0000E-08_0_training_history.txt', '2019-09-17 16:01:34.985078_[64, 64]_fgn_sphere_lsig8.0000E-04_0_training_history.txt', '2019-09-17 15:55:55.710943_[64, 64]_fgn_diag_lsig8.0000E-06_0_training_history.txt', '2019-09-17 16:18:55.370375_[64, 64]_converted_adjusted_FGN_2_trained_weights_training_history.txt', '2019-09-17 16:14:45.358308_[64, 64]_fgn_sphere_lsig8.0000E-05_1_training_history.txt', '2019-09-17 16:05:52.114270_[64, 64]_fgn_sphere_lsig8.0000E-07_1_training_history.txt', '2019-09-17 16:00:10.854047_[64, 64]_fgn_diag_lsig8.0000E-05_0_training_history.txt']\n"
     ]
    }
   ],
   "source": [
    "# list of histories\n",
    "\n",
    "histories = []\n",
    "for filename in os.listdir(run_dir):\n",
    "    if (\"_training_history.txt\" in filename):\n",
    "        histories.append(filename)\n",
    "        \n",
    "print(histories)"
   ]
  },
  {
   "cell_type": "code",
   "execution_count": 36,
   "metadata": {},
   "outputs": [],
   "source": [
    "def recover_histories_from_text(textfile_path):\n",
    "    \n",
    "    # given a text file, tries it's best to returns a dictionary similar to that created by fgnl.train\n",
    "    \n",
    "    hist_dict = {}\n",
    "    \n",
    "    # open text file\n",
    "    with open(run_dir+h, \"r\") as f:\n",
    "        # read the line, if it's train los\n",
    "        for line in f.readlines():\n",
    "            l = line.split(' ')\n",
    "            if len(l[0])>1:\n",
    "                try:\n",
    "                    hist_dict[l[0]] = [float(x.strip(' ,[]\\n')) for x in l[1:]]\n",
    "                except:\n",
    "                    pass\n",
    "                \n",
    "    return hist_dict"
   ]
  },
  {
   "cell_type": "code",
   "execution_count": 37,
   "metadata": {},
   "outputs": [],
   "source": [
    "# for each history\n",
    "for hpath in histories:\n",
    "    \n",
    "    hist_dict = recover_histories_from_text(run_dir+hpath)\n",
    "\n",
    "    break"
   ]
  },
  {
   "cell_type": "code",
   "execution_count": 40,
   "metadata": {},
   "outputs": [
    {
     "data": {
      "text/plain": [
       "[[23.344797134399414,\n",
       "  13.886892318725586,\n",
       "  8.161854231357575,\n",
       "  5.0879474639892575,\n",
       "  3.389144855737686],\n",
       " [16.514, 25.948, 34.446, 43.668, 51.212],\n",
       " [27.648449659347534,\n",
       "  11.167129158973694,\n",
       "  6.67142915725708,\n",
       "  4.243700802326202,\n",
       "  3.2425665855407715],\n",
       " [14.02, 27.9, 36.93, 47.32, 51.93]]"
      ]
     },
     "execution_count": 40,
     "metadata": {},
     "output_type": "execute_result"
    }
   ],
   "source": []
  },
  {
   "cell_type": "code",
   "execution_count": null,
   "metadata": {},
   "outputs": [],
   "source": []
  }
 ],
 "metadata": {
  "kernelspec": {
   "display_name": "Python 2",
   "language": "python",
   "name": "python2"
  },
  "language_info": {
   "codemirror_mode": {
    "name": "ipython",
    "version": 2
   },
   "file_extension": ".py",
   "mimetype": "text/x-python",
   "name": "python",
   "nbconvert_exporter": "python",
   "pygments_lexer": "ipython2",
   "version": "2.7.12"
  }
 },
 "nbformat": 4,
 "nbformat_minor": 2
}
