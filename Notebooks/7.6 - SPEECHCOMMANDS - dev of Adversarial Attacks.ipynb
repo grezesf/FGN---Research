{
 "cells": [
  {
   "cell_type": "code",
   "execution_count": 1,
   "id": "b807a436",
   "metadata": {},
   "outputs": [],
   "source": [
    "# attack the SPEECHCOMMAND models"
   ]
  },
  {
   "cell_type": "code",
   "execution_count": 2,
   "id": "ca533fc1",
   "metadata": {},
   "outputs": [],
   "source": [
    "%load_ext autoreload\n",
    "%autoreload 2\n",
    "# Disable jedi autocompleter\n",
    "%config Completer.use_jedi = False"
   ]
  },
  {
   "cell_type": "code",
   "execution_count": 3,
   "id": "41323d6e",
   "metadata": {},
   "outputs": [],
   "source": [
    "import matplotlib as mpl\n",
    "# set this 'backend' when using jupyter; do this before importing pyplot\n",
    "mpl.use('nbagg')\n",
    "import matplotlib.pyplot as plt\n",
    "mpl.rcParams['figure.figsize'] = (8.0, 6.0)"
   ]
  },
  {
   "cell_type": "code",
   "execution_count": 4,
   "id": "d5eb8062",
   "metadata": {},
   "outputs": [],
   "source": [
    "import torch\n",
    "import torch.nn as nn\n",
    "import torch.nn.functional as F"
   ]
  },
  {
   "cell_type": "code",
   "execution_count": 5,
   "id": "52cdfd12",
   "metadata": {},
   "outputs": [
    {
     "name": "stdout",
     "output_type": "stream",
     "text": [
      "\u001b[1m\u001b[37mcrescent              \u001b[m  Wed Sep 15 12:34:54 2021  \u001b[1m\u001b[30m418.152.00\u001b[m\r\n",
      "\u001b[36m[0]\u001b[m \u001b[34mGeForce RTX 2080 Ti\u001b[m |\u001b[31m 40'C\u001b[m, \u001b[32m  0 %\u001b[m | \u001b[36m\u001b[1m\u001b[33m 3621\u001b[m / \u001b[33m10989\u001b[m MB | \u001b[1m\u001b[30mvietanh\u001b[m(\u001b[33m2523M\u001b[m) \u001b[1m\u001b[30mvietanh\u001b[m(\u001b[33m1087M\u001b[m)\r\n",
      "\u001b[36m[1]\u001b[m \u001b[34mGeForce RTX 2080 Ti\u001b[m |\u001b[31m 40'C\u001b[m, \u001b[32m  0 %\u001b[m | \u001b[36m\u001b[1m\u001b[33m  166\u001b[m / \u001b[33m10989\u001b[m MB | \u001b[1m\u001b[30mvietanh\u001b[m(\u001b[33m155M\u001b[m)\r\n"
     ]
    }
   ],
   "source": [
    "# check gpus\n",
    "!gpustat"
   ]
  },
  {
   "cell_type": "code",
   "execution_count": 6,
   "id": "5db34771",
   "metadata": {},
   "outputs": [
    {
     "name": "stdout",
     "output_type": "stream",
     "text": [
      "cuda\n"
     ]
    },
    {
     "name": "stderr",
     "output_type": "stream",
     "text": [
      "/home/felix/.local/lib/python3.6/site-packages/torch/cuda/__init__.py:125: UserWarning: \n",
      "GeForce RTX 2080 Ti with CUDA capability sm_75 is not compatible with the current PyTorch installation.\n",
      "The current PyTorch install supports CUDA capabilities sm_37 sm_50 sm_60 sm_70.\n",
      "If you want to use the GeForce RTX 2080 Ti GPU with PyTorch, please check the instructions at https://pytorch.org/get-started/locally/\n",
      "\n",
      "  warnings.warn(incompatible_device_warn.format(device_name, capability, \" \".join(arch_list), device_name))\n"
     ]
    }
   ],
   "source": [
    "device = torch.device('cuda' if torch.cuda.is_available() else 'cpu')\n",
    "# manually set cuda device\n",
    "torch.cuda.set_device(1)\n",
    "# device = 'cpu'\n",
    "print(device)"
   ]
  },
  {
   "cell_type": "code",
   "execution_count": 7,
   "id": "6be55675",
   "metadata": {},
   "outputs": [],
   "source": [
    "import sys\n",
    "sys.path.append('/home/felix/Research/Adversarial Research/FGN---Research/')\n",
    "import Finite_Gaussian_Network_lib as fgnl\n",
    "import Finite_Gaussian_Network_lib.fgn_helper_lib as fgnh"
   ]
  },
  {
   "cell_type": "code",
   "execution_count": 8,
   "id": "cddf7380",
   "metadata": {},
   "outputs": [],
   "source": [
    "# load dataset\n",
    "batch_size = 32\n",
    "batchsize_for_val = 500\n",
    "(train_loader, val_loader, test_loader) = fgnh.SpeechCommands_Dataloaders(resample_rate = 8000,\n",
    "                                                                          batch_size = batch_size,\n",
    "                                                                          batchsize_for_val = batchsize_for_val,\n",
    "                                                                          num_workers=5, \n",
    "                                                                          pin_memory=True)"
   ]
  },
  {
   "cell_type": "code",
   "execution_count": 9,
   "id": "631ac6cd",
   "metadata": {},
   "outputs": [],
   "source": [
    "# define model classes\n",
    "\n",
    "## classic model\n",
    "class M5(nn.Module):\n",
    "    def __init__(self, n_input=1, n_output=35, stride=16, n_channel=32):\n",
    "        super().__init__()\n",
    "        self.conv1 = nn.Conv1d(n_input, n_channel, kernel_size=80, stride=stride)\n",
    "        self.bn1 = nn.BatchNorm1d(n_channel)\n",
    "        self.pool1 = nn.MaxPool1d(4)\n",
    "        self.conv2 = nn.Conv1d(n_channel, n_channel, kernel_size=3)\n",
    "        self.bn2 = nn.BatchNorm1d(n_channel)\n",
    "        self.pool2 = nn.MaxPool1d(4)\n",
    "        self.conv3 = nn.Conv1d(n_channel, 2 * n_channel, kernel_size=3)\n",
    "        self.bn3 = nn.BatchNorm1d(2 * n_channel)\n",
    "        self.pool3 = nn.MaxPool1d(4)\n",
    "        self.conv4 = nn.Conv1d(2 * n_channel, 2 * n_channel, kernel_size=3)\n",
    "        self.bn4 = nn.BatchNorm1d(2 * n_channel)\n",
    "        self.pool4 = nn.MaxPool1d(4)\n",
    "        self.fc1 = nn.Linear(2 * n_channel, n_output)\n",
    "\n",
    "    def forward(self, x):\n",
    "        x = self.conv1(x)\n",
    "        x = F.relu(self.bn1(x))\n",
    "        x = self.pool1(x)\n",
    "        x = self.conv2(x)\n",
    "        x = F.relu(self.bn2(x))\n",
    "        x = self.pool2(x)\n",
    "        x = self.conv3(x)\n",
    "        x = F.relu(self.bn3(x))\n",
    "        x = self.pool3(x)\n",
    "        x = self.conv4(x)\n",
    "        x = F.relu(self.bn4(x))\n",
    "        x = self.pool4(x)\n",
    "        x = F.avg_pool1d(x, x.shape[-1])\n",
    "        x = x.permute(0, 2, 1)\n",
    "        x = self.fc1(x)\n",
    "        return F.log_softmax(x, dim=2).squeeze()\n",
    "    \n",
    "# FGN model    \n",
    "class FGN_M5(nn.Module):\n",
    "    \n",
    "    # changes:\n",
    "    # nn.Conv1d -> fgnl.FGN_Conv1d\n",
    "    # added g to conv inputs and outputs\n",
    "    # make sure you pass g through the same pooling steps as x\n",
    "    \n",
    "    def __init__(self, n_input=1, n_output=35, stride=16, n_channel=32):\n",
    "        super().__init__()\n",
    "        self.fgn_conv1 = fgnl.FGN_Conv1d(in_channels=n_input, out_channels=n_channel, kernel_size=80, stride=stride)\n",
    "        self.bn1 = nn.BatchNorm1d(n_channel)\n",
    "        self.pool1 = nn.MaxPool1d(4)\n",
    "        self.fgn_conv2 = fgnl.FGN_Conv1d(n_channel, n_channel, kernel_size=3)\n",
    "        self.bn2 = nn.BatchNorm1d(n_channel)\n",
    "        self.pool2 = nn.MaxPool1d(4)\n",
    "        self.fgn_conv3 = fgnl.FGN_Conv1d(n_channel, 2 * n_channel, kernel_size=3)\n",
    "        self.bn3 = nn.BatchNorm1d(2 * n_channel)\n",
    "        self.pool3 = nn.MaxPool1d(4)\n",
    "        self.fgn_conv4 = fgnl.FGN_Conv1d(2 * n_channel, 2 * n_channel, kernel_size=3)\n",
    "        self.bn4 = nn.BatchNorm1d(2 * n_channel)\n",
    "        self.pool4 = nn.MaxPool1d(4)\n",
    "        self.fc1 = nn.Linear(2 * n_channel, n_output)\n",
    "        \n",
    "    def forward(self, x):\n",
    "        x, g = self.fgn_conv1(x)\n",
    "        x = F.relu(self.bn1(x))\n",
    "        x = self.pool1(x)\n",
    "        g = self.pool1(g)\n",
    "        x, g = self.fgn_conv2(x, g)\n",
    "        x = F.relu(self.bn2(x))\n",
    "        x = self.pool2(x)\n",
    "        g = self.pool2(g)\n",
    "        x, g = self.fgn_conv3(x ,g)\n",
    "        x = F.relu(self.bn3(x))\n",
    "        x = self.pool3(x)\n",
    "        g = self.pool3(g)\n",
    "        x, _ = self.fgn_conv4(x, g)\n",
    "        x = F.relu(self.bn4(x))\n",
    "        x = self.pool4(x)\n",
    "        x = F.avg_pool1d(x, x.shape[-1])\n",
    "        x = x.permute(0, 2, 1)\n",
    "        x = self.fc1(x)\n",
    "        return F.log_softmax(x, dim=2).squeeze()"
   ]
  },
  {
   "cell_type": "code",
   "execution_count": 10,
   "id": "33eed4d6",
   "metadata": {},
   "outputs": [],
   "source": [
    "# pretrained models paths\n",
    "save_path = '../Experiments/sample_SPEECHCOMMANDS_models/'\n",
    "\n",
    "classic_model_name= 'sample_classic_model_SPEECHCOMMANDS'\n",
    "fgn_model_name = 'sample_FGN_model_SPEECHCOMMANDS'"
   ]
  },
  {
   "cell_type": "code",
   "execution_count": 11,
   "id": "bd4d8da8",
   "metadata": {},
   "outputs": [
    {
     "data": {
      "text/plain": [
       "FGN_M5(\n",
       "  (fgn_conv1): FGN_Conv1d(\n",
       "    (Conv1d): Conv1d(1, 32, kernel_size=(80,), stride=(16,))\n",
       "  )\n",
       "  (bn1): BatchNorm1d(32, eps=1e-05, momentum=0.1, affine=True, track_running_stats=True)\n",
       "  (pool1): MaxPool1d(kernel_size=4, stride=4, padding=0, dilation=1, ceil_mode=False)\n",
       "  (fgn_conv2): FGN_Conv1d(\n",
       "    (Conv1d): Conv1d(32, 32, kernel_size=(3,), stride=(1,))\n",
       "  )\n",
       "  (bn2): BatchNorm1d(32, eps=1e-05, momentum=0.1, affine=True, track_running_stats=True)\n",
       "  (pool2): MaxPool1d(kernel_size=4, stride=4, padding=0, dilation=1, ceil_mode=False)\n",
       "  (fgn_conv3): FGN_Conv1d(\n",
       "    (Conv1d): Conv1d(32, 64, kernel_size=(3,), stride=(1,))\n",
       "  )\n",
       "  (bn3): BatchNorm1d(64, eps=1e-05, momentum=0.1, affine=True, track_running_stats=True)\n",
       "  (pool3): MaxPool1d(kernel_size=4, stride=4, padding=0, dilation=1, ceil_mode=False)\n",
       "  (fgn_conv4): FGN_Conv1d(\n",
       "    (Conv1d): Conv1d(64, 64, kernel_size=(3,), stride=(1,))\n",
       "  )\n",
       "  (bn4): BatchNorm1d(64, eps=1e-05, momentum=0.1, affine=True, track_running_stats=True)\n",
       "  (pool4): MaxPool1d(kernel_size=4, stride=4, padding=0, dilation=1, ceil_mode=False)\n",
       "  (fc1): Linear(in_features=64, out_features=35, bias=True)\n",
       ")"
      ]
     },
     "execution_count": 11,
     "metadata": {},
     "output_type": "execute_result"
    }
   ],
   "source": [
    "# define and load the models\n",
    "# classic model\n",
    "classic_model = M5()\n",
    "classic_model.load_state_dict(torch.load(save_path+classic_model_name+'_state_dict.pth'))\n",
    "classic_model.to(device)\n",
    "\n",
    "# fgn model trained from scratch\n",
    "fgn_model_from_scratch = FGN_M5()\n",
    "fgn_model_from_scratch.load_state_dict(torch.load(save_path+fgn_model_name+'_state_dict.pth'))\n",
    "fgn_model_from_scratch.to(device)\n",
    "\n",
    "# converted fgn model (no retraining)\n",
    "fgn_model_converted_no_retraining = FGN_M5()\n",
    "fgn_model_converted_no_retraining.load_state_dict(torch.load(save_path+'sample_FGN_converted_model_SPEECHCOMMANDS'+'_state_dict.pth'))\n",
    "fgn_model_converted_no_retraining.to(device)\n",
    "\n",
    "# converted and retrained 1 epoch fgn model\n",
    "fgn_model_converted_fast_retraining = FGN_M5()\n",
    "fgn_model_converted_fast_retraining.load_state_dict(torch.load(save_path+'sample_FGN_converted_fast_retrained_model_SPEECHCOMMANDS'+'_state_dict.pth'))\n",
    "fgn_model_converted_fast_retraining.to(device)\n",
    "\n",
    "# converted and retrained 21 epoch fgn model\n",
    "fgn_model_converted_long_retraining = FGN_M5()\n",
    "fgn_model_converted_long_retraining.load_state_dict(torch.load(save_path+'sample_FGN_converted_long_retrained_model_SPEECHCOMMANDS'+'_state_dict.pth'))\n",
    "fgn_model_converted_long_retraining.to(device)"
   ]
  },
  {
   "cell_type": "code",
   "execution_count": 12,
   "id": "99b89c76",
   "metadata": {},
   "outputs": [
    {
     "data": {
      "text/plain": [
       "FGN_M5(\n",
       "  (fgn_conv1): FGN_Conv1d(\n",
       "    (Conv1d): Conv1d(1, 32, kernel_size=(80,), stride=(16,))\n",
       "  )\n",
       "  (bn1): BatchNorm1d(32, eps=1e-05, momentum=0.1, affine=True, track_running_stats=True)\n",
       "  (pool1): MaxPool1d(kernel_size=4, stride=4, padding=0, dilation=1, ceil_mode=False)\n",
       "  (fgn_conv2): FGN_Conv1d(\n",
       "    (Conv1d): Conv1d(32, 32, kernel_size=(3,), stride=(1,))\n",
       "  )\n",
       "  (bn2): BatchNorm1d(32, eps=1e-05, momentum=0.1, affine=True, track_running_stats=True)\n",
       "  (pool2): MaxPool1d(kernel_size=4, stride=4, padding=0, dilation=1, ceil_mode=False)\n",
       "  (fgn_conv3): FGN_Conv1d(\n",
       "    (Conv1d): Conv1d(32, 64, kernel_size=(3,), stride=(1,))\n",
       "  )\n",
       "  (bn3): BatchNorm1d(64, eps=1e-05, momentum=0.1, affine=True, track_running_stats=True)\n",
       "  (pool3): MaxPool1d(kernel_size=4, stride=4, padding=0, dilation=1, ceil_mode=False)\n",
       "  (fgn_conv4): FGN_Conv1d(\n",
       "    (Conv1d): Conv1d(64, 64, kernel_size=(3,), stride=(1,))\n",
       "  )\n",
       "  (bn4): BatchNorm1d(64, eps=1e-05, momentum=0.1, affine=True, track_running_stats=True)\n",
       "  (pool4): MaxPool1d(kernel_size=4, stride=4, padding=0, dilation=1, ceil_mode=False)\n",
       "  (fc1): Linear(in_features=64, out_features=35, bias=True)\n",
       ")"
      ]
     },
     "execution_count": 12,
     "metadata": {},
     "output_type": "execute_result"
    }
   ],
   "source": [
    "# set all models to eval mode\n",
    "classic_model.eval()\n",
    "fgn_model_from_scratch.eval()\n",
    "fgn_model_converted_no_retraining.eval()\n",
    "fgn_model_converted_fast_retraining.eval()\n",
    "fgn_model_converted_long_retraining.eval()"
   ]
  },
  {
   "cell_type": "code",
   "execution_count": 13,
   "id": "26c9f2d4",
   "metadata": {},
   "outputs": [],
   "source": [
    "# functions to test models\n",
    "def number_of_correct(pred, target):\n",
    "    # count number of correct predictions\n",
    "    return pred.squeeze().eq(target).sum().item()\n",
    "\n",
    "\n",
    "def get_likely_index(tensor):\n",
    "    # find most likely label index for each element in the batch\n",
    "    return tensor.argmax(dim=-1)\n",
    "\n",
    "\n",
    "def test(model, loader):\n",
    "    model.eval()\n",
    "    correct = 0\n",
    "    for data, target in loader:\n",
    "\n",
    "        data = data.to(device)\n",
    "        target = target.to(device)\n",
    "\n",
    "        # apply transform and model on whole batch directly on device\n",
    "        output = model(data)\n",
    "\n",
    "        pred = get_likely_index(output)\n",
    "        correct += number_of_correct(pred, target)\n",
    "\n",
    "    print(f'Accuracy: {correct}/{len(loader.dataset)} ({100. * correct / len(loader.dataset):.0f}%)')"
   ]
  },
  {
   "cell_type": "code",
   "execution_count": 14,
   "id": "f43d3890",
   "metadata": {},
   "outputs": [
    {
     "name": "stdout",
     "output_type": "stream",
     "text": [
      "Train/Test/Val accuracy for Classic Model\n",
      "Accuracy: 76655/84843 (90%)\n",
      "Accuracy: 8755/9981 (88%)\n",
      "Accuracy: 9468/11005 (86%)\n",
      "Train/Test/Val accuracy for FGN model trained from scratch\n",
      "Accuracy: 73489/84843 (87%)\n",
      "Accuracy: 8572/9981 (86%)\n",
      "Accuracy: 9244/11005 (84%)\n",
      "Train/Test/Val accuracy for FGN model converted from classic (no retraining)\n",
      "Accuracy: 76655/84843 (90%)\n",
      "Accuracy: 8755/9981 (88%)\n",
      "Accuracy: 9468/11005 (86%)\n",
      "Train/Test/Val accuracy for FGN model converted from classic (fast retraining)\n",
      "Accuracy: 76264/84843 (90%)\n",
      "Accuracy: 8654/9981 (87%)\n",
      "Accuracy: 9394/11005 (85%)\n",
      "Train/Test/Val accuracy for FGN model converted from classic (long retraining)\n",
      "Accuracy: 77561/84843 (91%)\n",
      "Accuracy: 8726/9981 (87%)\n",
      "Accuracy: 9411/11005 (86%)\n"
     ]
    }
   ],
   "source": [
    "# # verify accuracies\n",
    "print('Train/Test/Val accuracy for Classic Model')\n",
    "test(classic_model, train_loader)\n",
    "test(classic_model, val_loader)\n",
    "test(classic_model, test_loader)\n",
    "\n",
    "print('Train/Test/Val accuracy for FGN model trained from scratch')\n",
    "test(fgn_model_from_scratch, train_loader)\n",
    "test(fgn_model_from_scratch, val_loader)\n",
    "test(fgn_model_from_scratch, test_loader)\n",
    "\n",
    "print('Train/Test/Val accuracy for FGN model converted from classic (no retraining)')\n",
    "test(fgn_model_converted_no_retraining, train_loader)\n",
    "test(fgn_model_converted_no_retraining, val_loader)\n",
    "test(fgn_model_converted_no_retraining, test_loader)\n",
    "\n",
    "print('Train/Test/Val accuracy for FGN model converted from classic (fast retraining)')\n",
    "test(fgn_model_converted_fast_retraining, train_loader)\n",
    "test(fgn_model_converted_fast_retraining, val_loader)\n",
    "test(fgn_model_converted_fast_retraining, test_loader)\n",
    "\n",
    "print('Train/Test/Val accuracy for FGN model converted from classic (long retraining)')\n",
    "test(fgn_model_converted_long_retraining, train_loader)\n",
    "test(fgn_model_converted_long_retraining, val_loader)\n",
    "test(fgn_model_converted_long_retraining, test_loader)"
   ]
  },
  {
   "cell_type": "code",
   "execution_count": 14,
   "id": "d28d3fde",
   "metadata": {},
   "outputs": [],
   "source": [
    "### Start Attacking the models"
   ]
  },
  {
   "cell_type": "code",
   "execution_count": 15,
   "id": "74c76526",
   "metadata": {},
   "outputs": [],
   "source": [
    "import foolbox"
   ]
  },
  {
   "cell_type": "code",
   "execution_count": 16,
   "id": "62a078c7",
   "metadata": {},
   "outputs": [],
   "source": [
    "import numpy as np"
   ]
  },
  {
   "cell_type": "code",
   "execution_count": 17,
   "id": "7ab23aae",
   "metadata": {},
   "outputs": [],
   "source": [
    "# # extract values\n",
    "# (waveforms, sample_rates, target_labels, speaker_ids, utterance_numbers) = (zip(*[train_loader.dataset[i] \n",
    "#                                                                                       for i in range(int(len(train_loader.dataset)/1))]))"
   ]
  },
  {
   "cell_type": "code",
   "execution_count": 18,
   "id": "968b438d",
   "metadata": {},
   "outputs": [],
   "source": [
    "# use this until I figure out the rest \n",
    "for waveforms, target_labels in val_loader:\n",
    "    break\n",
    "waveforms=waveforms.to(device)\n",
    "target_labels=target_labels.to(device)"
   ]
  },
  {
   "cell_type": "code",
   "execution_count": 19,
   "id": "e161112d",
   "metadata": {},
   "outputs": [],
   "source": [
    "# # make sure all waveforms have the same length\n",
    "### !! Normally padding is already done.\n",
    "# waveforms = torch.stack([torch.nn.functional.pad(x, pad=(0, 16000 - x.numel()), mode='constant') for x in  waveforms])"
   ]
  },
  {
   "cell_type": "code",
   "execution_count": 20,
   "id": "83df755a",
   "metadata": {},
   "outputs": [
    {
     "name": "stdout",
     "output_type": "stream",
     "text": [
      "35\n"
     ]
    }
   ],
   "source": [
    "labels = ['backward', 'bed', 'bird', 'cat', 'dog', 'down', 'eight', 'five', 'follow', 'forward', 'four', 'go', 'happy', 'house', 'learn', 'left', 'marvin', 'nine',\n",
    " 'no', 'off', 'on', 'one', 'right', 'seven', 'sheila', 'six', 'stop', 'three', 'tree', 'two', 'up', 'visual', 'wow', 'yes', 'zero']\n",
    "print(len(labels))"
   ]
  },
  {
   "cell_type": "code",
   "execution_count": 21,
   "id": "1899da3d",
   "metadata": {},
   "outputs": [],
   "source": [
    "# convert target labels to right format ('backward'->[1,0,0,0,...])\n",
    "# this first line is not needed when running from val_load batch\n",
    "# target_labels = torch.tensor([torch.tensor(labels.index(word)) for word in target_labels])\n",
    "\n",
    "# target_labels = torch.tensor([np.random.randint(len(labels)) for _ in range(32)])"
   ]
  },
  {
   "cell_type": "code",
   "execution_count": 22,
   "id": "c9ba7b94",
   "metadata": {},
   "outputs": [
    {
     "name": "stdout",
     "output_type": "stream",
     "text": [
      "[False, False, False, False, False, False, True, False, False, False, False, False, False, False, False, False, False, False, False, False, False, False, True, False, False, False, False, False, False, False, False, False, False, False, False]\n"
     ]
    }
   ],
   "source": [
    "# check that all labels are in the targets\n",
    "print([l in target_labels for l in range(len(labels))])"
   ]
  },
  {
   "cell_type": "code",
   "execution_count": 23,
   "id": "8d9d85af",
   "metadata": {},
   "outputs": [],
   "source": [
    "# set model bounds and preprocessing\n",
    "\n",
    "# precomputed bounds min and max input values\n",
    "min_bound = -1.3844940662384033\n",
    "max_bound = 1.3773366212844849\n",
    "# min_bound = -10\n",
    "# max_bound = 10\n",
    "\n",
    "bounds = (min_bound, max_bound)\n",
    "# preprocessing - I think these would be used in similar way to pytorch preprocessing\n",
    "# but possible passed to whatever architecture is used (torch, tensorflow, other) \n",
    "# in my case the dataloaders already normalizes the data\n",
    "preprocessing = dict(mean=0, std=1)"
   ]
  },
  {
   "cell_type": "code",
   "execution_count": 24,
   "id": "d8b17d7d",
   "metadata": {},
   "outputs": [],
   "source": [
    "# ready the models for foolbox\n",
    "classic_f_model = foolbox.PyTorchModel(classic_model, bounds=bounds,\n",
    "                                       preprocessing=preprocessing, device=device)\n",
    "\n",
    "fgn_f_model_from_scratch = foolbox.PyTorchModel(fgn_model_from_scratch, bounds=bounds,\n",
    "                                       preprocessing=preprocessing, device=device)\n",
    "\n",
    "fgn_f_model_converted_no_retraining = foolbox.PyTorchModel(fgn_model_converted_no_retraining, bounds=bounds,\n",
    "                                       preprocessing=preprocessing, device=device)\n",
    "\n",
    "fgn_f_model_converted_fast_retraining = foolbox.PyTorchModel(fgn_model_converted_fast_retraining, bounds=bounds,\n",
    "                                       preprocessing=preprocessing, device=device)\n",
    "\n",
    "fgn_f_model_converted_long_retraining = foolbox.PyTorchModel(fgn_model_converted_long_retraining, bounds=bounds,\n",
    "                                       preprocessing=preprocessing, device=device)\n"
   ]
  },
  {
   "cell_type": "code",
   "execution_count": 25,
   "id": "58c6bf9b",
   "metadata": {},
   "outputs": [],
   "source": [
    "# # check model accuracies ()\n",
    "# print('accuracies for classic and fgn models')\n",
    "# print(foolbox.accuracy(classic_f_model, waveforms, target_labels))\n",
    "# print(foolbox.accuracy(fgn_f_model_from_scratch, waveforms, target_labels))\n",
    "# print(foolbox.accuracy(fgn_f_model_converted_no_retraining, waveforms, target_labels))\n",
    "# print(foolbox.accuracy(fgn_f_model_converted_fast_retraining, waveforms, target_labels))\n",
    "# print(foolbox.accuracy(fgn_f_model_converted_long_retraining, waveforms, target_labels))"
   ]
  },
  {
   "cell_type": "code",
   "execution_count": 26,
   "id": "7fd86c7a",
   "metadata": {},
   "outputs": [],
   "source": [
    "from tqdm.notebook import tqdm"
   ]
  },
  {
   "cell_type": "code",
   "execution_count": 27,
   "id": "21d6ed6c",
   "metadata": {},
   "outputs": [],
   "source": [
    "# foolbox.accuracy doesn't work with dataloaders, so building a custom func to do so\n",
    "def f_accuracy(model, dataloader, proc_func=None):\n",
    "    # given a model and a dataloader, computes accuracy\n",
    "    # proc_func is a processing function to apply to the values of the dataloader\n",
    "    # that returns (inputs, targets)\n",
    "    \n",
    "    # get model device\n",
    "    device = model.device\n",
    "    \n",
    "    running_count = 0\n",
    "    running_average = 0\n",
    "    # go through the dataset (assumes inputs and target are what is returned )\n",
    "    for batch in tqdm(dataloader):\n",
    "        # apply proc_func \n",
    "        if proc_func != None:\n",
    "            inputs, targets = proc_func(*batch)\n",
    "        else:\n",
    "            inputs, targets = batch\n",
    "        \n",
    "        # send data to proper device\n",
    "        inputs = inputs.to(device)\n",
    "        targets = targets.to(device)\n",
    "\n",
    "        # update running average accuracy and count\n",
    "        running_average = (len(inputs)*foolbox.utils.accuracy(model, inputs, targets) + running_count*running_average)/(len(inputs)+running_count)\n",
    "        running_count += len(inputs)\n",
    "    \n",
    "    return(running_average)\n"
   ]
  },
  {
   "cell_type": "code",
   "execution_count": 28,
   "id": "942ddfb4",
   "metadata": {},
   "outputs": [
    {
     "name": "stdout",
     "output_type": "stream",
     "text": [
      "Train/Test/Val accuracy for Classic Model\n"
     ]
    },
    {
     "data": {
      "application/vnd.jupyter.widget-view+json": {
       "model_id": "b2cad7be1ad94ea599ed69f4f9b0ea79",
       "version_major": 2,
       "version_minor": 0
      },
      "text/plain": [
       "HBox(children=(FloatProgress(value=0.0, max=2652.0), HTML(value='')))"
      ]
     },
     "metadata": {},
     "output_type": "display_data"
    },
    {
     "name": "stdout",
     "output_type": "stream",
     "text": [
      "\n",
      "0.9034923329007467\n"
     ]
    },
    {
     "data": {
      "application/vnd.jupyter.widget-view+json": {
       "model_id": "8755cda23a5340298749b2b2d06cb741",
       "version_major": 2,
       "version_minor": 0
      },
      "text/plain": [
       "HBox(children=(FloatProgress(value=0.0, max=312.0), HTML(value='')))"
      ]
     },
     "metadata": {},
     "output_type": "display_data"
    },
    {
     "name": "stdout",
     "output_type": "stream",
     "text": [
      "\n",
      "0.8771666166371758\n"
     ]
    },
    {
     "data": {
      "application/vnd.jupyter.widget-view+json": {
       "model_id": "ce27d6971aa5454d808e3bfc1b1dc174",
       "version_major": 2,
       "version_minor": 0
      },
      "text/plain": [
       "HBox(children=(FloatProgress(value=0.0, max=344.0), HTML(value='')))"
      ]
     },
     "metadata": {},
     "output_type": "display_data"
    },
    {
     "name": "stdout",
     "output_type": "stream",
     "text": [
      "\n",
      "0.860336210726608\n"
     ]
    }
   ],
   "source": [
    "# check model accuracies\n",
    "print('Train/Test/Val accuracy for Classic Model')\n",
    "print(f_accuracy(classic_f_model, train_loader))\n",
    "print(f_accuracy(classic_f_model, val_loader))\n",
    "print(f_accuracy(classic_f_model, test_loader))"
   ]
  },
  {
   "cell_type": "code",
   "execution_count": 29,
   "id": "75db9883",
   "metadata": {},
   "outputs": [
    {
     "name": "stdout",
     "output_type": "stream",
     "text": [
      "Train/Test/Val accuracy for FGN model trained from scratch\n"
     ]
    },
    {
     "data": {
      "application/vnd.jupyter.widget-view+json": {
       "model_id": "5b6f3d16a5044025846770d71fcdee38",
       "version_major": 2,
       "version_minor": 0
      },
      "text/plain": [
       "HBox(children=(FloatProgress(value=0.0, max=2652.0), HTML(value='')))"
      ]
     },
     "metadata": {},
     "output_type": "display_data"
    },
    {
     "name": "stdout",
     "output_type": "stream",
     "text": [
      "\n",
      "0.8661763492638876\n"
     ]
    },
    {
     "data": {
      "application/vnd.jupyter.widget-view+json": {
       "model_id": "cf701e20ff7c4a4586001b860a993393",
       "version_major": 2,
       "version_minor": 0
      },
      "text/plain": [
       "HBox(children=(FloatProgress(value=0.0, max=312.0), HTML(value='')))"
      ]
     },
     "metadata": {},
     "output_type": "display_data"
    },
    {
     "name": "stdout",
     "output_type": "stream",
     "text": [
      "\n",
      "0.8588317804484171\n"
     ]
    },
    {
     "data": {
      "application/vnd.jupyter.widget-view+json": {
       "model_id": "c3ab9d242ac64f6d98ad79d5ffe7bd21",
       "version_major": 2,
       "version_minor": 0
      },
      "text/plain": [
       "HBox(children=(FloatProgress(value=0.0, max=344.0), HTML(value='')))"
      ]
     },
     "metadata": {},
     "output_type": "display_data"
    },
    {
     "name": "stdout",
     "output_type": "stream",
     "text": [
      "\n",
      "0.8399818263558677\n"
     ]
    }
   ],
   "source": [
    "print('Train/Test/Val accuracy for FGN model trained from scratch')\n",
    "print(f_accuracy(fgn_f_model_from_scratch, train_loader))\n",
    "print(f_accuracy(fgn_f_model_from_scratch, val_loader))\n",
    "print(f_accuracy(fgn_f_model_from_scratch, test_loader))"
   ]
  },
  {
   "cell_type": "code",
   "execution_count": 30,
   "id": "2ec85e96",
   "metadata": {},
   "outputs": [
    {
     "name": "stdout",
     "output_type": "stream",
     "text": [
      "Train/Test/Val accuracy for FGN model converted from classic (no retraining)\n"
     ]
    },
    {
     "data": {
      "application/vnd.jupyter.widget-view+json": {
       "model_id": "c7bf70e0cac242b6b2c9ed4a852ff32d",
       "version_major": 2,
       "version_minor": 0
      },
      "text/plain": [
       "HBox(children=(FloatProgress(value=0.0, max=2652.0), HTML(value='')))"
      ]
     },
     "metadata": {},
     "output_type": "display_data"
    },
    {
     "name": "stdout",
     "output_type": "stream",
     "text": [
      "\n",
      "0.9034923329007465\n"
     ]
    },
    {
     "data": {
      "application/vnd.jupyter.widget-view+json": {
       "model_id": "736d311e7cc34cc382f41dcbe35c78fc",
       "version_major": 2,
       "version_minor": 0
      },
      "text/plain": [
       "HBox(children=(FloatProgress(value=0.0, max=312.0), HTML(value='')))"
      ]
     },
     "metadata": {},
     "output_type": "display_data"
    },
    {
     "name": "stdout",
     "output_type": "stream",
     "text": [
      "\n",
      "0.8771666166371758\n"
     ]
    },
    {
     "data": {
      "application/vnd.jupyter.widget-view+json": {
       "model_id": "4f71df68ecf546aeb4143a7526f1f447",
       "version_major": 2,
       "version_minor": 0
      },
      "text/plain": [
       "HBox(children=(FloatProgress(value=0.0, max=344.0), HTML(value='')))"
      ]
     },
     "metadata": {},
     "output_type": "display_data"
    },
    {
     "name": "stdout",
     "output_type": "stream",
     "text": [
      "\n",
      "0.860336210726608\n"
     ]
    }
   ],
   "source": [
    "print('Train/Test/Val accuracy for FGN model converted from classic (no retraining)')\n",
    "print(f_accuracy(fgn_f_model_converted_no_retraining, train_loader))\n",
    "print(f_accuracy(fgn_f_model_converted_no_retraining, val_loader))\n",
    "print(f_accuracy(fgn_f_model_converted_no_retraining, test_loader))"
   ]
  },
  {
   "cell_type": "code",
   "execution_count": 31,
   "id": "db3d8c19",
   "metadata": {},
   "outputs": [
    {
     "name": "stdout",
     "output_type": "stream",
     "text": [
      "Train/Test/Val accuracy for FGN model converted from classic (fast retraining)\n"
     ]
    },
    {
     "data": {
      "application/vnd.jupyter.widget-view+json": {
       "model_id": "aa9743f5b06a4fcf903904b7bfea670e",
       "version_major": 2,
       "version_minor": 0
      },
      "text/plain": [
       "HBox(children=(FloatProgress(value=0.0, max=2652.0), HTML(value='')))"
      ]
     },
     "metadata": {},
     "output_type": "display_data"
    },
    {
     "name": "stdout",
     "output_type": "stream",
     "text": [
      "\n",
      "0.8988838207076367\n"
     ]
    },
    {
     "data": {
      "application/vnd.jupyter.widget-view+json": {
       "model_id": "fe02d9ac45f04686bfa7c279fa397141",
       "version_major": 2,
       "version_minor": 0
      },
      "text/plain": [
       "HBox(children=(FloatProgress(value=0.0, max=312.0), HTML(value='')))"
      ]
     },
     "metadata": {},
     "output_type": "display_data"
    },
    {
     "name": "stdout",
     "output_type": "stream",
     "text": [
      "\n",
      "0.867047390106768\n"
     ]
    },
    {
     "data": {
      "application/vnd.jupyter.widget-view+json": {
       "model_id": "ca3a577311bf4db68728f7afe05903df",
       "version_major": 2,
       "version_minor": 0
      },
      "text/plain": [
       "HBox(children=(FloatProgress(value=0.0, max=344.0), HTML(value='')))"
      ]
     },
     "metadata": {},
     "output_type": "display_data"
    },
    {
     "name": "stdout",
     "output_type": "stream",
     "text": [
      "\n",
      "0.8536119945100198\n"
     ]
    }
   ],
   "source": [
    "print('Train/Test/Val accuracy for FGN model converted from classic (fast retraining)')\n",
    "print(f_accuracy(fgn_f_model_converted_fast_retraining, train_loader))\n",
    "print(f_accuracy(fgn_f_model_converted_fast_retraining, val_loader))\n",
    "print(f_accuracy(fgn_f_model_converted_fast_retraining, test_loader))"
   ]
  },
  {
   "cell_type": "code",
   "execution_count": 32,
   "id": "06793402",
   "metadata": {},
   "outputs": [
    {
     "name": "stdout",
     "output_type": "stream",
     "text": [
      "Train/Test/Val accuracy for FGN model converted from classic (long retraining)\n"
     ]
    },
    {
     "data": {
      "application/vnd.jupyter.widget-view+json": {
       "model_id": "2056f722cc5a49019bc97ad7bb031fec",
       "version_major": 2,
       "version_minor": 0
      },
      "text/plain": [
       "HBox(children=(FloatProgress(value=0.0, max=2652.0), HTML(value='')))"
      ]
     },
     "metadata": {},
     "output_type": "display_data"
    },
    {
     "name": "stdout",
     "output_type": "stream",
     "text": [
      "\n",
      "0.9141708803340147\n"
     ]
    },
    {
     "data": {
      "application/vnd.jupyter.widget-view+json": {
       "model_id": "985b781f85804b68bb73ee00dfefce3f",
       "version_major": 2,
       "version_minor": 0
      },
      "text/plain": [
       "HBox(children=(FloatProgress(value=0.0, max=312.0), HTML(value='')))"
      ]
     },
     "metadata": {},
     "output_type": "display_data"
    },
    {
     "name": "stdout",
     "output_type": "stream",
     "text": [
      "\n",
      "0.8742610961482465\n"
     ]
    },
    {
     "data": {
      "application/vnd.jupyter.widget-view+json": {
       "model_id": "507157f28afd447aae494beeafe636fb",
       "version_major": 2,
       "version_minor": 0
      },
      "text/plain": [
       "HBox(children=(FloatProgress(value=0.0, max=344.0), HTML(value='')))"
      ]
     },
     "metadata": {},
     "output_type": "display_data"
    },
    {
     "name": "stdout",
     "output_type": "stream",
     "text": [
      "\n",
      "0.8551567468465542\n"
     ]
    }
   ],
   "source": [
    "print('Train/Test/Val accuracy for FGN model converted from classic (long retraining)')\n",
    "print(f_accuracy(fgn_f_model_converted_long_retraining, train_loader))\n",
    "print(f_accuracy(fgn_f_model_converted_long_retraining, val_loader))\n",
    "print(f_accuracy(fgn_f_model_converted_long_retraining, test_loader))"
   ]
  },
  {
   "cell_type": "code",
   "execution_count": 28,
   "id": "4d1ef7fc",
   "metadata": {},
   "outputs": [],
   "source": [
    "### looks like they are the same, continue attacks"
   ]
  },
  {
   "cell_type": "code",
   "execution_count": 29,
   "id": "ec5ed013",
   "metadata": {},
   "outputs": [
    {
     "name": "stdout",
     "output_type": "stream",
     "text": [
      "epsilons: tensor([ 0.0000,  0.0781,  0.1172,  0.1562,  0.2344,  0.3125,  0.4688,  0.6250,\n",
      "         0.9375,  1.2500,  1.8750,  2.5000,  3.7500,  5.0000,  7.5000, 10.0000,\n",
      "        15.0000, 20.0000], device='cuda:1')\n"
     ]
    }
   ],
   "source": [
    "# attack params to explore\n",
    "epsilons = torch.tensor([(max_bound-min_bound)*x \n",
    "            for x in \n",
    "            [0.0,\n",
    "             1/256,\n",
    "             3/512,\n",
    "             1/128,\n",
    "             3/256,\n",
    "             1/64,\n",
    "             3/128,\n",
    "             1/32,\n",
    "             3/64,\n",
    "             1/16,\n",
    "             3/32,\n",
    "             1/8,\n",
    "             3/16,\n",
    "             1/4,\n",
    "             3/8,\n",
    "             1/2,\n",
    "             3/4,\n",
    "             1.0,] ], device=device)\n",
    "\n",
    "print('epsilons: {}'.format(epsilons))"
   ]
  },
  {
   "cell_type": "code",
   "execution_count": 30,
   "id": "7ef2d39b",
   "metadata": {},
   "outputs": [],
   "source": [
    "### attack parameters\n",
    "\n",
    "L2CarliniWagner_attack=foolbox.attacks.L2CarliniWagnerAttack()\n",
    "# LinfPGD_attack=foolbox.attacks.LinfPGD()\n",
    "\n",
    "# targetted vs untargetted\n",
    "from foolbox.criteria import Misclassification"
   ]
  },
  {
   "cell_type": "code",
   "execution_count": null,
   "id": "6be04c50",
   "metadata": {},
   "outputs": [],
   "source": [
    "L2CarliniWagner_attack()"
   ]
  },
  {
   "cell_type": "code",
   "execution_count": 31,
   "id": "5a69feba",
   "metadata": {},
   "outputs": [],
   "source": [
    "# define the entire attack function using epsilons, criterion,\n",
    "\n",
    "def L2CarliniWagner_attack_func(f_model, inputs, labels):\n",
    "    device = f_model.device\n",
    "    inputs = inputs.to(device)\n",
    "    criterions = Misclassification(labels.to(device))\n",
    "    return L2CarliniWagner_attack(model=f_model, inputs=inputs, criterion=criterions, epsilons=epsilons)"
   ]
  },
  {
   "cell_type": "code",
   "execution_count": 32,
   "id": "deaeeb08",
   "metadata": {},
   "outputs": [],
   "source": [
    "# write a function that attacks a model using a dataloader\n",
    "\n",
    "def perform_attack(attack_func, f_model, dataloader):\n",
    "    # iterates over dataloader \n",
    "    # attack is the attack function AFTER being defined: ex LinfPGD_attack=foolbox.attacks.LinfPGD()\n",
    "    # (so it's the output foolbox.attacks.LinfPGD(), not foolbox.attacks.LinfPGD itself)\n",
    "    # ensure the dataloader iterator returns (inputs, labels) \n",
    "    \n",
    "    # defines results to return, shape is (epsilons, sample, (sample shape))=(18,32xbatches,1,8000)\n",
    "    num_epsilons = 18 # hardcoded for now\n",
    "    data_shape = (1,8000) # next(iter(dataloader))[0].shape[1:] # this could be expensive, hardcoded for now\n",
    "    # create empty lists of the right shape\n",
    "    results = {'adv_raw':np.array([]).reshape((num_epsilons, 0, *(data_shape))),\n",
    "               'adv_clipped':np.array([]).reshape((num_epsilons, 0, *(data_shape))),\n",
    "               'adv_success':np.array([]).reshape((num_epsilons, 0))}\n",
    "    \n",
    "    # iterate over loader\n",
    "    for inputs, labels in tqdm(dataloader):\n",
    "        \n",
    "        # attack\n",
    "        adv_raw, adv_clipped, adv_success = attack_func(f_model = f_model, \n",
    "                                                        inputs = inputs, \n",
    "                                                        labels =labels\n",
    "                                                       )\n",
    "        # compile with results\n",
    "        results['adv_raw'] = np.concatenate([results['adv_raw'],\n",
    "                                             np.array([x.cpu().numpy() for x in adv_raw])],\n",
    "                                            axis=1)\n",
    "        results['adv_clipped'] = np.concatenate([results['adv_clipped'],\n",
    "                                                 np.array([x.cpu().numpy() for x in adv_clipped])],\n",
    "                                                axis=1)\n",
    "        results['adv_success'] = np.concatenate([results['adv_success'],\n",
    "                                                 np.array([x.cpu().numpy() for x in adv_success])],\n",
    "                                                axis=1)\n",
    "    \n",
    "    # return results dictionary\n",
    "    return(results)"
   ]
  },
  {
   "cell_type": "code",
   "execution_count": 33,
   "id": "901d5447",
   "metadata": {},
   "outputs": [
    {
     "data": {
      "application/vnd.jupyter.widget-view+json": {
       "model_id": "df151a02cf934ea880068f23a08e613c",
       "version_major": 2,
       "version_minor": 0
      },
      "text/plain": [
       "HBox(children=(FloatProgress(value=0.0, max=20.0), HTML(value='')))"
      ]
     },
     "metadata": {},
     "output_type": "display_data"
    },
    {
     "name": "stdout",
     "output_type": "stream",
     "text": [
      "\n"
     ]
    }
   ],
   "source": [
    "classic_results = perform_attack(L2CarliniWagner_attack_func, classic_f_model, val_loader)"
   ]
  },
  {
   "cell_type": "code",
   "execution_count": 51,
   "id": "c5392f84",
   "metadata": {},
   "outputs": [],
   "source": [
    "import IPython.display as ipd"
   ]
  },
  {
   "cell_type": "code",
   "execution_count": 63,
   "id": "3d9dcc58",
   "metadata": {},
   "outputs": [
    {
     "data": {
      "text/plain": [
       "1.0"
      ]
     },
     "execution_count": 63,
     "metadata": {},
     "output_type": "execute_result"
    }
   ],
   "source": [
    "classic_results['adv_success'][-1][0]"
   ]
  },
  {
   "cell_type": "code",
   "execution_count": 65,
   "id": "e0c75559",
   "metadata": {},
   "outputs": [
    {
     "data": {
      "text/html": [
       "\n",
       "                <audio  controls=\"controls\" >\n",
       "                    <source src=\"data:audio/wav;base64,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\" type=\"audio/wav\" />\n",
       "                    Your browser does not support the audio element.\n",
       "                </audio>\n",
       "              "
      ],
      "text/plain": [
       "<IPython.lib.display.Audio object>"
      ]
     },
     "execution_count": 65,
     "metadata": {},
     "output_type": "execute_result"
    }
   ],
   "source": [
    "waveform_first, *_ = classic_results['adv_clipped'][-1][1000]\n",
    "ipd.Audio(waveform_first, rate=8000)"
   ]
  },
  {
   "cell_type": "code",
   "execution_count": 67,
   "id": "731da08b",
   "metadata": {},
   "outputs": [
    {
     "data": {
      "text/plain": [
       "array([[-4.33688692e-04, -8.05183896e-04,  7.93487561e-05, ...,\n",
       "         3.53582669e-04,  2.24959935e-04,  4.96708322e-04]])"
      ]
     },
     "execution_count": 67,
     "metadata": {},
     "output_type": "execute_result"
    }
   ],
   "source": [
    "classic_results['adv_clipped'][0][1000]"
   ]
  },
  {
   "cell_type": "code",
   "execution_count": 66,
   "id": "75794fa7",
   "metadata": {},
   "outputs": [
    {
     "data": {
      "text/plain": [
       "array([[-0.00055116, -0.00098984, -0.00014382, ...,  0.00035358,\n",
       "         0.00022496,  0.00049671]])"
      ]
     },
     "execution_count": 66,
     "metadata": {},
     "output_type": "execute_result"
    }
   ],
   "source": [
    "classic_results['adv_clipped'][-1][1000]"
   ]
  },
  {
   "cell_type": "code",
   "execution_count": 36,
   "id": "f4458f1c",
   "metadata": {},
   "outputs": [
    {
     "data": {
      "text/plain": [
       "(18, 9981, 1, 8000)"
      ]
     },
     "execution_count": 36,
     "metadata": {},
     "output_type": "execute_result"
    }
   ],
   "source": [
    "classic_results['adv_raw'].shape"
   ]
  },
  {
   "cell_type": "code",
   "execution_count": 40,
   "id": "ad1cc749",
   "metadata": {},
   "outputs": [],
   "source": [
    "import sys\n",
    "from types import ModuleType, FunctionType\n",
    "from gc import get_referents\n",
    "\n",
    "# Custom objects know their class.\n",
    "# Function objects seem to know way too much, including modules.\n",
    "# Exclude modules as well.\n",
    "BLACKLIST = type, ModuleType, FunctionType\n",
    "\n",
    "\n",
    "def getsize(obj):\n",
    "    \"\"\"sum size of object & members.\"\"\"\n",
    "    if isinstance(obj, BLACKLIST):\n",
    "        raise TypeError('getsize() does not take argument of type: '+ str(type(obj)))\n",
    "    seen_ids = set()\n",
    "    size = 0\n",
    "    objects = [obj]\n",
    "    while objects:\n",
    "        need_referents = []\n",
    "        for obj in objects:\n",
    "            if not isinstance(obj, BLACKLIST) and id(obj) not in seen_ids:\n",
    "                seen_ids.add(id(obj))\n",
    "                size += sys.getsizeof(obj)\n",
    "                need_referents.append(obj)\n",
    "        objects = get_referents(*need_referents)\n",
    "    return size"
   ]
  },
  {
   "cell_type": "code",
   "execution_count": 41,
   "id": "da0b8b51",
   "metadata": {},
   "outputs": [
    {
     "data": {
      "text/plain": [
       "22997661904"
      ]
     },
     "execution_count": 41,
     "metadata": {},
     "output_type": "execute_result"
    }
   ],
   "source": [
    "getsize(classic_results)"
   ]
  },
  {
   "cell_type": "code",
   "execution_count": 46,
   "id": "b14818f0",
   "metadata": {},
   "outputs": [],
   "source": [
    "# results dict is too large to save on its own apparently (about 22GB total), so split it up\n",
    "import pickle as pickle\n",
    "with open('../Experiments/adversarial_attacks_results/L2CarliniWagner_classic_results_adv_raw.pickle', 'wb') as handle:\n",
    "    pickle.dump(classic_results['adv_raw'], handle, protocol=4)"
   ]
  },
  {
   "cell_type": "code",
   "execution_count": 47,
   "id": "d92dde55",
   "metadata": {},
   "outputs": [],
   "source": [
    "with open('../Experiments/adversarial_attacks_results/L2CarliniWagner_classic_results_adv_clipped.pickle', 'wb') as handle:\n",
    "    pickle.dump(classic_results['adv_clipped'], handle, protocol=4)"
   ]
  },
  {
   "cell_type": "code",
   "execution_count": 48,
   "id": "ec8adfd0",
   "metadata": {},
   "outputs": [],
   "source": [
    "with open('../Experiments/adversarial_attacks_results/L2CarliniWagner_classic_results_adv_success.pickle', 'wb') as handle:\n",
    "    pickle.dump(classic_results['adv_success'], handle, protocol=4)"
   ]
  },
  {
   "cell_type": "code",
   "execution_count": 125,
   "id": "f1cc9c08",
   "metadata": {
    "scrolled": false
   },
   "outputs": [
    {
     "data": {
      "application/vnd.jupyter.widget-view+json": {
       "model_id": "ec2d24b4c39441879f65044177dfde0b",
       "version_major": 2,
       "version_minor": 0
      },
      "text/plain": [
       "HBox(children=(FloatProgress(value=0.0, max=2652.0), HTML(value='')))"
      ]
     },
     "metadata": {},
     "output_type": "display_data"
    },
    {
     "name": "stdout",
     "output_type": "stream",
     "text": [
      "\n"
     ]
    },
    {
     "ename": "KeyboardInterrupt",
     "evalue": "",
     "output_type": "error",
     "traceback": [
      "\u001b[0;31m---------------------------------------------------------------------------\u001b[0m",
      "\u001b[0;31mKeyboardInterrupt\u001b[0m                         Traceback (most recent call last)",
      "\u001b[0;32m<ipython-input-125-0c6564763ee7>\u001b[0m in \u001b[0;36m<module>\u001b[0;34m\u001b[0m\n\u001b[1;32m     15\u001b[0m                                                                 \u001b[0minputs\u001b[0m\u001b[0;34m=\u001b[0m\u001b[0mwaveforms\u001b[0m\u001b[0;34m,\u001b[0m\u001b[0;34m\u001b[0m\u001b[0;34m\u001b[0m\u001b[0m\n\u001b[1;32m     16\u001b[0m                                                                 \u001b[0mepsilons\u001b[0m\u001b[0;34m=\u001b[0m\u001b[0mepsilons\u001b[0m\u001b[0;34m,\u001b[0m\u001b[0;34m\u001b[0m\u001b[0;34m\u001b[0m\u001b[0m\n\u001b[0;32m---> 17\u001b[0;31m                                                                 criterion=criterion)\n\u001b[0m\u001b[1;32m     18\u001b[0m \u001b[0;31m#     classic_results['classic_adv_raw'] = np.stack(classic_adv_raw.cpu().numpy(),classic_results['classic_adv_raw'], axis=-1)\u001b[0m\u001b[0;34m\u001b[0m\u001b[0;34m\u001b[0m\u001b[0;34m\u001b[0m\u001b[0m\n\u001b[1;32m     19\u001b[0m \u001b[0;31m#     classic_results['classic_adv_clipped']+=(classic_adv_clipped)\u001b[0m\u001b[0;34m\u001b[0m\u001b[0;34m\u001b[0m\u001b[0;34m\u001b[0m\u001b[0m\n",
      "\u001b[0;32m~/.local/lib/python3.6/site-packages/foolbox/attacks/base.py\u001b[0m in \u001b[0;36m__call__\u001b[0;34m(***failed resolving arguments***)\u001b[0m\n\u001b[1;32m    408\u001b[0m \u001b[0;34m\u001b[0m\u001b[0m\n\u001b[1;32m    409\u001b[0m         \u001b[0;31m# run the actual attack\u001b[0m\u001b[0;34m\u001b[0m\u001b[0;34m\u001b[0m\u001b[0;34m\u001b[0m\u001b[0m\n\u001b[0;32m--> 410\u001b[0;31m         \u001b[0mxp\u001b[0m \u001b[0;34m=\u001b[0m \u001b[0mself\u001b[0m\u001b[0;34m.\u001b[0m\u001b[0mrun\u001b[0m\u001b[0;34m(\u001b[0m\u001b[0mmodel\u001b[0m\u001b[0;34m,\u001b[0m \u001b[0mx\u001b[0m\u001b[0;34m,\u001b[0m \u001b[0mcriterion\u001b[0m\u001b[0;34m,\u001b[0m \u001b[0mearly_stop\u001b[0m\u001b[0;34m=\u001b[0m\u001b[0mearly_stop\u001b[0m\u001b[0;34m,\u001b[0m \u001b[0;34m**\u001b[0m\u001b[0mkwargs\u001b[0m\u001b[0;34m)\u001b[0m\u001b[0;34m\u001b[0m\u001b[0;34m\u001b[0m\u001b[0m\n\u001b[0m\u001b[1;32m    411\u001b[0m \u001b[0;34m\u001b[0m\u001b[0m\n\u001b[1;32m    412\u001b[0m         \u001b[0mxpcs\u001b[0m \u001b[0;34m=\u001b[0m \u001b[0;34m[\u001b[0m\u001b[0;34m]\u001b[0m\u001b[0;34m\u001b[0m\u001b[0;34m\u001b[0m\u001b[0m\n",
      "\u001b[0;32m~/.local/lib/python3.6/site-packages/foolbox/attacks/carlini_wagner.py\u001b[0m in \u001b[0;36mrun\u001b[0;34m(***failed resolving arguments***)\u001b[0m\n\u001b[1;32m    173\u001b[0m \u001b[0;34m\u001b[0m\u001b[0m\n\u001b[1;32m    174\u001b[0m                 \u001b[0mfound_advs_iter\u001b[0m \u001b[0;34m=\u001b[0m \u001b[0mis_adversarial\u001b[0m\u001b[0;34m(\u001b[0m\u001b[0mperturbed\u001b[0m\u001b[0;34m,\u001b[0m \u001b[0mlogits\u001b[0m\u001b[0;34m)\u001b[0m\u001b[0;34m\u001b[0m\u001b[0;34m\u001b[0m\u001b[0m\n\u001b[0;32m--> 175\u001b[0;31m                 \u001b[0mfound_advs\u001b[0m \u001b[0;34m=\u001b[0m \u001b[0mnp\u001b[0m\u001b[0;34m.\u001b[0m\u001b[0mlogical_or\u001b[0m\u001b[0;34m(\u001b[0m\u001b[0mfound_advs\u001b[0m\u001b[0;34m,\u001b[0m \u001b[0mfound_advs_iter\u001b[0m\u001b[0;34m.\u001b[0m\u001b[0mnumpy\u001b[0m\u001b[0;34m(\u001b[0m\u001b[0;34m)\u001b[0m\u001b[0;34m)\u001b[0m\u001b[0;34m\u001b[0m\u001b[0;34m\u001b[0m\u001b[0m\n\u001b[0m\u001b[1;32m    176\u001b[0m \u001b[0;34m\u001b[0m\u001b[0m\n\u001b[1;32m    177\u001b[0m                 \u001b[0mnorms\u001b[0m \u001b[0;34m=\u001b[0m \u001b[0mflatten\u001b[0m\u001b[0;34m(\u001b[0m\u001b[0mperturbed\u001b[0m \u001b[0;34m-\u001b[0m \u001b[0mx\u001b[0m\u001b[0;34m)\u001b[0m\u001b[0;34m.\u001b[0m\u001b[0mnorms\u001b[0m\u001b[0;34m.\u001b[0m\u001b[0ml2\u001b[0m\u001b[0;34m(\u001b[0m\u001b[0maxis\u001b[0m\u001b[0;34m=\u001b[0m\u001b[0;34m-\u001b[0m\u001b[0;36m1\u001b[0m\u001b[0;34m)\u001b[0m\u001b[0;34m\u001b[0m\u001b[0;34m\u001b[0m\u001b[0m\n",
      "\u001b[0;32m~/.local/lib/python3.6/site-packages/eagerpy/tensor/pytorch.py\u001b[0m in \u001b[0;36mnumpy\u001b[0;34m(self)\u001b[0m\n\u001b[1;32m     63\u001b[0m \u001b[0;34m\u001b[0m\u001b[0m\n\u001b[1;32m     64\u001b[0m     \u001b[0;32mdef\u001b[0m \u001b[0mnumpy\u001b[0m\u001b[0;34m(\u001b[0m\u001b[0mself\u001b[0m\u001b[0;34m:\u001b[0m \u001b[0mTensorType\u001b[0m\u001b[0;34m)\u001b[0m \u001b[0;34m->\u001b[0m \u001b[0mAny\u001b[0m\u001b[0;34m:\u001b[0m\u001b[0;34m\u001b[0m\u001b[0;34m\u001b[0m\u001b[0m\n\u001b[0;32m---> 65\u001b[0;31m         \u001b[0ma\u001b[0m \u001b[0;34m=\u001b[0m \u001b[0mself\u001b[0m\u001b[0;34m.\u001b[0m\u001b[0mraw\u001b[0m\u001b[0;34m.\u001b[0m\u001b[0mdetach\u001b[0m\u001b[0;34m(\u001b[0m\u001b[0;34m)\u001b[0m\u001b[0;34m.\u001b[0m\u001b[0mcpu\u001b[0m\u001b[0;34m(\u001b[0m\u001b[0;34m)\u001b[0m\u001b[0;34m.\u001b[0m\u001b[0mnumpy\u001b[0m\u001b[0;34m(\u001b[0m\u001b[0;34m)\u001b[0m\u001b[0;34m\u001b[0m\u001b[0;34m\u001b[0m\u001b[0m\n\u001b[0m\u001b[1;32m     66\u001b[0m         \u001b[0;32mif\u001b[0m \u001b[0ma\u001b[0m\u001b[0;34m.\u001b[0m\u001b[0mflags\u001b[0m\u001b[0;34m.\u001b[0m\u001b[0mwriteable\u001b[0m\u001b[0;34m:\u001b[0m\u001b[0;34m\u001b[0m\u001b[0;34m\u001b[0m\u001b[0m\n\u001b[1;32m     67\u001b[0m             \u001b[0;31m# without the check, we would attempt to set it on array\u001b[0m\u001b[0;34m\u001b[0m\u001b[0;34m\u001b[0m\u001b[0;34m\u001b[0m\u001b[0m\n",
      "\u001b[0;31mKeyboardInterrupt\u001b[0m: "
     ]
    }
   ],
   "source": [
    "# results are returned per epsilon, per sample\n",
    "classic_results = {'classic_adv_raw':[], 'classic_adv_clipped':[], 'classic_adv_success':[]}\n",
    "fgn_scratch_results = {'fgn_scratch_adv_raw':[], 'fgn_scratch_adv_clipped':[], 'fgn_scratch_adv_success':[]}\n",
    "fgn_conv_results = {'fgn_conv_adv_raw':[], 'fgn_conv_adv_clipped':[], 'fgn_conv_adv_success':[]}\n",
    "fgn_fast_results = {'fgn_fast_adv_raw':[], 'fgn_fast_adv_clipped':[], 'fgn_fast_adv_success':[]}\n",
    "fgn_long_results = {'fgn_long_adv_raw':[], 'fgn_long_adv_clipped':[], 'fgn_long_adv_success':[]}\n",
    "\n",
    "# attack the models over the train data\n",
    "for waveforms, target_labels in tqdm(train_loader):\n",
    "    waveforms = waveforms.to(device)\n",
    "    criterion = Misclassification(target_labels.to(device))\n",
    "\n",
    "    \n",
    "    classic_adv_raw, classic_adv_clipped, classic_adv_success = L2CarliniWagner_attack(model=classic_f_model,                                                            \n",
    "                                                                inputs=waveforms,\n",
    "                                                                epsilons=epsilons,\n",
    "                                                                criterion=criterion)\n",
    "#     classic_results['classic_adv_raw'] = np.stack(classic_adv_raw.cpu().numpy(),classic_results['classic_adv_raw'], axis=-1)\n",
    "#     classic_results['classic_adv_clipped']+=(classic_adv_clipped)\n",
    "#     classic_results['classic_adv_success']+=(classic_adv_success)\n",
    "    \n",
    "    \n",
    "#     fgn_scratch_adv_raw, fgn_scratch_adv_clipped, fgn_scratch_adv_success = LinfPGD_attack(model=fgn_f_model_from_scratch, \n",
    "#                                                                 inputs=waveforms,\n",
    "#                                                                 epsilons=epsilons,\n",
    "#                                                                 criterion=criterion)\n",
    "#     fgn_scratch_results['fgn_scratch_adv_raw']+=(fgn_scratch_adv_raw)\n",
    "#     fgn_scratch_results['fgn_scratch_adv_raw']+=(fgn_scratch_adv_raw)\n",
    "#     fgn_scratch_results['fgn_scratch_adv_raw']+=(fgn_scratch_adv_raw)\n",
    "    \n",
    "#     fgn_conv_adv_raw, fgn_conv_adv_clipped, fgn_conv_adv_success = LinfPGD_attack(model=fgn_f_model_converted_no_retraining, \n",
    "#                                                                 inputs=waveforms,\n",
    "#                                                                 epsilons=epsilons,\n",
    "#                                                                 criterion=criterion)\n",
    "#     fgn_conv_results['fgn_conv_adv_raw']+=(fgn_conv_adv_raw)\n",
    "#     fgn_conv_results['fgn_conv_adv_clipped']+=(fgn_conv_adv_clipped)\n",
    "#     fgn_conv_results['fgn_conv_adv_success']+=(fgn_conv_adv_success)\n",
    "    \n",
    "#     fgn_fast_adv_raw, fgn_fast_adv_clipped, fgn_fast_adv_success = LinfPGD_attack(model=fgn_f_model_converted_fast_retraining, \n",
    "#                                                                 inputs=waveforms,\n",
    "#                                                                 epsilons=epsilons,\n",
    "#                                                                 criterion=criterion)\n",
    "#     fgn_fast_results['fgn_fast_adv_raw']+=(fgn_fast_adv_raw)\n",
    "#     fgn_fast_results['fgn_fast_adv_clipped']+=(fgn_fast_adv_clipped)\n",
    "#     fgn_fast_results['fgn_fast_adv_success']+=(fgn_fast_adv_success)\n",
    "    \n",
    "#     fgn_long_adv_raw, fgn_long_adv_clipped, fgn_long_adv_success = LinfPGD_attack(model=fgn_f_model_converted_long_retraining, \n",
    "#                                                                 inputs=waveforms,\n",
    "#                                                                 epsilons=epsilons,\n",
    "#                                                                 criterion=criterion)\n",
    "#     fgn_long_results['fgn_long_adv_raw']+=(fgn_long_adv_raw)\n",
    "#     fgn_long_results['fgn_long_adv_clipped']+=(fgn_long_adv_clipped)\n",
    "#     fgn_long_results['fgn_long_adv_success']+=(fgn_long_adv_success)\n",
    "    "
   ]
  },
  {
   "cell_type": "code",
   "execution_count": 133,
   "id": "1e3b6213",
   "metadata": {},
   "outputs": [
    {
     "data": {
      "text/plain": [
       "(0,)"
      ]
     },
     "execution_count": 133,
     "metadata": {},
     "output_type": "execute_result"
    }
   ],
   "source": [
    "np.array([x.cpu().numpy() for x in classic_results['classic_adv_raw']]).shape"
   ]
  },
  {
   "cell_type": "code",
   "execution_count": 162,
   "id": "0661056a",
   "metadata": {},
   "outputs": [],
   "source": [
    "classic_results['classic_adv_raw'] = np.empty((18,0,*(1,8000)))"
   ]
  },
  {
   "cell_type": "code",
   "execution_count": 163,
   "id": "4ad948f1",
   "metadata": {},
   "outputs": [
    {
     "data": {
      "text/plain": [
       "(18, 32, 1, 8000)"
      ]
     },
     "execution_count": 163,
     "metadata": {},
     "output_type": "execute_result"
    }
   ],
   "source": [
    "np.concatenate([np.array([]).reshape((18,0,1,8000)),\n",
    "                np.array([x.cpu().numpy() for x in classic_adv_raw])],\n",
    "                axis=1\n",
    "              ).shape"
   ]
  },
  {
   "cell_type": "code",
   "execution_count": 78,
   "id": "d5528a43",
   "metadata": {},
   "outputs": [
    {
     "data": {
      "text/plain": [
       "(18, 32)"
      ]
     },
     "execution_count": 78,
     "metadata": {},
     "output_type": "execute_result"
    }
   ],
   "source": [
    "classic_adv_success.cpu().numpy().shape"
   ]
  },
  {
   "cell_type": "code",
   "execution_count": 82,
   "id": "ef26ed52",
   "metadata": {},
   "outputs": [
    {
     "data": {
      "text/plain": [
       "(18, 32, 1, 8000)"
      ]
     },
     "execution_count": 82,
     "metadata": {},
     "output_type": "execute_result"
    }
   ],
   "source": [
    "np.array([x.cpu().numpy() for x in classic_adv_raw]).shape"
   ]
  },
  {
   "cell_type": "code",
   "execution_count": 83,
   "id": "0b38892f",
   "metadata": {},
   "outputs": [
    {
     "data": {
      "text/plain": [
       "(18, 32, 1, 8000)"
      ]
     },
     "execution_count": 83,
     "metadata": {},
     "output_type": "execute_result"
    }
   ],
   "source": [
    "np.array([x.cpu().numpy() for x in classic_adv_clipped]).shape"
   ]
  },
  {
   "cell_type": "code",
   "execution_count": 165,
   "id": "f2a340fc",
   "metadata": {},
   "outputs": [
    {
     "data": {
      "text/plain": [
       "(18, 64)"
      ]
     },
     "execution_count": 165,
     "metadata": {},
     "output_type": "execute_result"
    }
   ],
   "source": [
    "np.concatenate([np.array([x.cpu().numpy() for x in classic_adv_success]),\n",
    "         np.array([x.cpu().numpy() for x in classic_adv_success])],\n",
    "         axis=1).shape\n"
   ]
  },
  {
   "cell_type": "code",
   "execution_count": 57,
   "id": "02220b4b",
   "metadata": {},
   "outputs": [
    {
     "data": {
      "text/plain": [
       "[tensor([False, False, False, False, False,  True, False, False, False, False,\n",
       "         False, False, False, False, False, False, False, False, False, False,\n",
       "         False, False, False, False, False, False, False, False, False, False,\n",
       "         False, False], device='cuda:1'),\n",
       " tensor([True, True, True, True, True, True, True, True, True, True, True, True,\n",
       "         True, True, True, True, True, True, True, True, True, True, True, True,\n",
       "         True, True, True, True, True, True, True, True], device='cuda:1'),\n",
       " tensor([True, True, True, True, True, True, True, True, True, True, True, True,\n",
       "         True, True, True, True, True, True, True, True, True, True, True, True,\n",
       "         True, True, True, True, True, True, True, True], device='cuda:1'),\n",
       " tensor([True, True, True, True, True, True, True, True, True, True, True, True,\n",
       "         True, True, True, True, True, True, True, True, True, True, True, True,\n",
       "         True, True, True, True, True, True, True, True], device='cuda:1'),\n",
       " tensor([True, True, True, True, True, True, True, True, True, True, True, True,\n",
       "         True, True, True, True, True, True, True, True, True, True, True, True,\n",
       "         True, True, True, True, True, True, True, True], device='cuda:1'),\n",
       " tensor([True, True, True, True, True, True, True, True, True, True, True, True,\n",
       "         True, True, True, True, True, True, True, True, True, True, True, True,\n",
       "         True, True, True, True, True, True, True, True], device='cuda:1'),\n",
       " tensor([True, True, True, True, True, True, True, True, True, True, True, True,\n",
       "         True, True, True, True, True, True, True, True, True, True, True, True,\n",
       "         True, True, True, True, True, True, True, True], device='cuda:1'),\n",
       " tensor([True, True, True, True, True, True, True, True, True, True, True, True,\n",
       "         True, True, True, True, True, True, True, True, True, True, True, True,\n",
       "         True, True, True, True, True, True, True, True], device='cuda:1'),\n",
       " tensor([True, True, True, True, True, True, True, True, True, True, True, True,\n",
       "         True, True, True, True, True, True, True, True, True, True, True, True,\n",
       "         True, True, True, True, True, True, True, True], device='cuda:1'),\n",
       " tensor([True, True, True, True, True, True, True, True, True, True, True, True,\n",
       "         True, True, True, True, True, True, True, True, True, True, True, True,\n",
       "         True, True, True, True, True, True, True, True], device='cuda:1'),\n",
       " tensor([True, True, True, True, True, True, True, True, True, True, True, True,\n",
       "         True, True, True, True, True, True, True, True, True, True, True, True,\n",
       "         True, True, True, True, True, True, True, True], device='cuda:1'),\n",
       " tensor([True, True, True, True, True, True, True, True, True, True, True, True,\n",
       "         True, True, True, True, True, True, True, True, True, True, True, True,\n",
       "         True, True, True, True, True, True, True, True], device='cuda:1'),\n",
       " tensor([True, True, True, True, True, True, True, True, True, True, True, True,\n",
       "         True, True, True, True, True, True, True, True, True, True, True, True,\n",
       "         True, True, True, True, True, True, True, True], device='cuda:1'),\n",
       " tensor([True, True, True, True, True, True, True, True, True, True, True, True,\n",
       "         True, True, True, True, True, True, True, True, True, True, True, True,\n",
       "         True, True, True, True, True, True, True, True], device='cuda:1'),\n",
       " tensor([True, True, True, True, True, True, True, True, True, True, True, True,\n",
       "         True, True, True, True, True, True, True, True, True, True, True, True,\n",
       "         True, True, True, True, True, True, True, True], device='cuda:1'),\n",
       " tensor([True, True, True, True, True, True, True, True, True, True, True, True,\n",
       "         True, True, True, True, True, True, True, True, True, True, True, True,\n",
       "         True, True, True, True, True, True, True, True], device='cuda:1'),\n",
       " tensor([True, True, True, True, True, True, True, True, True, True, True, True,\n",
       "         True, True, True, True, True, True, True, True, True, True, True, True,\n",
       "         True, True, True, True, True, True, True, True], device='cuda:1'),\n",
       " tensor([True, True, True, True, True, True, True, True, True, True, True, True,\n",
       "         True, True, True, True, True, True, True, True, True, True, True, True,\n",
       "         True, True, True, True, True, True, True, True], device='cuda:1'),\n",
       " tensor([False, False, False, False,  True, False, False, False, False, False,\n",
       "         False, False, False, False, False, False, False, False, False, False,\n",
       "         False,  True, False, False, False, False, False, False,  True, False,\n",
       "         False, False], device='cuda:1'),\n",
       " tensor([True, True, True, True, True, True, True, True, True, True, True, True,\n",
       "         True, True, True, True, True, True, True, True, True, True, True, True,\n",
       "         True, True, True, True, True, True, True, True], device='cuda:1'),\n",
       " tensor([True, True, True, True, True, True, True, True, True, True, True, True,\n",
       "         True, True, True, True, True, True, True, True, True, True, True, True,\n",
       "         True, True, True, True, True, True, True, True], device='cuda:1'),\n",
       " tensor([True, True, True, True, True, True, True, True, True, True, True, True,\n",
       "         True, True, True, True, True, True, True, True, True, True, True, True,\n",
       "         True, True, True, True, True, True, True, True], device='cuda:1'),\n",
       " tensor([True, True, True, True, True, True, True, True, True, True, True, True,\n",
       "         True, True, True, True, True, True, True, True, True, True, True, True,\n",
       "         True, True, True, True, True, True, True, True], device='cuda:1'),\n",
       " tensor([True, True, True, True, True, True, True, True, True, True, True, True,\n",
       "         True, True, True, True, True, True, True, True, True, True, True, True,\n",
       "         True, True, True, True, True, True, True, True], device='cuda:1'),\n",
       " tensor([True, True, True, True, True, True, True, True, True, True, True, True,\n",
       "         True, True, True, True, True, True, True, True, True, True, True, True,\n",
       "         True, True, True, True, True, True, True, True], device='cuda:1'),\n",
       " tensor([True, True, True, True, True, True, True, True, True, True, True, True,\n",
       "         True, True, True, True, True, True, True, True, True, True, True, True,\n",
       "         True, True, True, True, True, True, True, True], device='cuda:1'),\n",
       " tensor([True, True, True, True, True, True, True, True, True, True, True, True,\n",
       "         True, True, True, True, True, True, True, True, True, True, True, True,\n",
       "         True, True, True, True, True, True, True, True], device='cuda:1'),\n",
       " tensor([True, True, True, True, True, True, True, True, True, True, True, True,\n",
       "         True, True, True, True, True, True, True, True, True, True, True, True,\n",
       "         True, True, True, True, True, True, True, True], device='cuda:1'),\n",
       " tensor([True, True, True, True, True, True, True, True, True, True, True, True,\n",
       "         True, True, True, True, True, True, True, True, True, True, True, True,\n",
       "         True, True, True, True, True, True, True, True], device='cuda:1'),\n",
       " tensor([True, True, True, True, True, True, True, True, True, True, True, True,\n",
       "         True, True, True, True, True, True, True, True, True, True, True, True,\n",
       "         True, True, True, True, True, True, True, True], device='cuda:1'),\n",
       " tensor([True, True, True, True, True, True, True, True, True, True, True, True,\n",
       "         True, True, True, True, True, True, True, True, True, True, True, True,\n",
       "         True, True, True, True, True, True, True, True], device='cuda:1'),\n",
       " tensor([True, True, True, True, True, True, True, True, True, True, True, True,\n",
       "         True, True, True, True, True, True, True, True, True, True, True, True,\n",
       "         True, True, True, True, True, True, True, True], device='cuda:1'),\n",
       " tensor([True, True, True, True, True, True, True, True, True, True, True, True,\n",
       "         True, True, True, True, True, True, True, True, True, True, True, True,\n",
       "         True, True, True, True, True, True, True, True], device='cuda:1'),\n",
       " tensor([True, True, True, True, True, True, True, True, True, True, True, True,\n",
       "         True, True, True, True, True, True, True, True, True, True, True, True,\n",
       "         True, True, True, True, True, True, True, True], device='cuda:1'),\n",
       " tensor([True, True, True, True, True, True, True, True, True, True, True, True,\n",
       "         True, True, True, True, True, True, True, True, True, True, True, True,\n",
       "         True, True, True, True, True, True, True, True], device='cuda:1'),\n",
       " tensor([True, True, True, True, True, True, True, True, True, True, True, True,\n",
       "         True, True, True, True, True, True, True, True, True, True, True, True,\n",
       "         True, True, True, True, True, True, True, True], device='cuda:1'),\n",
       " tensor([False, False, False, False, False, False, False, False, False,  True,\n",
       "         False, False, False,  True, False,  True, False, False, False, False,\n",
       "         False, False, False,  True, False, False, False, False, False, False,\n",
       "         False,  True], device='cuda:1'),\n",
       " tensor([True, True, True, True, True, True, True, True, True, True, True, True,\n",
       "         True, True, True, True, True, True, True, True, True, True, True, True,\n",
       "         True, True, True, True, True, True, True, True], device='cuda:1'),\n",
       " tensor([True, True, True, True, True, True, True, True, True, True, True, True,\n",
       "         True, True, True, True, True, True, True, True, True, True, True, True,\n",
       "         True, True, True, True, True, True, True, True], device='cuda:1'),\n",
       " tensor([True, True, True, True, True, True, True, True, True, True, True, True,\n",
       "         True, True, True, True, True, True, True, True, True, True, True, True,\n",
       "         True, True, True, True, True, True, True, True], device='cuda:1'),\n",
       " tensor([True, True, True, True, True, True, True, True, True, True, True, True,\n",
       "         True, True, True, True, True, True, True, True, True, True, True, True,\n",
       "         True, True, True, True, True, True, True, True], device='cuda:1'),\n",
       " tensor([True, True, True, True, True, True, True, True, True, True, True, True,\n",
       "         True, True, True, True, True, True, True, True, True, True, True, True,\n",
       "         True, True, True, True, True, True, True, True], device='cuda:1'),\n",
       " tensor([True, True, True, True, True, True, True, True, True, True, True, True,\n",
       "         True, True, True, True, True, True, True, True, True, True, True, True,\n",
       "         True, True, True, True, True, True, True, True], device='cuda:1'),\n",
       " tensor([True, True, True, True, True, True, True, True, True, True, True, True,\n",
       "         True, True, True, True, True, True, True, True, True, True, True, True,\n",
       "         True, True, True, True, True, True, True, True], device='cuda:1'),\n",
       " tensor([True, True, True, True, True, True, True, True, True, True, True, True,\n",
       "         True, True, True, True, True, True, True, True, True, True, True, True,\n",
       "         True, True, True, True, True, True, True, True], device='cuda:1'),\n",
       " tensor([True, True, True, True, True, True, True, True, True, True, True, True,\n",
       "         True, True, True, True, True, True, True, True, True, True, True, True,\n",
       "         True, True, True, True, True, True, True, True], device='cuda:1'),\n",
       " tensor([True, True, True, True, True, True, True, True, True, True, True, True,\n",
       "         True, True, True, True, True, True, True, True, True, True, True, True,\n",
       "         True, True, True, True, True, True, True, True], device='cuda:1'),\n",
       " tensor([True, True, True, True, True, True, True, True, True, True, True, True,\n",
       "         True, True, True, True, True, True, True, True, True, True, True, True,\n",
       "         True, True, True, True, True, True, True, True], device='cuda:1'),\n",
       " tensor([True, True, True, True, True, True, True, True, True, True, True, True,\n",
       "         True, True, True, True, True, True, True, True, True, True, True, True,\n",
       "         True, True, True, True, True, True, True, True], device='cuda:1'),\n",
       " tensor([True, True, True, True, True, True, True, True, True, True, True, True,\n",
       "         True, True, True, True, True, True, True, True, True, True, True, True,\n",
       "         True, True, True, True, True, True, True, True], device='cuda:1'),\n",
       " tensor([True, True, True, True, True, True, True, True, True, True, True, True,\n",
       "         True, True, True, True, True, True, True, True, True, True, True, True,\n",
       "         True, True, True, True, True, True, True, True], device='cuda:1'),\n",
       " tensor([True, True, True, True, True, True, True, True, True, True, True, True,\n",
       "         True, True, True, True, True, True, True, True, True, True, True, True,\n",
       "         True, True, True, True, True, True, True, True], device='cuda:1'),\n",
       " tensor([True, True, True, True, True, True, True, True, True, True, True, True,\n",
       "         True, True, True, True, True, True, True, True, True, True, True, True,\n",
       "         True, True, True, True, True, True, True, True], device='cuda:1'),\n",
       " tensor([True, True, True, True, True, True, True, True, True, True, True, True,\n",
       "         True, True, True, True, True, True, True, True, True, True, True, True,\n",
       "         True, True, True, True, True, True, True, True], device='cuda:1'),\n",
       " tensor([False, False, False, False, False, False,  True, False, False, False,\n",
       "          True, False,  True, False, False, False, False, False, False, False,\n",
       "         False, False, False, False, False, False, False,  True, False, False,\n",
       "          True, False], device='cuda:1'),\n",
       " tensor([True, True, True, True, True, True, True, True, True, True, True, True,\n",
       "         True, True, True, True, True, True, True, True, True, True, True, True,\n",
       "         True, True, True, True, True, True, True, True], device='cuda:1'),\n",
       " tensor([True, True, True, True, True, True, True, True, True, True, True, True,\n",
       "         True, True, True, True, True, True, True, True, True, True, True, True,\n",
       "         True, True, True, True, True, True, True, True], device='cuda:1'),\n",
       " tensor([True, True, True, True, True, True, True, True, True, True, True, True,\n",
       "         True, True, True, True, True, True, True, True, True, True, True, True,\n",
       "         True, True, True, True, True, True, True, True], device='cuda:1'),\n",
       " tensor([True, True, True, True, True, True, True, True, True, True, True, True,\n",
       "         True, True, True, True, True, True, True, True, True, True, True, True,\n",
       "         True, True, True, True, True, True, True, True], device='cuda:1'),\n",
       " tensor([True, True, True, True, True, True, True, True, True, True, True, True,\n",
       "         True, True, True, True, True, True, True, True, True, True, True, True,\n",
       "         True, True, True, True, True, True, True, True], device='cuda:1'),\n",
       " tensor([True, True, True, True, True, True, True, True, True, True, True, True,\n",
       "         True, True, True, True, True, True, True, True, True, True, True, True,\n",
       "         True, True, True, True, True, True, True, True], device='cuda:1'),\n",
       " tensor([True, True, True, True, True, True, True, True, True, True, True, True,\n",
       "         True, True, True, True, True, True, True, True, True, True, True, True,\n",
       "         True, True, True, True, True, True, True, True], device='cuda:1'),\n",
       " tensor([True, True, True, True, True, True, True, True, True, True, True, True,\n",
       "         True, True, True, True, True, True, True, True, True, True, True, True,\n",
       "         True, True, True, True, True, True, True, True], device='cuda:1'),\n",
       " tensor([True, True, True, True, True, True, True, True, True, True, True, True,\n",
       "         True, True, True, True, True, True, True, True, True, True, True, True,\n",
       "         True, True, True, True, True, True, True, True], device='cuda:1'),\n",
       " tensor([True, True, True, True, True, True, True, True, True, True, True, True,\n",
       "         True, True, True, True, True, True, True, True, True, True, True, True,\n",
       "         True, True, True, True, True, True, True, True], device='cuda:1'),\n",
       " tensor([True, True, True, True, True, True, True, True, True, True, True, True,\n",
       "         True, True, True, True, True, True, True, True, True, True, True, True,\n",
       "         True, True, True, True, True, True, True, True], device='cuda:1'),\n",
       " tensor([True, True, True, True, True, True, True, True, True, True, True, True,\n",
       "         True, True, True, True, True, True, True, True, True, True, True, True,\n",
       "         True, True, True, True, True, True, True, True], device='cuda:1'),\n",
       " tensor([True, True, True, True, True, True, True, True, True, True, True, True,\n",
       "         True, True, True, True, True, True, True, True, True, True, True, True,\n",
       "         True, True, True, True, True, True, True, True], device='cuda:1'),\n",
       " tensor([True, True, True, True, True, True, True, True, True, True, True, True,\n",
       "         True, True, True, True, True, True, True, True, True, True, True, True,\n",
       "         True, True, True, True, True, True, True, True], device='cuda:1'),\n",
       " tensor([True, True, True, True, True, True, True, True, True, True, True, True,\n",
       "         True, True, True, True, True, True, True, True, True, True, True, True,\n",
       "         True, True, True, True, True, True, True, True], device='cuda:1'),\n",
       " tensor([True, True, True, True, True, True, True, True, True, True, True, True,\n",
       "         True, True, True, True, True, True, True, True, True, True, True, True,\n",
       "         True, True, True, True, True, True, True, True], device='cuda:1'),\n",
       " tensor([True, True, True, True, True, True, True, True, True, True, True, True,\n",
       "         True, True, True, True, True, True, True, True, True, True, True, True,\n",
       "         True, True, True, True, True, True, True, True], device='cuda:1')]"
      ]
     },
     "execution_count": 57,
     "metadata": {},
     "output_type": "execute_result"
    }
   ],
   "source": [
    "# MAKE SURE TO SAVE RESULTS!\n",
    "classic_results['classic_adv_success']"
   ]
  },
  {
   "cell_type": "code",
   "execution_count": 50,
   "id": "d9240bee",
   "metadata": {},
   "outputs": [
    {
     "name": "stdout",
     "output_type": "stream",
     "text": [
      "Classic Accuracy per epsilon [8.77166617e-01 2.82035868e-01 2.02785292e-01 1.46879070e-01\n",
      " 9.90882677e-02 7.96513375e-02 4.85923254e-02 3.77717664e-02\n",
      " 3.00571085e-02 2.46468290e-02 1.93367398e-02 1.26239856e-02\n",
      " 7.41408676e-03 3.80723374e-03 3.00571085e-04 0.00000000e+00\n",
      " 0.00000000e+00 0.00000000e+00]\n"
     ]
    }
   ],
   "source": [
    "classic_acc_per_eps = 1.0 - classic_results['adv_success'].mean(axis=-1)\n",
    "print('Classic Accuracy per epsilon', classic_acc_per_eps)"
   ]
  },
  {
   "cell_type": "code",
   "execution_count": 72,
   "id": "2f0f4bc8",
   "metadata": {},
   "outputs": [
    {
     "name": "stdout",
     "output_type": "stream",
     "text": [
      "Classic Accuracy per epsilon [0.875 0.    0.    0.    0.    0.    0.    0.    0.    0.    0.    0.\n",
      " 0.    0.    0.    0.    0.    0.   ]\n",
      "FGN Scratch Accuracy per epsilon [0.875 0.    0.    0.    0.    0.    0.    0.    0.    0.    0.    0.\n",
      " 0.    0.    0.    0.    0.    0.   ]\n",
      "FGN Converted Accuracy per epsilon [0.875 0.    0.    0.    0.    0.    0.    0.    0.    0.    0.    0.\n",
      " 0.    0.    0.    0.    0.    0.   ]\n",
      "FGN Fast Accuracy per epsilon [0.75 0.   0.   0.   0.   0.   0.   0.   0.   0.   0.   0.   0.   0.\n",
      " 0.   0.   0.   0.  ]\n",
      "FGN Long Accuracy per epsilon [0.96875 0.      0.      0.      0.      0.      0.      0.      0.\n",
      " 0.      0.      0.      0.      0.      0.      0.      0.      0.     ]\n"
     ]
    }
   ],
   "source": [
    "fgn_scratch_acc_per_eps = 1.0 - fgn_scratch_adv_success.cpu().numpy().mean(axis=-1)\n",
    "print('FGN Scratch Accuracy per epsilon', fgn_scratch_acc_per_eps)\n",
    "\n",
    "fgn_conv_acc_per_eps = 1.0 - fgn_conv_adv_success.cpu().numpy().mean(axis=-1)\n",
    "print('FGN Converted Accuracy per epsilon', fgn_conv_acc_per_eps)\n",
    "\n",
    "fgn_fast_acc_per_eps = 1.0 - fgn_fast_adv_success.cpu().numpy().mean(axis=-1)\n",
    "print('FGN Fast Accuracy per epsilon', fgn_fast_acc_per_eps)\n",
    "\n",
    "fgn_long_acc_per_eps = 1.0 - fgn_long_adv_success.cpu().numpy().mean(axis=-1)\n",
    "print('FGN Long Accuracy per epsilon', fgn_long_acc_per_eps)"
   ]
  },
  {
   "cell_type": "code",
   "execution_count": 68,
   "id": "c4e6b090",
   "metadata": {},
   "outputs": [
    {
     "data": {
      "text/plain": [
       "tensor([[[ 3.6183e-01,  7.3333e+00,  2.7586e+00,  ...,  9.0494e+00,\n",
       "           9.4001e+00,  6.3108e+00]],\n",
       "\n",
       "        [[ 1.0000e+01, -1.0000e+01, -7.6164e+00,  ...,  9.0764e+00,\n",
       "           1.3882e+00, -1.0000e+01]],\n",
       "\n",
       "        [[-1.0000e+01,  4.1035e+00,  1.0000e+01,  ..., -1.0000e+01,\n",
       "           2.3013e+00, -1.0000e+01]],\n",
       "\n",
       "        ...,\n",
       "\n",
       "        [[ 4.9683e+00,  6.0000e+00, -1.1921e-07,  ..., -1.0000e+01,\n",
       "           1.0000e+01,  1.0000e+01]],\n",
       "\n",
       "        [[ 3.3333e+00,  1.3333e+00,  1.3333e+00,  ...,  1.0000e+01,\n",
       "           6.1652e+00, -1.0000e+01]],\n",
       "\n",
       "        [[-4.4840e+00,  3.3333e+00,  8.6667e+00,  ...,  1.0000e+01,\n",
       "           1.0000e+01,  8.7990e-01]]], device='cuda:1')"
      ]
     },
     "execution_count": 68,
     "metadata": {},
     "output_type": "execute_result"
    }
   ],
   "source": [
    "classic_adv_clipped[-1]"
   ]
  },
  {
   "cell_type": "code",
   "execution_count": 51,
   "id": "0fd8bd00",
   "metadata": {},
   "outputs": [
    {
     "name": "stdout",
     "output_type": "stream",
     "text": [
      "accuracies for classic and fgn models\n"
     ]
    },
    {
     "ename": "RuntimeError",
     "evalue": "Expected all tensors to be on the same device, but found at least two devices, cuda:1 and cpu!",
     "output_type": "error",
     "traceback": [
      "\u001b[0;31m---------------------------------------------------------------------------\u001b[0m",
      "\u001b[0;31mRuntimeError\u001b[0m                              Traceback (most recent call last)",
      "\u001b[0;32m<ipython-input-51-8c116e8e734f>\u001b[0m in \u001b[0;36m<module>\u001b[0;34m\u001b[0m\n\u001b[1;32m      1\u001b[0m \u001b[0;31m# check model accuracies on adv attacks\u001b[0m\u001b[0;34m\u001b[0m\u001b[0;34m\u001b[0m\u001b[0;34m\u001b[0m\u001b[0m\n\u001b[1;32m      2\u001b[0m \u001b[0mprint\u001b[0m\u001b[0;34m(\u001b[0m\u001b[0;34m'accuracies for classic and fgn models'\u001b[0m\u001b[0;34m)\u001b[0m\u001b[0;34m\u001b[0m\u001b[0;34m\u001b[0m\u001b[0m\n\u001b[0;32m----> 3\u001b[0;31m \u001b[0mprint\u001b[0m\u001b[0;34m(\u001b[0m\u001b[0mfoolbox\u001b[0m\u001b[0;34m.\u001b[0m\u001b[0maccuracy\u001b[0m\u001b[0;34m(\u001b[0m\u001b[0mclassic_f_model\u001b[0m\u001b[0;34m,\u001b[0m \u001b[0mclassic_adv_clipped\u001b[0m\u001b[0;34m[\u001b[0m\u001b[0;34m-\u001b[0m\u001b[0;36m1\u001b[0m\u001b[0;34m]\u001b[0m\u001b[0;34m,\u001b[0m \u001b[0mtarget_labels\u001b[0m\u001b[0;34m)\u001b[0m\u001b[0;34m)\u001b[0m\u001b[0;34m\u001b[0m\u001b[0;34m\u001b[0m\u001b[0m\n\u001b[0m\u001b[1;32m      4\u001b[0m \u001b[0;31m# print(foolbox.accuracy(fgn_f_model_from_scratch, waveforms, target_labels))\u001b[0m\u001b[0;34m\u001b[0m\u001b[0;34m\u001b[0m\u001b[0;34m\u001b[0m\u001b[0m\n\u001b[1;32m      5\u001b[0m \u001b[0;31m# print(foolbox.accuracy(fgn_f_model_converted_no_retraining, waveforms, target_labels))\u001b[0m\u001b[0;34m\u001b[0m\u001b[0;34m\u001b[0m\u001b[0;34m\u001b[0m\u001b[0m\n",
      "\u001b[0;32m~/.local/lib/python3.6/site-packages/foolbox/utils.py\u001b[0m in \u001b[0;36maccuracy\u001b[0;34m(***failed resolving arguments***)\u001b[0m\n\u001b[1;32m     14\u001b[0m \u001b[0;34m\u001b[0m\u001b[0m\n\u001b[1;32m     15\u001b[0m     \u001b[0mpredictions\u001b[0m \u001b[0;34m=\u001b[0m \u001b[0mfmodel\u001b[0m\u001b[0;34m(\u001b[0m\u001b[0minputs_\u001b[0m\u001b[0;34m)\u001b[0m\u001b[0;34m.\u001b[0m\u001b[0margmax\u001b[0m\u001b[0;34m(\u001b[0m\u001b[0maxis\u001b[0m\u001b[0;34m=\u001b[0m\u001b[0;34m-\u001b[0m\u001b[0;36m1\u001b[0m\u001b[0;34m)\u001b[0m\u001b[0;34m\u001b[0m\u001b[0;34m\u001b[0m\u001b[0m\n\u001b[0;32m---> 16\u001b[0;31m     \u001b[0maccuracy\u001b[0m \u001b[0;34m=\u001b[0m \u001b[0;34m(\u001b[0m\u001b[0mpredictions\u001b[0m \u001b[0;34m==\u001b[0m \u001b[0mlabels_\u001b[0m\u001b[0;34m)\u001b[0m\u001b[0;34m.\u001b[0m\u001b[0mfloat32\u001b[0m\u001b[0;34m(\u001b[0m\u001b[0;34m)\u001b[0m\u001b[0;34m.\u001b[0m\u001b[0mmean\u001b[0m\u001b[0;34m(\u001b[0m\u001b[0;34m)\u001b[0m\u001b[0;34m\u001b[0m\u001b[0;34m\u001b[0m\u001b[0m\n\u001b[0m\u001b[1;32m     17\u001b[0m     \u001b[0;32mreturn\u001b[0m \u001b[0maccuracy\u001b[0m\u001b[0;34m.\u001b[0m\u001b[0mitem\u001b[0m\u001b[0;34m(\u001b[0m\u001b[0;34m)\u001b[0m\u001b[0;34m\u001b[0m\u001b[0;34m\u001b[0m\u001b[0m\n\u001b[1;32m     18\u001b[0m \u001b[0;34m\u001b[0m\u001b[0m\n",
      "\u001b[0;32m~/.local/lib/python3.6/site-packages/eagerpy/tensor/pytorch.py\u001b[0m in \u001b[0;36m__eq__\u001b[0;34m(self, other)\u001b[0m\n\u001b[1;32m    555\u001b[0m \u001b[0;34m\u001b[0m\u001b[0m\n\u001b[1;32m    556\u001b[0m     \u001b[0;32mdef\u001b[0m \u001b[0m__eq__\u001b[0m\u001b[0;34m(\u001b[0m\u001b[0mself\u001b[0m\u001b[0;34m:\u001b[0m \u001b[0mTensorType\u001b[0m\u001b[0;34m,\u001b[0m \u001b[0mother\u001b[0m\u001b[0;34m:\u001b[0m \u001b[0mTensorOrScalar\u001b[0m\u001b[0;34m)\u001b[0m \u001b[0;34m->\u001b[0m \u001b[0mTensorType\u001b[0m\u001b[0;34m:\u001b[0m  \u001b[0;31m# type: ignore\u001b[0m\u001b[0;34m\u001b[0m\u001b[0;34m\u001b[0m\u001b[0m\n\u001b[0;32m--> 557\u001b[0;31m         \u001b[0;32mreturn\u001b[0m \u001b[0mtype\u001b[0m\u001b[0;34m(\u001b[0m\u001b[0mself\u001b[0m\u001b[0;34m)\u001b[0m\u001b[0;34m(\u001b[0m\u001b[0mself\u001b[0m\u001b[0;34m.\u001b[0m\u001b[0mraw\u001b[0m\u001b[0;34m.\u001b[0m\u001b[0m__eq__\u001b[0m\u001b[0;34m(\u001b[0m\u001b[0munwrap1\u001b[0m\u001b[0;34m(\u001b[0m\u001b[0mother\u001b[0m\u001b[0;34m)\u001b[0m\u001b[0;34m)\u001b[0m\u001b[0;34m)\u001b[0m\u001b[0;34m\u001b[0m\u001b[0;34m\u001b[0m\u001b[0m\n\u001b[0m\u001b[1;32m    558\u001b[0m \u001b[0;34m\u001b[0m\u001b[0m\n\u001b[1;32m    559\u001b[0m     \u001b[0;32mdef\u001b[0m \u001b[0m__ne__\u001b[0m\u001b[0;34m(\u001b[0m\u001b[0mself\u001b[0m\u001b[0;34m:\u001b[0m \u001b[0mTensorType\u001b[0m\u001b[0;34m,\u001b[0m \u001b[0mother\u001b[0m\u001b[0;34m:\u001b[0m \u001b[0mTensorOrScalar\u001b[0m\u001b[0;34m)\u001b[0m \u001b[0;34m->\u001b[0m \u001b[0mTensorType\u001b[0m\u001b[0;34m:\u001b[0m  \u001b[0;31m# type: ignore\u001b[0m\u001b[0;34m\u001b[0m\u001b[0;34m\u001b[0m\u001b[0m\n",
      "\u001b[0;32m~/.local/lib/python3.6/site-packages/torch/tensor.py\u001b[0m in \u001b[0;36mwrapped\u001b[0;34m(*args, **kwargs)\u001b[0m\n\u001b[1;32m     20\u001b[0m     \u001b[0;32mdef\u001b[0m \u001b[0mwrapped\u001b[0m\u001b[0;34m(\u001b[0m\u001b[0;34m*\u001b[0m\u001b[0margs\u001b[0m\u001b[0;34m,\u001b[0m \u001b[0;34m**\u001b[0m\u001b[0mkwargs\u001b[0m\u001b[0;34m)\u001b[0m\u001b[0;34m:\u001b[0m\u001b[0;34m\u001b[0m\u001b[0;34m\u001b[0m\u001b[0m\n\u001b[1;32m     21\u001b[0m         \u001b[0;32mtry\u001b[0m\u001b[0;34m:\u001b[0m\u001b[0;34m\u001b[0m\u001b[0;34m\u001b[0m\u001b[0m\n\u001b[0;32m---> 22\u001b[0;31m             \u001b[0;32mreturn\u001b[0m \u001b[0mf\u001b[0m\u001b[0;34m(\u001b[0m\u001b[0;34m*\u001b[0m\u001b[0margs\u001b[0m\u001b[0;34m,\u001b[0m \u001b[0;34m**\u001b[0m\u001b[0mkwargs\u001b[0m\u001b[0;34m)\u001b[0m\u001b[0;34m\u001b[0m\u001b[0;34m\u001b[0m\u001b[0m\n\u001b[0m\u001b[1;32m     23\u001b[0m         \u001b[0;32mexcept\u001b[0m \u001b[0mTypeError\u001b[0m\u001b[0;34m:\u001b[0m\u001b[0;34m\u001b[0m\u001b[0;34m\u001b[0m\u001b[0m\n\u001b[1;32m     24\u001b[0m             \u001b[0;32mreturn\u001b[0m \u001b[0mNotImplemented\u001b[0m\u001b[0;34m\u001b[0m\u001b[0;34m\u001b[0m\u001b[0m\n",
      "\u001b[0;31mRuntimeError\u001b[0m: Expected all tensors to be on the same device, but found at least two devices, cuda:1 and cpu!"
     ]
    }
   ],
   "source": [
    "# check model accuracies on adv attacks\n",
    "print('accuracies for classic and fgn models')\n",
    "print(foolbox.accuracy(classic_f_model, classic_adv_clipped[-1], target_labels))\n",
    "# print(foolbox.accuracy(fgn_f_model_from_scratch, waveforms, target_labels))\n",
    "# print(foolbox.accuracy(fgn_f_model_converted_no_retraining, waveforms, target_labels))\n",
    "# print(foolbox.accuracy(fgn_f_model_converted_fast_retraining, waveforms, target_labels))\n",
    "# print(foolbox.accuracy(fgn_f_model_converted_long_retraining, waveforms, target_labels))"
   ]
  },
  {
   "cell_type": "code",
   "execution_count": null,
   "id": "aef0264f",
   "metadata": {},
   "outputs": [],
   "source": [
    "import torch.nn.functional as F"
   ]
  },
  {
   "cell_type": "code",
   "execution_count": null,
   "id": "85c2159b",
   "metadata": {},
   "outputs": [],
   "source": [
    "### build a dataloader"
   ]
  },
  {
   "cell_type": "code",
   "execution_count": null,
   "id": "93cf995b",
   "metadata": {},
   "outputs": [],
   "source": [
    "def pad_sequence(batch):\n",
    "    # Make all tensor in a batch the same length by padding with zeros\n",
    "    batch = [item.t() for item in batch]\n",
    "    batch = torch.nn.utils.rnn.pad_sequence(batch, batch_first=True, padding_value=0.)\n",
    "    return batch.permute(0, 2, 1)\n",
    "\n",
    "def collate_fn(batch, resample_rate):\n",
    "\n",
    "    # A data tuple has the form:\n",
    "    # waveform, sample_rate, label, speaker_id, utterance_number\n",
    "\n",
    "    tensors, targets = [], []\n",
    "    \n",
    "    # resampling func\n",
    "    transform = transforms.Resample(orig_freq=16000, new_freq=resample_rate)\n",
    "\n",
    "    # Gather in lists, and encode labels as indices\n",
    "    for waveform, _, label, *_ in batch:\n",
    "        tensors += [transform(waveform)]\n",
    "        targets += [label_to_index(label)]\n",
    "\n",
    "    # Group the list of tensors into a batched tensor\n",
    "    tensors = pad_sequence(tensors)\n",
    "    targets = torch.stack(targets)\n",
    "\n",
    "    return tensors, targets"
   ]
  },
  {
   "cell_type": "code",
   "execution_count": null,
   "id": "06ff2cea",
   "metadata": {},
   "outputs": [],
   "source": [
    "train_loader_sc = torch.utils.data.DataLoader(\n",
    "        torch.utils.data.TensorDataset(waveforms,target_labels),\n",
    "        batch_size=32,\n",
    "        shuffle=True,\n",
    "        collate_fn=(lambda batch: collate_fn(batch, 8000)),\n",
    "        num_workers=5,\n",
    "        pin_memory=True,\n",
    "    )"
   ]
  },
  {
   "cell_type": "code",
   "execution_count": null,
   "id": "3d591210",
   "metadata": {},
   "outputs": [],
   "source": []
  }
 ],
 "metadata": {
  "kernelspec": {
   "display_name": "Python 3",
   "language": "python",
   "name": "python3"
  },
  "language_info": {
   "codemirror_mode": {
    "name": "ipython",
    "version": 3
   },
   "file_extension": ".py",
   "mimetype": "text/x-python",
   "name": "python",
   "nbconvert_exporter": "python",
   "pygments_lexer": "ipython3",
   "version": "3.6.9"
  }
 },
 "nbformat": 4,
 "nbformat_minor": 5
}
