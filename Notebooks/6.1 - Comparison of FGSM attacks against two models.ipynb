{
 "cells": [
  {
   "cell_type": "code",
   "execution_count": 1,
   "metadata": {},
   "outputs": [],
   "source": [
    "# dev of full attack of a model"
   ]
  },
  {
   "cell_type": "code",
   "execution_count": 2,
   "metadata": {},
   "outputs": [],
   "source": [
    "from __future__ import print_function"
   ]
  },
  {
   "cell_type": "code",
   "execution_count": 3,
   "metadata": {},
   "outputs": [],
   "source": [
    "import matplotlib as mpl\n",
    "# set this 'backend' when using jupyter; do this before importing pyplot\n",
    "mpl.use('nbagg')\n",
    "import matplotlib.pyplot as plt"
   ]
  },
  {
   "cell_type": "code",
   "execution_count": 4,
   "metadata": {},
   "outputs": [],
   "source": [
    "import torch\n",
    "import torch.nn as nn\n",
    "\n",
    "import numpy as np\n",
    "from scipy import stats\n",
    "\n",
    "import sys\n",
    "sys.path.append('/home/felix/Research/Adversarial Research/FGN---Research/')\n",
    "import Finite_Gaussian_Network_lib as fgnl\n",
    "import Finite_Gaussian_Network_lib.fgn_helper_lib as fgnh"
   ]
  },
  {
   "cell_type": "code",
   "execution_count": 5,
   "metadata": {},
   "outputs": [
    {
     "name": "stdout",
     "output_type": "stream",
     "text": [
      "\u001b[1mcountdown\u001b[0m  Sat Aug 17 14:29:04 2019\r\n",
      "\u001b[0;36m[0]\u001b[0m \u001b[0;34mGeForce GTX 1080\u001b[0m |\u001b[0;31m 39'C\u001b[0m, \u001b[0;32m  0 %\u001b[0m | \u001b[0;36m\u001b[1;33m 1809\u001b[0m / \u001b[0;33m 8119\u001b[0m MB | \u001b[1;30mfelix\u001b[0m(\u001b[0;33m559M\u001b[0m) \u001b[1;30mfelix\u001b[0m(\u001b[0;33m685M\u001b[0m) \u001b[1;30mfelix\u001b[0m(\u001b[0;33m553M\u001b[0m)\r\n",
      "\u001b[0;36m[1]\u001b[0m \u001b[0;34mGeForce GTX 1080\u001b[0m |\u001b[0;31m 40'C\u001b[0m, \u001b[0;32m  0 %\u001b[0m | \u001b[0;36m\u001b[1;33m 1437\u001b[0m / \u001b[0;33m 8118\u001b[0m MB | \u001b[1;30mfelix\u001b[0m(\u001b[0;33m601M\u001b[0m)\r\n"
     ]
    }
   ],
   "source": [
    "!gpustat"
   ]
  },
  {
   "cell_type": "code",
   "execution_count": 6,
   "metadata": {},
   "outputs": [
    {
     "name": "stdout",
     "output_type": "stream",
     "text": [
      "CUDA Available:  True\n",
      "Using device: cuda\n"
     ]
    }
   ],
   "source": [
    "# Define what device we are using\n",
    "print(\"CUDA Available: \",torch.cuda.is_available())\n",
    "use_cuda = True\n",
    "device = torch.device(\"cuda\" if (use_cuda and torch.cuda.is_available()) else \"cpu\")\n",
    "print(\"Using device:\", device)\n",
    "\n",
    "# manualy set cuda device\n",
    "torch.cuda.set_device(1)"
   ]
  },
  {
   "cell_type": "code",
   "execution_count": 7,
   "metadata": {},
   "outputs": [],
   "source": [
    "# # random seeds\n",
    "# torch.manual_seed(999)\n",
    "# np.random.seed(999)\n",
    "\n",
    "# torch.backends.cudnn.deterministic = True\n",
    "# torch.cuda.manual_seed_all(999)"
   ]
  },
  {
   "cell_type": "code",
   "execution_count": 8,
   "metadata": {},
   "outputs": [],
   "source": [
    "# load MNIST data\n",
    "batch_size = 192\n",
    "(mnist_train_loader, mnist_val_loader, mnist_test_loader) = fgnh.mnist_dataloaders(batch_size)\n",
    "# minimum/maximum pixel value post normalization, from train dataset\n",
    "min_pix = -0.4242129623889923095703125\n",
    "max_pix =  2.8214867115020751953125000"
   ]
  },
  {
   "cell_type": "code",
   "execution_count": 9,
   "metadata": {},
   "outputs": [
    {
     "data": {
      "text/plain": [
       "Feedforward_Classic_net(\n",
       "  (hidden_layers): ModuleList(\n",
       "    (0): Dropout(p=0.03125)\n",
       "    (1): Linear(in_features=784, out_features=32, bias=True)\n",
       "    (2): BatchNorm1d(32, eps=1e-05, momentum=0.1, affine=True, track_running_stats=True)\n",
       "    (3): Dropout(p=0.03125)\n",
       "    (4): Linear(in_features=32, out_features=32, bias=True)\n",
       "    (5): BatchNorm1d(32, eps=1e-05, momentum=0.1, affine=True, track_running_stats=True)\n",
       "    (6): Dropout(p=0.03125)\n",
       "  )\n",
       "  (ib): BatchNorm1d(784, eps=1e-05, momentum=0.1, affine=True, track_running_stats=True)\n",
       "  (fl): Linear(in_features=32, out_features=10, bias=True)\n",
       ")"
      ]
     },
     "execution_count": 9,
     "metadata": {},
     "output_type": "execute_result"
    }
   ],
   "source": [
    "# load classic model\n",
    "# model_path = \"../Experiments/sample_models/sample_fgn_model_noisy_eval_p0.27_full.pth\"\n",
    "classic_model_path = \"../Experiments/sample_models/sample_classic_model_noisy_eval_p0.65_full.pth\"\n",
    "classic_model = torch.load(classic_model_path)\n",
    "classic_model.to(device)"
   ]
  },
  {
   "cell_type": "code",
   "execution_count": 10,
   "metadata": {},
   "outputs": [
    {
     "name": "stdout",
     "output_type": "stream",
     "text": [
      "Test set - Average loss: 0.2577, Accuracy: 46105/50000 (92%)\n",
      "Test set - Average loss: 0.2488, Accuracy: 9228/10000 (92%)\n"
     ]
    }
   ],
   "source": [
    "# test the model\n",
    "classic_model.eval()\n",
    "\n",
    "# loss func\n",
    "cross_ent_loss = fgnh.def_classical_cross_ent_loss()\n",
    "\n",
    "test_res = fgnh.test(classic_model, mnist_train_loader,\n",
    "                        cross_ent_loss, pred_func=fgnh.cross_ent_pred_accuracy, verbose=True)\n",
    "\n",
    "test_res = fgnh.test(classic_model, mnist_val_loader,\n",
    "                        cross_ent_loss, pred_func=fgnh.cross_ent_pred_accuracy, verbose=True)"
   ]
  },
  {
   "cell_type": "code",
   "execution_count": 11,
   "metadata": {},
   "outputs": [
    {
     "data": {
      "text/plain": [
       "Feedforward_FGN_net(\n",
       "  (hidden_layers): ModuleList(\n",
       "    (0): Dropout(p=0.03125)\n",
       "    (1): FGN_layer()\n",
       "    (2): BatchNorm1d(32, eps=1e-05, momentum=0.1, affine=True, track_running_stats=True)\n",
       "    (3): Dropout(p=0.03125)\n",
       "    (4): FGN_layer()\n",
       "    (5): BatchNorm1d(32, eps=1e-05, momentum=0.1, affine=True, track_running_stats=True)\n",
       "    (6): Dropout(p=0.03125)\n",
       "  )\n",
       "  (ib): BatchNorm1d(784, eps=1e-05, momentum=0.1, affine=True, track_running_stats=True)\n",
       "  (fl): FGN_layer()\n",
       ")"
      ]
     },
     "execution_count": 11,
     "metadata": {},
     "output_type": "execute_result"
    }
   ],
   "source": [
    "# load fgn model\n",
    "fgn_model_path = \"../Experiments/sample_models/sample_fgn_model_noisy_eval_p0.27_full.pth\"\n",
    "fgn_model = torch.load(fgn_model_path)\n",
    "fgn_model.to(device)"
   ]
  },
  {
   "cell_type": "code",
   "execution_count": 12,
   "metadata": {},
   "outputs": [
    {
     "name": "stdout",
     "output_type": "stream",
     "text": [
      "Test set - Average loss: 0.2871, Accuracy: 45284/50000 (91%)\n",
      "Test set - Average loss: 0.2775, Accuracy: 9100/10000 (91%)\n"
     ]
    }
   ],
   "source": [
    "# test the model\n",
    "fgn_model.eval()\n",
    "# switch to random eval\n",
    "try:\n",
    "    fgn_model.set_random_eval(True)\n",
    "except: \n",
    "    pass\n",
    "\n",
    "# loss func\n",
    "cross_ent_loss = fgnh.def_classical_cross_ent_loss()\n",
    "\n",
    "test_res = fgnh.test(fgn_model, mnist_train_loader,\n",
    "                        cross_ent_loss, pred_func=fgnh.cross_ent_pred_accuracy, verbose=True)\n",
    "\n",
    "test_res = fgnh.test(fgn_model, mnist_val_loader,\n",
    "                        cross_ent_loss, pred_func=fgnh.cross_ent_pred_accuracy, verbose=True)"
   ]
  },
  {
   "cell_type": "code",
   "execution_count": 13,
   "metadata": {},
   "outputs": [],
   "source": [
    "### Beginning of attacks - untargeted"
   ]
  },
  {
   "cell_type": "code",
   "execution_count": 14,
   "metadata": {},
   "outputs": [],
   "source": [
    "# parameters of the experiment\n",
    "attack_params = {'targeted':False, \n",
    "                 'data_classes':range(10), \n",
    "                 'max_noise':(max_pix-min_pix)/16.0, \n",
    "                 'data_bounds':fgnh.get_dataloader_bounds(mnist_train_loader),\n",
    "                 'loss_func':torch.nn.CrossEntropyLoss(), \n",
    "                 'step_size':(max_pix-min_pix)/128.0, \n",
    "                 'steps': 5,\n",
    "                 'confidence_req':0.5}\n",
    "\n",
    "num_attacks = len(mnist_val_loader.dataset.tensors[0])\n",
    "# num_attacks = 100\n",
    "verbose = False"
   ]
  },
  {
   "cell_type": "code",
   "execution_count": 15,
   "metadata": {},
   "outputs": [],
   "source": [
    "# attack the classic net\n",
    "classic_untargeted_attack_results = fgnl.full_FGSM_attack(classic_model, mnist_val_loader, num_attacks=num_attacks, \n",
    "                                                          attack_params = attack_params, verbose=verbose)\n",
    "\n",
    "classic_untargeted_confidence_dist = classic_untargeted_attack_results['confidence_dist']\n",
    "classic_untargeted_successful_attack_count = classic_untargeted_attack_results['successful_attack_count']\n",
    "classic_untargeted_steps_dist = classic_untargeted_attack_results['steps_dist']\n",
    "classic_untargeted_adv_class_dist = classic_untargeted_attack_results['adv_class_dist']"
   ]
  },
  {
   "cell_type": "code",
   "execution_count": null,
   "metadata": {},
   "outputs": [],
   "source": [
    "# attack the fgn net\n",
    "fgn_untargeted_attack_results = fgnl.full_FGSM_attack(fgn_model, mnist_val_loader, num_attacks=num_attacks,\n",
    "                                                      attack_params = attack_params, verbose=False)\n",
    "\n",
    "fgn_untargeted_confidence_dist = fgn_untargeted_attack_results['confidence_dist']\n",
    "fgn_untargeted_successful_attack_count = fgn_untargeted_attack_results['successful_attack_count']\n",
    "fgn_untargeted_steps_dist = fgn_untargeted_attack_results['steps_dist']\n",
    "fgn_untargeted_adv_class_dist = fgn_untargeted_attack_results['adv_class_dist']"
   ]
  },
  {
   "cell_type": "code",
   "execution_count": null,
   "metadata": {},
   "outputs": [],
   "source": [
    "### results"
   ]
  },
  {
   "cell_type": "code",
   "execution_count": null,
   "metadata": {},
   "outputs": [],
   "source": [
    "# success rate\n",
    "print(\"attack on classic net success rate: {}/{}, {}\".format(classic_untargeted_successful_attack_count, num_attacks, \n",
    "                                                             float(classic_untargeted_successful_attack_count)/num_attacks))\n",
    "print(\"attack on fgn success rate: {}/{}, {}\".format(fgn_untargeted_successful_attack_count, num_attacks, \n",
    "                                                     float(fgn_untargeted_successful_attack_count)/num_attacks))"
   ]
  },
  {
   "cell_type": "code",
   "execution_count": null,
   "metadata": {},
   "outputs": [],
   "source": [
    "# plot confidence distribution\n",
    "striped_classic_confidence = [x for x in classic_untargeted_confidence_dist if x>=0]\n",
    "plt.hist(striped_classic_confidence, bins=100, alpha=0.5, label='classic')\n",
    "print(\"classic confidence stats:\\n\", stats.describe(striped_classic_confidence))\n",
    "\n",
    "striped_fgn_confidence = [x for x in fgn_untargeted_confidence_dist if x>=0]\n",
    "plt.hist(striped_fgn_confidence, bins=100, alpha=0.5, label='fgn')\n",
    "print(\"fgn confidence stats:\\n\", stats.describe(striped_fgn_confidence))\n",
    "\n",
    "plt.legend()\n",
    "plt.show()"
   ]
  },
  {
   "cell_type": "code",
   "execution_count": null,
   "metadata": {},
   "outputs": [],
   "source": [
    "# plot steps distribution\n",
    "plt.hist(classic_untargeted_steps_dist, bins=range(attack_params['steps']+2), align='left',rwidth =0.8, alpha=0.5, label='classic')\n",
    "plt.hist(fgn_untargeted_steps_dist, bins=range(attack_params['steps']+2), align='left',rwidth =0.8, alpha=0.5, label='fgn')\n",
    "\n",
    "plt.legend()\n",
    "plt.show()"
   ]
  },
  {
   "cell_type": "code",
   "execution_count": null,
   "metadata": {},
   "outputs": [],
   "source": [
    "# targeted attacks"
   ]
  },
  {
   "cell_type": "code",
   "execution_count": null,
   "metadata": {},
   "outputs": [],
   "source": [
    "# change params for targeted attack\n",
    "attack_params = {'targeted':True, \n",
    "                 'data_classes':range(10), \n",
    "                 'max_noise':(max_pix-min_pix)/64.0, \n",
    "                 'data_bounds':fgnh.get_dataloader_bounds(mnist_train_loader),\n",
    "                 'loss_func':torch.nn.CrossEntropyLoss(), \n",
    "                 'step_size':(max_pix-min_pix)/128.0, \n",
    "                 'steps': 5,\n",
    "                 'confidence_req':0.5}\n",
    "\n",
    "# num_attacks = len(mnist_val_loader.dataset.tensors[0])\n",
    "# num_attacks = 10"
   ]
  },
  {
   "cell_type": "code",
   "execution_count": null,
   "metadata": {},
   "outputs": [],
   "source": [
    "# attack the classic net\n",
    "classic_targeted_attack_results = fgnl.full_FGSM_attack(classic_model, mnist_val_loader, num_attacks=num_attacks, \n",
    "                                                          attack_params = attack_params, verbose=verbose)\n",
    "\n",
    "classic_targeted_confidence_dist = classic_targeted_attack_results['confidence_dist']\n",
    "classic_targeted_successful_attack_count = classic_targeted_attack_results['successful_attack_count']\n",
    "classic_targeted_steps_dist = classic_targeted_attack_results['steps_dist']\n",
    "classic_targeted_adv_class_dist = classic_targeted_attack_results['adv_class_dist']"
   ]
  },
  {
   "cell_type": "code",
   "execution_count": null,
   "metadata": {},
   "outputs": [],
   "source": [
    "# attack the fgn net\n",
    "fgn_targeted_attack_results = fgnl.full_FGSM_attack(fgn_model, mnist_val_loader, num_attacks=num_attacks,\n",
    "                                                      attack_params = attack_params, verbose=verbose)\n",
    "\n",
    "fgn_targeted_confidence_dist = fgn_targeted_attack_results['confidence_dist']\n",
    "fgn_targeted_successful_attack_count = fgn_targeted_attack_results['successful_attack_count']\n",
    "fgn_targeted_steps_dist = fgn_targeted_attack_results['steps_dist']\n",
    "fgn_targeted_adv_class_dist = fgn_targeted_attack_results['adv_class_dist']"
   ]
  },
  {
   "cell_type": "code",
   "execution_count": null,
   "metadata": {},
   "outputs": [],
   "source": [
    "# success rate\n",
    "print(\"attack on classic net success rate: {}/{}, {}\".format(classic_targeted_successful_attack_count, num_attacks, \n",
    "                                                             float(classic_targeted_successful_attack_count)/num_attacks))\n",
    "print(\"attack on fgn success rate: {}/{}, {}\".format(fgn_targeted_successful_attack_count, num_attacks, \n",
    "                                                     float(fgn_targeted_successful_attack_count)/num_attacks))"
   ]
  },
  {
   "cell_type": "code",
   "execution_count": null,
   "metadata": {},
   "outputs": [],
   "source": [
    "# plot confidence distribution\n",
    "striped_classic_confidence = [x for x in classic_targeted_confidence_dist if x>=0]\n",
    "plt.hist(striped_classic_confidence, bins=100, alpha=0.5, label='classic')\n",
    "print(\"classic confidence stats:\\n\", stats.describe(striped_classic_confidence))\n",
    "\n",
    "striped_fgn_confidence = [x for x in fgn_targeted_confidence_dist if x>=0]\n",
    "plt.hist(striped_fgn_confidence, bins=100, alpha=0.5, label='fgn')\n",
    "print(\"fgn confidence stats:\\n\", stats.describe(striped_fgn_confidence))\n",
    "\n",
    "plt.legend()\n",
    "plt.show()"
   ]
  },
  {
   "cell_type": "code",
   "execution_count": null,
   "metadata": {},
   "outputs": [],
   "source": [
    "# plot steps distribution\n",
    "plt.hist(classic_targeted_steps_dist, bins=range(attack_params['steps']+2), align='left',rwidth =0.8, alpha=0.5, label='classic')\n",
    "plt.hist(fgn_targeted_steps_dist, bins=range(attack_params['steps']+2), align='left',rwidth =0.8, alpha=0.5, label='fgn')\n",
    "\n",
    "plt.legend()\n",
    "plt.show()"
   ]
  },
  {
   "cell_type": "code",
   "execution_count": null,
   "metadata": {},
   "outputs": [],
   "source": []
  },
  {
   "cell_type": "code",
   "execution_count": null,
   "metadata": {},
   "outputs": [],
   "source": []
  }
 ],
 "metadata": {
  "kernelspec": {
   "display_name": "Python 2",
   "language": "python",
   "name": "python2"
  },
  "language_info": {
   "codemirror_mode": {
    "name": "ipython",
    "version": 2
   },
   "file_extension": ".py",
   "mimetype": "text/x-python",
   "name": "python",
   "nbconvert_exporter": "python",
   "pygments_lexer": "ipython2",
   "version": "2.7.12"
  }
 },
 "nbformat": 4,
 "nbformat_minor": 2
}
