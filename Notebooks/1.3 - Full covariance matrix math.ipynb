{
 "cells": [
  {
   "cell_type": "code",
   "execution_count": 1,
   "metadata": {
    "scrolled": true
   },
   "outputs": [],
   "source": [
    "# original math\n",
    "# https://docs.google.com/document/d/1SSJD1Fm-h3apVvpAkvrpG9o8OQaXHFUMjBd1AFuiY8Y/edit?usp=sharing\n",
    "\n",
    "# check the math for full covariance matrix and related lmbda_loss\n",
    "# conversion to pytorch with batch of data"
   ]
  },
  {
   "cell_type": "code",
   "execution_count": 2,
   "metadata": {},
   "outputs": [],
   "source": [
    "import numpy as np"
   ]
  },
  {
   "cell_type": "code",
   "execution_count": 3,
   "metadata": {},
   "outputs": [
    {
     "name": "stdout",
     "output_type": "stream",
     "text": [
      "[[ 1  2  3  4  5]\n",
      " [ 6  7  8  9 10]\n",
      " [11 12 13 14 15]\n",
      " [16 17 18 19 20]\n",
      " [21 22 23 24 25]]\n"
     ]
    }
   ],
   "source": [
    "# define matrix Q\n",
    "Q = np.reshape(range(5*5+1)[1:],(5,5))\n",
    "print(Q)"
   ]
  },
  {
   "cell_type": "code",
   "execution_count": 4,
   "metadata": {},
   "outputs": [
    {
     "name": "stdout",
     "output_type": "stream",
     "text": [
      "[[ 1  6 11 16 21]\n",
      " [ 2  7 12 17 22]\n",
      " [ 3  8 13 18 23]\n",
      " [ 4  9 14 19 24]\n",
      " [ 5 10 15 20 25]]\n"
     ]
    }
   ],
   "source": [
    "# define inverse of Q, but since we want Sigma to be symmetric, will just be transpose\n",
    "Q_i = np.transpose(Q)\n",
    "print(Q_i)"
   ]
  },
  {
   "cell_type": "code",
   "execution_count": 5,
   "metadata": {},
   "outputs": [],
   "source": [
    "# enforce Q orthogonal\n",
    "from scipy.stats import ortho_group"
   ]
  },
  {
   "cell_type": "code",
   "execution_count": 6,
   "metadata": {},
   "outputs": [
    {
     "name": "stdout",
     "output_type": "stream",
     "text": [
      "[[-0.75290172 -0.11199583 -0.36059287 -0.42622856  0.32999687]\n",
      " [-0.35450321  0.17251317 -0.09293656 -0.04741552 -0.91306147]\n",
      " [ 0.5475826  -0.09828842 -0.43018518 -0.69464923 -0.15131374]\n",
      " [-0.08674901 -0.45007851  0.7583331  -0.45142952 -0.10510111]\n",
      " [-0.0097153   0.86340307  0.31813078 -0.36021498  0.15322769]]\n"
     ]
    }
   ],
   "source": [
    "Q = ortho_group.rvs(5)\n",
    "print(Q)"
   ]
  },
  {
   "cell_type": "code",
   "execution_count": 7,
   "metadata": {},
   "outputs": [
    {
     "name": "stdout",
     "output_type": "stream",
     "text": [
      "[[-0.75290172 -0.35450321  0.5475826  -0.08674901 -0.0097153 ]\n",
      " [-0.11199583  0.17251317 -0.09828842 -0.45007851  0.86340307]\n",
      " [-0.36059287 -0.09293656 -0.43018518  0.7583331   0.31813078]\n",
      " [-0.42622856 -0.04741552 -0.69464923 -0.45142952 -0.36021498]\n",
      " [ 0.32999687 -0.91306147 -0.15131374 -0.10510111  0.15322769]]\n"
     ]
    }
   ],
   "source": [
    "Q_i = np.transpose(Q)\n",
    "print(Q_i)"
   ]
  },
  {
   "cell_type": "code",
   "execution_count": 8,
   "metadata": {},
   "outputs": [
    {
     "name": "stdout",
     "output_type": "stream",
     "text": [
      "[[ 1. -0. -0.  0.  0.]\n",
      " [-0.  1.  0.  0. -0.]\n",
      " [-0.  0.  1.  0.  0.]\n",
      " [ 0.  0.  0.  1.  0.]\n",
      " [ 0. -0.  0.  0.  1.]]\n"
     ]
    }
   ],
   "source": [
    "print(np.round(np.matmul(Q,Q_i)))"
   ]
  },
  {
   "cell_type": "code",
   "execution_count": 9,
   "metadata": {},
   "outputs": [
    {
     "name": "stdout",
     "output_type": "stream",
     "text": [
      "[12.55789201  5.55761568  7.33460538  0.13019001 20.6505762 ]\n"
     ]
    }
   ],
   "source": [
    "# define Lambda diagonal matrix: ie the list of eigenvalues\n",
    "L = np.array([100*np.random.random()**2 for _ in range(5+1)[1:]])\n",
    "print(L)"
   ]
  },
  {
   "cell_type": "code",
   "execution_count": 10,
   "metadata": {},
   "outputs": [
    {
     "name": "stdout",
     "output_type": "stream",
     "text": [
      "[0.0796312  0.17993328 0.13633999 7.68108078 0.0484248 ]\n"
     ]
    }
   ],
   "source": [
    "# what we will be using in computation is actually the inverse of L\n",
    "L_i = 1/L\n",
    "print(L_i)"
   ]
  },
  {
   "cell_type": "code",
   "execution_count": 11,
   "metadata": {},
   "outputs": [
    {
     "name": "stdout",
     "output_type": "stream",
     "text": [
      "[[10.41444384 -2.72934133 -4.97098174 -1.59647692 -0.22276739]\n",
      " [-2.72934133 19.02322236  0.6186124   1.42224614 -2.23272825]\n",
      " [-4.97098174  0.6186124   5.71210339 -2.37415812 -1.98843537]\n",
      " [-1.59647692  1.42224614 -2.37415812  5.69286035 -0.69102889]\n",
      " [-0.22276739 -2.23272825 -1.98843537 -0.69102889  5.38824934]]\n"
     ]
    }
   ],
   "source": [
    "# compute Sigma = Q_i * L * Q\n",
    "# because L is stored as an array, we have to use einsum\n",
    "Sigma = np.einsum('xy, y, yz -> xz', Q, L, Q_i)\n",
    "print(Sigma)"
   ]
  },
  {
   "cell_type": "code",
   "execution_count": 12,
   "metadata": {},
   "outputs": [
    {
     "name": "stdout",
     "output_type": "stream",
     "text": [
      "[[12.55789201  0.          0.          0.          0.        ]\n",
      " [ 0.          5.55761568  0.          0.          0.        ]\n",
      " [ 0.          0.          7.33460538  0.          0.        ]\n",
      " [ 0.          0.          0.          0.13019001  0.        ]\n",
      " [ 0.          0.          0.          0.         20.6505762 ]]\n"
     ]
    }
   ],
   "source": [
    "# verification with actual diagonal matrix\n",
    "L2 = L * np.eye(np.shape(Q)[0])\n",
    "print(L2)"
   ]
  },
  {
   "cell_type": "code",
   "execution_count": 13,
   "metadata": {},
   "outputs": [
    {
     "name": "stdout",
     "output_type": "stream",
     "text": [
      "[[10.01920486  0.15612606  1.79231379  1.41079421 -1.95844305]\n",
      " [ 0.15612606 15.81442201  6.35593242 -5.34132023  1.50772967]\n",
      " [ 1.79231379  6.35593242  5.203062    1.73532839  0.4509779 ]\n",
      " [ 1.41079421 -5.34132023  1.73532839  8.53916261 -1.88840098]\n",
      " [-1.95844305  1.50772967  0.4509779  -1.88840098  6.6550278 ]]\n"
     ]
    }
   ],
   "source": [
    "Sigma2 = np.matmul(np.matmul(Q_i, L2), Q)\n",
    "print(Sigma2)"
   ]
  },
  {
   "cell_type": "code",
   "execution_count": 14,
   "metadata": {},
   "outputs": [
    {
     "name": "stdout",
     "output_type": "stream",
     "text": [
      "[[ 0. -3. -7. -3.  2.]\n",
      " [-3.  3. -6.  7. -4.]\n",
      " [-7. -6.  1. -4. -2.]\n",
      " [-3.  7. -4. -3.  1.]\n",
      " [ 2. -4. -2.  1. -1.]]\n"
     ]
    }
   ],
   "source": [
    "# check that both computations are the same\n",
    "print(np.round(Sigma-Sigma2))"
   ]
  },
  {
   "cell_type": "code",
   "execution_count": 15,
   "metadata": {},
   "outputs": [
    {
     "name": "stdout",
     "output_type": "stream",
     "text": [
      "[[1.46582598 0.16298938 2.26209128 1.45324254 1.14929798]\n",
      " [0.16298938 0.0741797  0.24662514 0.14792798 0.14746023]\n",
      " [2.26209128 0.24662514 3.75836501 2.3691429  1.88650869]\n",
      " [1.45324254 0.14792798 2.3691429  1.68130504 1.21129063]\n",
      " [1.14929798 0.14746023 1.88650869 1.21129063 1.14573431]]\n"
     ]
    }
   ],
   "source": [
    "# what we really want is the inverse of sigma\n",
    "Sigma_i = np.einsum('xy, y, yz -> xz', Q, L_i, Q_i)\n",
    "print(Sigma_i)"
   ]
  },
  {
   "cell_type": "code",
   "execution_count": 16,
   "metadata": {},
   "outputs": [
    {
     "name": "stdout",
     "output_type": "stream",
     "text": [
      "[[ 1.  0. -0. -0. -0.]\n",
      " [-0.  1.  0.  0. -0.]\n",
      " [-0. -0.  1. -0. -0.]\n",
      " [ 0.  0.  0.  1.  0.]\n",
      " [ 0.  0.  0.  0.  1.]]\n"
     ]
    }
   ],
   "source": [
    "# check that it's inverse\n",
    "print(np.round(np.matmul(Sigma, Sigma_i)))"
   ]
  },
  {
   "cell_type": "code",
   "execution_count": 17,
   "metadata": {},
   "outputs": [
    {
     "data": {
      "text/plain": [
       "array([[1.46582598, 0.16298938, 2.26209128, 1.45324254, 1.14929798],\n",
       "       [0.16298938, 0.0741797 , 0.24662514, 0.14792798, 0.14746023],\n",
       "       [2.26209128, 0.24662514, 3.75836501, 2.3691429 , 1.88650869],\n",
       "       [1.45324254, 0.14792798, 2.3691429 , 1.68130504, 1.21129063],\n",
       "       [1.14929798, 0.14746023, 1.88650869, 1.21129063, 1.14573431]])"
      ]
     },
     "execution_count": 17,
     "metadata": {},
     "output_type": "execute_result"
    }
   ],
   "source": [
    "np.linalg.inv(Sigma)"
   ]
  },
  {
   "cell_type": "code",
   "execution_count": 18,
   "metadata": {},
   "outputs": [],
   "source": [
    "# testing if trace is sum of eigenval for any matrix"
   ]
  },
  {
   "cell_type": "code",
   "execution_count": 19,
   "metadata": {},
   "outputs": [
    {
     "name": "stdout",
     "output_type": "stream",
     "text": [
      "[[10.41444384 -2.72934133 -4.97098174 -1.59647692 -0.22276739]\n",
      " [-2.72934133 19.02322236  0.6186124   1.42224614 -2.23272825]\n",
      " [-4.97098174  0.6186124   5.71210339 -2.37415812 -1.98843537]\n",
      " [-1.59647692  1.42224614 -2.37415812  5.69286035 -0.69102889]\n",
      " [-0.22276739 -2.23272825 -1.98843537 -0.69102889  5.38824934]]\n",
      "Trace =  46.23087928116179\n",
      "Sum of Eigenvalues =  46.23087928116179\n"
     ]
    },
    {
     "data": {
      "text/plain": [
       "0.0"
      ]
     },
     "execution_count": 19,
     "metadata": {},
     "output_type": "execute_result"
    }
   ],
   "source": [
    "# size = 5\n",
    "# Sigma = np.reshape([np.random.random() for _ in range(size*size)],(size,size))\n",
    "print(Sigma)\n",
    "print('Trace = ', np.trace(Sigma))\n",
    "print('Sum of Eigenvalues = ', np.sum(np.linalg.eigvals(Sigma)))\n",
    "np.round(np.trace(Sigma)-np.real(np.sum(np.linalg.eigvals(Sigma))))"
   ]
  },
  {
   "cell_type": "code",
   "execution_count": 20,
   "metadata": {},
   "outputs": [
    {
     "name": "stdout",
     "output_type": "stream",
     "text": [
      "[[1.46582598 0.16298938 2.26209128 1.45324254 1.14929798]\n",
      " [0.16298938 0.0741797  0.24662514 0.14792798 0.14746023]\n",
      " [2.26209128 0.24662514 3.75836501 2.3691429  1.88650869]\n",
      " [1.45324254 0.14792798 2.3691429  1.68130504 1.21129063]\n",
      " [1.14929798 0.14746023 1.88650869 1.21129063 1.14573431]]\n",
      "Trace =  8.12541004587375\n",
      "Sum of Eigenvalues =  8.12541004587375\n"
     ]
    },
    {
     "data": {
      "text/plain": [
       "0.0"
      ]
     },
     "execution_count": 20,
     "metadata": {},
     "output_type": "execute_result"
    }
   ],
   "source": [
    "Sigma_i = np.linalg.inv(Sigma)\n",
    "print(Sigma_i)\n",
    "print('Trace = ', np.trace(Sigma_i))\n",
    "print('Sum of Eigenvalues = ', np.sum(np.linalg.eigvals(Sigma_i)))\n",
    "np.round(np.trace(Sigma_i)-np.real(np.sum(np.linalg.eigvals(Sigma_i))))"
   ]
  },
  {
   "cell_type": "code",
   "execution_count": 21,
   "metadata": {},
   "outputs": [],
   "source": [
    "### idea 2 - just store Sigma_i, trust that it stays positive definite symmetrical"
   ]
  },
  {
   "cell_type": "code",
   "execution_count": 87,
   "metadata": {},
   "outputs": [
    {
     "name": "stdout",
     "output_type": "stream",
     "text": [
      "[[[ 366.21890891  799.0068077   246.28862003  717.81297679]\n",
      "  [ 799.0068077  2781.51165711 1097.0102975  1767.17348089]\n",
      "  [ 246.28862003 1097.0102975   583.91138088  761.95816664]\n",
      "  [ 717.81297679 1767.17348089  761.95816664 1740.56965409]]\n",
      "\n",
      " [[1901.91454352 2015.2029232  1304.83884998 1523.53573015]\n",
      "  [2015.2029232  2473.33840467 1420.87248129 1722.06584204]\n",
      "  [1304.83884998 1420.87248129 1091.65203099 1424.53872469]\n",
      "  [1523.53573015 1722.06584204 1424.53872469 2014.82377172]]\n",
      "\n",
      " [[1083.91349412  844.74117607 1370.93115926  961.2485517 ]\n",
      "  [ 844.74117607  844.32059963  808.78398212  660.32519556]\n",
      "  [1370.93115926  808.78398212 2137.46915867 1397.53773153]\n",
      "  [ 961.2485517   660.32519556 1397.53773153 1043.59836479]]\n",
      "\n",
      " [[2163.42141312 1689.83797609  838.7887076  1544.09082228]\n",
      "  [1689.83797609 1457.89002734  673.2419748  1158.72713411]\n",
      "  [ 838.7887076   673.2419748   417.67207481  608.31435699]\n",
      "  [1544.09082228 1158.72713411  608.31435699 1223.74497048]]\n",
      "\n",
      " [[1969.04168918  817.82211665 1628.33775949 1383.01916244]\n",
      "  [ 817.82211665  352.4858508   661.29184511  614.26509704]\n",
      "  [1628.33775949  661.29184511 1395.78823202 1154.42420011]\n",
      "  [1383.01916244  614.26509704 1154.42420011 1581.0772105 ]]]\n"
     ]
    }
   ],
   "source": [
    "### first: create a inv_covar of the right size that is positive definite symmetrical\n",
    "\n",
    "\n",
    "# sizes\n",
    "# self.inv_covars = nn.Parameter(torch.Tensor(g_out_features, g_in_features, g_in_features,), requires_grad=True)\n",
    "\n",
    "# number of neurons in layer\n",
    "g_out_features = 5\n",
    "# number of inputs in prev layer\n",
    "g_in_features = 4\n",
    "\n",
    "inv_covars = np.tile(np.eye(g_in_features),(g_out_features,1,1))\n",
    "# noise to add\n",
    "noise = np.array([(lambda n: np.matmul(n, np.transpose(n)))(np.random.rand(g_in_features, g_in_features))\n",
    "         for _ in range(g_out_features)])\n",
    "\n",
    "inv_covars = 1000*noise+1/g_in_features*inv_covars\n",
    "\n",
    "print(inv_covars)"
   ]
  },
  {
   "cell_type": "code",
   "execution_count": 88,
   "metadata": {},
   "outputs": [
    {
     "data": {
      "text/plain": [
       "array([[ 0.12616276, -0.03499707,  0.07944854, -0.05127737],\n",
       "       [-0.03499707,  0.01146382, -0.02430681,  0.01343444],\n",
       "       [ 0.07944854, -0.02430681,  0.05695542, -0.03301936],\n",
       "       [-0.05127737,  0.01343444, -0.03301936,  0.02253627]])"
      ]
     },
     "execution_count": 88,
     "metadata": {},
     "output_type": "execute_result"
    }
   ],
   "source": [
    "np.linalg.inv(inv_covars[0])"
   ]
  },
  {
   "cell_type": "code",
   "execution_count": 89,
   "metadata": {},
   "outputs": [
    {
     "name": "stdout",
     "output_type": "stream",
     "text": [
      "(5, 5, 4)\n",
      "[[[ 0  1  2  3]\n",
      "  [ 4  5  6  7]\n",
      "  [ 8  9 10 11]\n",
      "  [12 13 14 15]\n",
      "  [16 17 18 19]]\n",
      "\n",
      " [[20 21 22 23]\n",
      "  [24 25 26 27]\n",
      "  [28 29 30 31]\n",
      "  [32 33 34 35]\n",
      "  [36 37 38 39]]\n",
      "\n",
      " [[40 41 42 43]\n",
      "  [44 45 46 47]\n",
      "  [48 49 50 51]\n",
      "  [52 53 54 55]\n",
      "  [56 57 58 59]]\n",
      "\n",
      " [[60 61 62 63]\n",
      "  [64 65 66 67]\n",
      "  [68 69 70 71]\n",
      "  [72 73 74 75]\n",
      "  [76 77 78 79]]\n",
      "\n",
      " [[80 81 82 83]\n",
      "  [84 85 86 87]\n",
      "  [88 89 90 91]\n",
      "  [92 93 94 95]\n",
      "  [96 97 98 99]]]\n"
     ]
    }
   ],
   "source": [
    "# input data\n",
    "batch_size = 5\n",
    "# inputs  = np.random.randn(batch_size, g_out_features, g_in_features)\n",
    "inputs = np.reshape(range(batch_size*g_out_features*g_in_features), (batch_size, g_out_features, g_in_features))\n",
    "print(inputs.shape)\n",
    "print(inputs)"
   ]
  },
  {
   "cell_type": "code",
   "execution_count": 90,
   "metadata": {},
   "outputs": [],
   "source": [
    "# this was figured out in notebook 1.0\n",
    "g = np.einsum('Lzi,zik,Lzk->Lz', inputs, inv_covars, inputs)"
   ]
  },
  {
   "cell_type": "code",
   "execution_count": 91,
   "metadata": {},
   "outputs": [
    {
     "data": {
      "text/plain": [
       "array([[ 366.21890891,  799.0068077 ,  246.28862003,  717.81297679],\n",
       "       [ 799.0068077 , 2781.51165711, 1097.0102975 , 1767.17348089],\n",
       "       [ 246.28862003, 1097.0102975 ,  583.91138088,  761.95816664],\n",
       "       [ 717.81297679, 1767.17348089,  761.95816664, 1740.56965409]])"
      ]
     },
     "execution_count": 91,
     "metadata": {},
     "output_type": "execute_result"
    }
   ],
   "source": [
    "inv_covars[0]"
   ]
  },
  {
   "cell_type": "code",
   "execution_count": 92,
   "metadata": {},
   "outputs": [
    {
     "data": {
      "text/plain": [
       "array([[19.13684689,  0.        ,  0.        ,  0.        ],\n",
       "       [41.75227049, 32.22203541,  0.        ,  0.        ],\n",
       "       [12.86986416, 17.36899114, 10.79796851,  0.        ],\n",
       "       [37.50946961,  6.24007631, 15.82080533,  6.66129945]])"
      ]
     },
     "execution_count": 92,
     "metadata": {},
     "output_type": "execute_result"
    }
   ],
   "source": [
    "H = np.linalg.cholesky(inv_covars[0])\n",
    "H"
   ]
  },
  {
   "cell_type": "code",
   "execution_count": 93,
   "metadata": {},
   "outputs": [
    {
     "data": {
      "text/plain": [
       "array([19.13684689, 32.22203541, 10.79796851,  6.66129945])"
      ]
     },
     "execution_count": 93,
     "metadata": {},
     "output_type": "execute_result"
    }
   ],
   "source": [
    "S = np.diag(H)\n",
    "S"
   ]
  },
  {
   "cell_type": "code",
   "execution_count": 94,
   "metadata": {},
   "outputs": [
    {
     "data": {
      "text/plain": [
       "array([[ 366.21890891,  799.0068077 ,  246.28862003,  717.81297679],\n",
       "       [ 799.0068077 , 2781.51165711, 1097.0102975 , 1767.17348089],\n",
       "       [ 246.28862003, 1097.0102975 ,  583.91138088,  761.95816664],\n",
       "       [ 717.81297679, 1767.17348089,  761.95816664, 1740.56965409]])"
      ]
     },
     "execution_count": 94,
     "metadata": {},
     "output_type": "execute_result"
    }
   ],
   "source": [
    "np.matmul(H, np.transpose(H))"
   ]
  },
  {
   "cell_type": "code",
   "execution_count": 96,
   "metadata": {},
   "outputs": [],
   "source": [
    "In [1]: def ldl_decomp(A):\n",
    "    A = np.matrix(A)\n",
    "    if not (A.H == A).all():\n",
    "        print(\"A must be Hermitian!\")\n",
    "        return None, None\n",
    "    else:\n",
    "        S = np.diag(np.diag(A))\n",
    "        Sinv = np.diag(1/np.diag(A))\n",
    "        D = np.matrix(S.dot(S))\n",
    "        Lch = np.linalg.cholesky(A)\n",
    "        L = np.matrix(Lch.dot(Sinv))\n",
    "    return L, D"
   ]
  },
  {
   "cell_type": "code",
   "execution_count": 97,
   "metadata": {},
   "outputs": [
    {
     "data": {
      "text/plain": [
       "(matrix([[0.05225521, 0.        , 0.        , 0.        ],\n",
       "         [0.11400905, 0.01158436, 0.        , 0.        ],\n",
       "         [0.03514254, 0.00624444, 0.01849248, 0.        ],\n",
       "         [0.10242363, 0.00224341, 0.02709453, 0.00382708]]),\n",
       " matrix([[ 134116.28924418,       0.        ,       0.        ,\n",
       "                0.        ],\n",
       "         [      0.        , 7736807.09864133,       0.        ,\n",
       "                0.        ],\n",
       "         [      0.        ,       0.        ,  340952.50072108,\n",
       "                0.        ],\n",
       "         [      0.        ,       0.        ,       0.        ,\n",
       "          3029582.7207556 ]]))"
      ]
     },
     "execution_count": 97,
     "metadata": {},
     "output_type": "execute_result"
    }
   ],
   "source": [
    "Q,V = ldl_decomp(inv_covars[0])\n",
    "Q,V"
   ]
  },
  {
   "cell_type": "code",
   "execution_count": 98,
   "metadata": {},
   "outputs": [
    {
     "data": {
      "text/plain": [
       "array([4.82038389e+03, 4.62227214e+02, 4.77699061e+00, 1.84823507e+02])"
      ]
     },
     "execution_count": 98,
     "metadata": {},
     "output_type": "execute_result"
    }
   ],
   "source": [
    "np.linalg.eigvals(inv_covars[0])"
   ]
  },
  {
   "cell_type": "code",
   "execution_count": 99,
   "metadata": {},
   "outputs": [
    {
     "data": {
      "text/plain": [
       "matrix([[ 366.21890891,  799.0068077 ,  246.28862003,  717.81297679],\n",
       "        [ 799.0068077 , 2781.51165711, 1097.0102975 , 1767.17348089],\n",
       "        [ 246.28862003, 1097.0102975 ,  583.91138088,  761.95816664],\n",
       "        [ 717.81297679, 1767.17348089,  761.95816664, 1740.56965409]])"
      ]
     },
     "execution_count": 99,
     "metadata": {},
     "output_type": "execute_result"
    }
   ],
   "source": [
    "np.matmul(Q, np.matmul(V, np.transpose(Q)))"
   ]
  },
  {
   "cell_type": "code",
   "execution_count": 100,
   "metadata": {},
   "outputs": [
    {
     "name": "stdout",
     "output_type": "stream",
     "text": [
      "[ 366.21890891 2781.51165711  583.91138088 1740.56965409]\n",
      "[[ 366.21890891    0.            0.            0.        ]\n",
      " [   0.         2781.51165711    0.            0.        ]\n",
      " [   0.            0.          583.91138088    0.        ]\n",
      " [   0.            0.            0.         1740.56965409]]\n"
     ]
    },
    {
     "data": {
      "text/plain": [
       "array([[ 134116.28924418,       0.        ,       0.        ,\n",
       "              0.        ],\n",
       "       [      0.        , 7736807.09864133,       0.        ,\n",
       "              0.        ],\n",
       "       [      0.        ,       0.        ,  340952.50072108,\n",
       "              0.        ],\n",
       "       [      0.        ,       0.        ,       0.        ,\n",
       "        3029582.7207556 ]])"
      ]
     },
     "execution_count": 100,
     "metadata": {},
     "output_type": "execute_result"
    }
   ],
   "source": [
    "S = np.diag(inv_covars[0])\n",
    "print(S)\n",
    "S = np.diag(S)\n",
    "print(S)\n",
    "S.dot(S)"
   ]
  },
  {
   "cell_type": "code",
   "execution_count": 101,
   "metadata": {},
   "outputs": [
    {
     "data": {
      "text/plain": [
       "(array([4.82038389e+03, 4.62227214e+02, 4.77699061e+00, 1.84823507e+02]),\n",
       " array([[-0.23836905, -0.30102188,  0.77138136, -0.50748086],\n",
       "        [-0.73733046,  0.55439144, -0.22011064, -0.31708868],\n",
       "        [-0.30441589,  0.23722418,  0.50598688,  0.77138378],\n",
       "        [-0.5539449 , -0.73875615, -0.31701638,  0.21652947]]))"
      ]
     },
     "execution_count": 101,
     "metadata": {},
     "output_type": "execute_result"
    }
   ],
   "source": [
    "V,Q = np.linalg.eig(inv_covars[0])\n",
    "V,Q"
   ]
  },
  {
   "cell_type": "code",
   "execution_count": 102,
   "metadata": {},
   "outputs": [
    {
     "data": {
      "text/plain": [
       "array([[ 366.21890891,  799.0068077 ,  246.28862003,  717.81297679],\n",
       "       [ 799.0068077 , 2781.51165711, 1097.0102975 , 1767.17348089],\n",
       "       [ 246.28862003, 1097.0102975 ,  583.91138088,  761.95816664],\n",
       "       [ 717.81297679, 1767.17348089,  761.95816664, 1740.56965409]])"
      ]
     },
     "execution_count": 102,
     "metadata": {},
     "output_type": "execute_result"
    }
   ],
   "source": [
    "np.matmul(Q, np.matmul(np.diag(V), np.transpose(Q)))"
   ]
  },
  {
   "cell_type": "code",
   "execution_count": 103,
   "metadata": {},
   "outputs": [
    {
     "data": {
      "text/plain": [
       "array([[ 0.        ,  0.        ,  0.        ,  0.        ],\n",
       "       [41.75227049,  0.        ,  0.        ,  0.        ],\n",
       "       [12.86986416, 17.36899114,  0.        ,  0.        ],\n",
       "       [37.50946961,  6.24007631, 15.82080533,  0.        ]])"
      ]
     },
     "execution_count": 103,
     "metadata": {},
     "output_type": "execute_result"
    }
   ],
   "source": [
    "np.fill_diagonal(H,0)\n",
    "H"
   ]
  },
  {
   "cell_type": "code",
   "execution_count": 104,
   "metadata": {},
   "outputs": [
    {
     "data": {
      "text/plain": [
       "array([3496.10826725,  138.18549928,  272.47032525,    0.        ])"
      ]
     },
     "execution_count": 104,
     "metadata": {},
     "output_type": "execute_result"
    }
   ],
   "source": [
    "np.linalg.eigvals(np.matmul(H, np.transpose(H)))"
   ]
  },
  {
   "cell_type": "code",
   "execution_count": 108,
   "metadata": {},
   "outputs": [
    {
     "data": {
      "text/plain": [
       "array([[[ 366.21890891,    0.        ,    0.        ,    0.        ],\n",
       "        [ 799.0068077 , 2781.51165711,    0.        ,    0.        ],\n",
       "        [ 246.28862003, 1097.0102975 ,  583.91138088,    0.        ],\n",
       "        [ 717.81297679, 1767.17348089,  761.95816664, 1740.56965409]],\n",
       "\n",
       "       [[1901.91454352,    0.        ,    0.        ,    0.        ],\n",
       "        [2015.2029232 , 2473.33840467,    0.        ,    0.        ],\n",
       "        [1304.83884998, 1420.87248129, 1091.65203099,    0.        ],\n",
       "        [1523.53573015, 1722.06584204, 1424.53872469, 2014.82377172]],\n",
       "\n",
       "       [[1083.91349412,    0.        ,    0.        ,    0.        ],\n",
       "        [ 844.74117607,  844.32059963,    0.        ,    0.        ],\n",
       "        [1370.93115926,  808.78398212, 2137.46915867,    0.        ],\n",
       "        [ 961.2485517 ,  660.32519556, 1397.53773153, 1043.59836479]],\n",
       "\n",
       "       [[2163.42141312,    0.        ,    0.        ,    0.        ],\n",
       "        [1689.83797609, 1457.89002734,    0.        ,    0.        ],\n",
       "        [ 838.7887076 ,  673.2419748 ,  417.67207481,    0.        ],\n",
       "        [1544.09082228, 1158.72713411,  608.31435699, 1223.74497048]],\n",
       "\n",
       "       [[1969.04168918,    0.        ,    0.        ,    0.        ],\n",
       "        [ 817.82211665,  352.4858508 ,    0.        ,    0.        ],\n",
       "        [1628.33775949,  661.29184511, 1395.78823202,    0.        ],\n",
       "        [1383.01916244,  614.26509704, 1154.42420011, 1581.0772105 ]]])"
      ]
     },
     "execution_count": 108,
     "metadata": {},
     "output_type": "execute_result"
    }
   ],
   "source": [
    "np.tril(inv_covars)"
   ]
  },
  {
   "cell_type": "code",
   "execution_count": null,
   "metadata": {},
   "outputs": [],
   "source": []
  }
 ],
 "metadata": {
  "kernelspec": {
   "display_name": "Python 3",
   "language": "python",
   "name": "python3"
  },
  "language_info": {
   "codemirror_mode": {
    "name": "ipython",
    "version": 3
   },
   "file_extension": ".py",
   "mimetype": "text/x-python",
   "name": "python",
   "nbconvert_exporter": "python",
   "pygments_lexer": "ipython3",
   "version": "3.6.9"
  }
 },
 "nbformat": 4,
 "nbformat_minor": 4
}
