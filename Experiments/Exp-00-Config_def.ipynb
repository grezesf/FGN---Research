{
 "cells": [
  {
   "cell_type": "code",
   "execution_count": 1,
   "metadata": {},
   "outputs": [],
   "source": [
    "# Exp-00\n",
    "# this notebook defines the configurations to explore in Exp-00s\n",
    "#  - the shared params\n",
    "#  - the configs for classic\n",
    "#  - the FGN variants of those classic models"
   ]
  },
  {
   "cell_type": "code",
   "execution_count": 10,
   "metadata": {},
   "outputs": [],
   "source": [
    "from __future__ import print_function"
   ]
  },
  {
   "cell_type": "code",
   "execution_count": 9,
   "metadata": {},
   "outputs": [],
   "source": [
    "import itertools\n",
    "import random\n",
    "import time, os\n",
    "import pickle"
   ]
  },
  {
   "cell_type": "code",
   "execution_count": 14,
   "metadata": {},
   "outputs": [],
   "source": [
    "# saved in :\n",
    "save_dir =  \"/home/felix/Research/Adversarial Research/FGN---Research/Experiments/Exp-00/\"\n",
    "# timestamp = time.strftime(\"%Y_%m_%d_at_%H:%M:%S\")\n",
    "# print(timestamp)\n",
    "# try:\n",
    "#     os.mkdir(save_dir + '/' + timestamp)\n",
    "# except e:\n",
    "#     pass"
   ]
  },
  {
   "cell_type": "code",
   "execution_count": 4,
   "metadata": {},
   "outputs": [],
   "source": [
    "# shared configurations "
   ]
  },
  {
   "cell_type": "code",
   "execution_count": 5,
   "metadata": {},
   "outputs": [],
   "source": [
    "# fixed experiment parameters\n",
    "batch_size = 168\n",
    "in_feats = 28*28\n",
    "out_feats = 10\n",
    "num_epochs = 5\n",
    "# lmbda_l2 = (4.0*0.1/len(mnist_train_loader.dataset))\n",
    "lmbda_l2 = 8e-06\n",
    "optimizer_name = 'Adam'\n",
    "opt_lr = 0.001"
   ]
  },
  {
   "cell_type": "code",
   "execution_count": 7,
   "metadata": {},
   "outputs": [],
   "source": [
    "# save as plain txt\n",
    "with open(save_dir+\"/shared_config_fixed_parameters.txt\", \"w\") as text_file:\n",
    "    text_file.write(\"Shared, fixed parameters between Classic and FGN feedforward networks training.\\n\")\n",
    "    text_file.write(\"batch_size {}\\n\".format(batch_size))\n",
    "    text_file.write(\"num_epochs {}\\n\".format(num_epochs))\n",
    "    text_file.write(\"lmbda_l2 {}\\n\".format(lmbda_l2))\n",
    "    text_file.write(\"optimizer_name {}\\n\".format(optimizer_name))\n",
    "    text_file.write(\"opt_lr {}\\n\".format(opt_lr))"
   ]
  },
  {
   "cell_type": "code",
   "execution_count": 8,
   "metadata": {},
   "outputs": [],
   "source": [
    "# save as pickle for loading\n",
    "shared_config_fixed_parameters_dic = {\"batch_size\":batch_size,\n",
    "                                       \"num_epochs\":num_epochs,\n",
    "                                       \"lmbda_l2\":lmbda_l2,\n",
    "                                       \"optimizer_name\":optimizer_name,\n",
    "                                       \"opt_lr\":opt_lr}\n",
    "\n",
    "with open(save_dir+\"/shared_config_fixed_parameters_dic.pckl\", 'wb') as f:\n",
    "    pickle.dump(shared_config_fixed_parameters_dic, f, pickle.HIGHEST_PROTOCOL)"
   ]
  },
  {
   "cell_type": "code",
   "execution_count": 9,
   "metadata": {},
   "outputs": [],
   "source": [
    "# variable params\n",
    "# width of the network\n",
    "hidden_layer_sizes_to_try = [16, 64, 256, 1024]\n",
    "# depth of the network\n",
    "# zero added separately\n",
    "number_of_hidden_layers_to_try = [1,2,3]\n",
    "drop_ps_to_try = [0.0,0.1,0.4]"
   ]
  },
  {
   "cell_type": "code",
   "execution_count": 10,
   "metadata": {},
   "outputs": [],
   "source": [
    "# save as plaintext\n",
    "with open(save_dir+\"/shared_config_variable_parameters.txt\", \"w\") as text_file:\n",
    "    text_file.write(\"Shared, variable parameters between Classic and FGN feedforward networks training.\\n\")\n",
    "    text_file.write(\"hidden_layer_sizes {}\\n\".format(str(hidden_layer_sizes_to_try)))\n",
    "    text_file.write(\"hidden_layer_numbers {}\\n\".format(str([]+number_of_hidden_layers_to_try)))\n",
    "    text_file.write(\"dropout probs {}\".format(str(drop_ps_to_try)))"
   ]
  },
  {
   "cell_type": "code",
   "execution_count": 11,
   "metadata": {},
   "outputs": [
    {
     "name": "stdout",
     "output_type": "stream",
     "text": [
      "hidden_layer_params_to_try\n",
      "[16]\n",
      "[64]\n",
      "[256]\n",
      "[1024]\n",
      "[16, 16]\n",
      "[64, 64]\n",
      "[256, 256]\n",
      "[1024, 1024]\n",
      "[16, 16, 16]\n",
      "[64, 64, 64]\n",
      "[256, 256, 256]\n",
      "[1024, 1024, 1024]\n"
     ]
    }
   ],
   "source": [
    "# list with a bunch of dicts which represent the kwargs for an experiment\n",
    "exp_params_to_try = []\n",
    "\n",
    "\n",
    "# define the width and depth of network to try\n",
    "hidden_layer_params_to_try = []\n",
    "\n",
    "for (num_layers, layer_sizes) in itertools.product(number_of_hidden_layers_to_try, \n",
    "                                                           hidden_layer_sizes_to_try \n",
    "                                                           ):\n",
    "    hidden_layer_params_to_try.append([layer_sizes for _ in range(num_layers)])\n",
    "\n",
    "# random.shuffle(hidden_layer_params_to_try)\n",
    "\n",
    "print(\"hidden_layer_params_to_try\")\n",
    "for x in hidden_layer_params_to_try:\n",
    "    print(x)"
   ]
  },
  {
   "cell_type": "code",
   "execution_count": 12,
   "metadata": {},
   "outputs": [],
   "source": [
    "# define all the experiments to run\n",
    "exp_params_to_try = []\n",
    "\n",
    "for (hidden_layer_sizes, drop_p) in itertools.product( \n",
    "                                              hidden_layer_params_to_try, \n",
    "                                              drop_ps_to_try):\n",
    "    kwargs = {'hidden_layer_sizes':hidden_layer_sizes,\n",
    "              'drop_p':drop_p,\n",
    "             }\n",
    "    # add to exp to try\n",
    "    exp_params_to_try.append(kwargs)\n",
    "\n",
    "# add the network with no hidden layers\n",
    "exp_params_to_try = [{'hidden_layer_sizes':[], 'drop_p':0.0}] + exp_params_to_try   "
   ]
  },
  {
   "cell_type": "code",
   "execution_count": 13,
   "metadata": {
    "scrolled": false
   },
   "outputs": [
    {
     "data": {
      "text/plain": [
       "[{'drop_p': 0.0, 'hidden_layer_sizes': []},\n",
       " {'drop_p': 0.0, 'hidden_layer_sizes': [16]},\n",
       " {'drop_p': 0.1, 'hidden_layer_sizes': [16]},\n",
       " {'drop_p': 0.4, 'hidden_layer_sizes': [16]},\n",
       " {'drop_p': 0.0, 'hidden_layer_sizes': [64]},\n",
       " {'drop_p': 0.1, 'hidden_layer_sizes': [64]},\n",
       " {'drop_p': 0.4, 'hidden_layer_sizes': [64]},\n",
       " {'drop_p': 0.0, 'hidden_layer_sizes': [256]},\n",
       " {'drop_p': 0.1, 'hidden_layer_sizes': [256]},\n",
       " {'drop_p': 0.4, 'hidden_layer_sizes': [256]},\n",
       " {'drop_p': 0.0, 'hidden_layer_sizes': [1024]},\n",
       " {'drop_p': 0.1, 'hidden_layer_sizes': [1024]},\n",
       " {'drop_p': 0.4, 'hidden_layer_sizes': [1024]},\n",
       " {'drop_p': 0.0, 'hidden_layer_sizes': [16, 16]},\n",
       " {'drop_p': 0.1, 'hidden_layer_sizes': [16, 16]},\n",
       " {'drop_p': 0.4, 'hidden_layer_sizes': [16, 16]},\n",
       " {'drop_p': 0.0, 'hidden_layer_sizes': [64, 64]},\n",
       " {'drop_p': 0.1, 'hidden_layer_sizes': [64, 64]},\n",
       " {'drop_p': 0.4, 'hidden_layer_sizes': [64, 64]},\n",
       " {'drop_p': 0.0, 'hidden_layer_sizes': [256, 256]},\n",
       " {'drop_p': 0.1, 'hidden_layer_sizes': [256, 256]},\n",
       " {'drop_p': 0.4, 'hidden_layer_sizes': [256, 256]},\n",
       " {'drop_p': 0.0, 'hidden_layer_sizes': [1024, 1024]},\n",
       " {'drop_p': 0.1, 'hidden_layer_sizes': [1024, 1024]},\n",
       " {'drop_p': 0.4, 'hidden_layer_sizes': [1024, 1024]},\n",
       " {'drop_p': 0.0, 'hidden_layer_sizes': [16, 16, 16]},\n",
       " {'drop_p': 0.1, 'hidden_layer_sizes': [16, 16, 16]},\n",
       " {'drop_p': 0.4, 'hidden_layer_sizes': [16, 16, 16]},\n",
       " {'drop_p': 0.0, 'hidden_layer_sizes': [64, 64, 64]},\n",
       " {'drop_p': 0.1, 'hidden_layer_sizes': [64, 64, 64]},\n",
       " {'drop_p': 0.4, 'hidden_layer_sizes': [64, 64, 64]},\n",
       " {'drop_p': 0.0, 'hidden_layer_sizes': [256, 256, 256]},\n",
       " {'drop_p': 0.1, 'hidden_layer_sizes': [256, 256, 256]},\n",
       " {'drop_p': 0.4, 'hidden_layer_sizes': [256, 256, 256]},\n",
       " {'drop_p': 0.0, 'hidden_layer_sizes': [1024, 1024, 1024]},\n",
       " {'drop_p': 0.1, 'hidden_layer_sizes': [1024, 1024, 1024]},\n",
       " {'drop_p': 0.4, 'hidden_layer_sizes': [1024, 1024, 1024]}]"
      ]
     },
     "execution_count": 13,
     "metadata": {},
     "output_type": "execute_result"
    }
   ],
   "source": [
    "exp_params_to_try"
   ]
  },
  {
   "cell_type": "code",
   "execution_count": 14,
   "metadata": {},
   "outputs": [],
   "source": [
    "# save list of all experiments to run\n",
    "with open(save_dir+\"/shared_config_experiments_list.pckl\", 'wb') as f:\n",
    "    pickle.dump(exp_params_to_try, f, pickle.HIGHEST_PROTOCOL)"
   ]
  },
  {
   "cell_type": "code",
   "execution_count": 7,
   "metadata": {},
   "outputs": [],
   "source": [
    "# FGN variants\n",
    "# covariance type\n",
    "covar_types_to_try = ['sphere', 'diag']\n",
    "# ordinal of gaussian\n",
    "ordinals_to_try = [0.5, 1.0, 2.0, 5.0]\n",
    "# pressure on loss to make the gaussians smaller\n",
    "lmbda_sigmas_to_try = [x*lmbda_l2 for x in [0.01, 0.1, 0.5, 1.0, 2.0, 10.0, 100.0]]"
   ]
  },
  {
   "cell_type": "code",
   "execution_count": 21,
   "metadata": {},
   "outputs": [
    {
     "data": {
      "text/plain": [
       "[8e-08,\n",
       " 8e-07,\n",
       " 4e-06,\n",
       " 8e-06,\n",
       " 1.6e-05,\n",
       " 7.999999999999999e-05,\n",
       " 0.0007999999999999999]"
      ]
     },
     "execution_count": 21,
     "metadata": {},
     "output_type": "execute_result"
    }
   ],
   "source": [
    "lmbda_sigmas_to_try"
   ]
  },
  {
   "cell_type": "code",
   "execution_count": 16,
   "metadata": {},
   "outputs": [],
   "source": [
    "# save as plaintext\n",
    "with open(save_dir+\"/fgn_config_variable_parameters.txt\", \"w\") as text_file:\n",
    "    text_file.write(\"Variable parameters for the FGN feedforward networks training.\\n\")\n",
    "    text_file.write(\"covar_types_to_try {}\\n\".format(str(covar_types_to_try)))\n",
    "    text_file.write(\"ordinals_to_try {}\\n\".format(str(ordinals_to_try)))\n",
    "    text_file.write(\"lmbda_sigmas_to_try {}\".format(str(lmbda_sigmas_to_try)))"
   ]
  },
  {
   "cell_type": "code",
   "execution_count": 22,
   "metadata": {},
   "outputs": [],
   "source": [
    "# define all the experiments to run\n",
    "fgn_exp_params_to_try = []\n",
    "\n",
    "for (lmbda_sigma, covar_type, ordinal) in itertools.product(lmbda_sigmas_to_try,\n",
    "                                                      covar_types_to_try, \n",
    "                                                      ordinals_to_try\n",
    "                                                      ):\n",
    "    kwargs = {'lmbda_sigma':lmbda_sigma,\n",
    "              'covar_type':covar_type,\n",
    "              'ordinal':ordinal\n",
    "             }\n",
    "    # add to exp to try\n",
    "    fgn_exp_params_to_try.append(kwargs)"
   ]
  },
  {
   "cell_type": "code",
   "execution_count": 23,
   "metadata": {
    "scrolled": false
   },
   "outputs": [
    {
     "data": {
      "text/plain": [
       "[{'covar_type': 'sphere', 'lmbda_sigma': 8e-08, 'ordinal': 0.5},\n",
       " {'covar_type': 'sphere', 'lmbda_sigma': 8e-08, 'ordinal': 1.0},\n",
       " {'covar_type': 'sphere', 'lmbda_sigma': 8e-08, 'ordinal': 2.0},\n",
       " {'covar_type': 'sphere', 'lmbda_sigma': 8e-08, 'ordinal': 5.0},\n",
       " {'covar_type': 'diag', 'lmbda_sigma': 8e-08, 'ordinal': 0.5},\n",
       " {'covar_type': 'diag', 'lmbda_sigma': 8e-08, 'ordinal': 1.0},\n",
       " {'covar_type': 'diag', 'lmbda_sigma': 8e-08, 'ordinal': 2.0},\n",
       " {'covar_type': 'diag', 'lmbda_sigma': 8e-08, 'ordinal': 5.0},\n",
       " {'covar_type': 'sphere', 'lmbda_sigma': 8e-07, 'ordinal': 0.5},\n",
       " {'covar_type': 'sphere', 'lmbda_sigma': 8e-07, 'ordinal': 1.0},\n",
       " {'covar_type': 'sphere', 'lmbda_sigma': 8e-07, 'ordinal': 2.0},\n",
       " {'covar_type': 'sphere', 'lmbda_sigma': 8e-07, 'ordinal': 5.0},\n",
       " {'covar_type': 'diag', 'lmbda_sigma': 8e-07, 'ordinal': 0.5},\n",
       " {'covar_type': 'diag', 'lmbda_sigma': 8e-07, 'ordinal': 1.0},\n",
       " {'covar_type': 'diag', 'lmbda_sigma': 8e-07, 'ordinal': 2.0},\n",
       " {'covar_type': 'diag', 'lmbda_sigma': 8e-07, 'ordinal': 5.0},\n",
       " {'covar_type': 'sphere', 'lmbda_sigma': 4e-06, 'ordinal': 0.5},\n",
       " {'covar_type': 'sphere', 'lmbda_sigma': 4e-06, 'ordinal': 1.0},\n",
       " {'covar_type': 'sphere', 'lmbda_sigma': 4e-06, 'ordinal': 2.0},\n",
       " {'covar_type': 'sphere', 'lmbda_sigma': 4e-06, 'ordinal': 5.0},\n",
       " {'covar_type': 'diag', 'lmbda_sigma': 4e-06, 'ordinal': 0.5},\n",
       " {'covar_type': 'diag', 'lmbda_sigma': 4e-06, 'ordinal': 1.0},\n",
       " {'covar_type': 'diag', 'lmbda_sigma': 4e-06, 'ordinal': 2.0},\n",
       " {'covar_type': 'diag', 'lmbda_sigma': 4e-06, 'ordinal': 5.0},\n",
       " {'covar_type': 'sphere', 'lmbda_sigma': 8e-06, 'ordinal': 0.5},\n",
       " {'covar_type': 'sphere', 'lmbda_sigma': 8e-06, 'ordinal': 1.0},\n",
       " {'covar_type': 'sphere', 'lmbda_sigma': 8e-06, 'ordinal': 2.0},\n",
       " {'covar_type': 'sphere', 'lmbda_sigma': 8e-06, 'ordinal': 5.0},\n",
       " {'covar_type': 'diag', 'lmbda_sigma': 8e-06, 'ordinal': 0.5},\n",
       " {'covar_type': 'diag', 'lmbda_sigma': 8e-06, 'ordinal': 1.0},\n",
       " {'covar_type': 'diag', 'lmbda_sigma': 8e-06, 'ordinal': 2.0},\n",
       " {'covar_type': 'diag', 'lmbda_sigma': 8e-06, 'ordinal': 5.0},\n",
       " {'covar_type': 'sphere', 'lmbda_sigma': 1.6e-05, 'ordinal': 0.5},\n",
       " {'covar_type': 'sphere', 'lmbda_sigma': 1.6e-05, 'ordinal': 1.0},\n",
       " {'covar_type': 'sphere', 'lmbda_sigma': 1.6e-05, 'ordinal': 2.0},\n",
       " {'covar_type': 'sphere', 'lmbda_sigma': 1.6e-05, 'ordinal': 5.0},\n",
       " {'covar_type': 'diag', 'lmbda_sigma': 1.6e-05, 'ordinal': 0.5},\n",
       " {'covar_type': 'diag', 'lmbda_sigma': 1.6e-05, 'ordinal': 1.0},\n",
       " {'covar_type': 'diag', 'lmbda_sigma': 1.6e-05, 'ordinal': 2.0},\n",
       " {'covar_type': 'diag', 'lmbda_sigma': 1.6e-05, 'ordinal': 5.0},\n",
       " {'covar_type': 'sphere',\n",
       "  'lmbda_sigma': 7.999999999999999e-05,\n",
       "  'ordinal': 0.5},\n",
       " {'covar_type': 'sphere',\n",
       "  'lmbda_sigma': 7.999999999999999e-05,\n",
       "  'ordinal': 1.0},\n",
       " {'covar_type': 'sphere',\n",
       "  'lmbda_sigma': 7.999999999999999e-05,\n",
       "  'ordinal': 2.0},\n",
       " {'covar_type': 'sphere',\n",
       "  'lmbda_sigma': 7.999999999999999e-05,\n",
       "  'ordinal': 5.0},\n",
       " {'covar_type': 'diag', 'lmbda_sigma': 7.999999999999999e-05, 'ordinal': 0.5},\n",
       " {'covar_type': 'diag', 'lmbda_sigma': 7.999999999999999e-05, 'ordinal': 1.0},\n",
       " {'covar_type': 'diag', 'lmbda_sigma': 7.999999999999999e-05, 'ordinal': 2.0},\n",
       " {'covar_type': 'diag', 'lmbda_sigma': 7.999999999999999e-05, 'ordinal': 5.0},\n",
       " {'covar_type': 'sphere',\n",
       "  'lmbda_sigma': 0.0007999999999999999,\n",
       "  'ordinal': 0.5},\n",
       " {'covar_type': 'sphere',\n",
       "  'lmbda_sigma': 0.0007999999999999999,\n",
       "  'ordinal': 1.0},\n",
       " {'covar_type': 'sphere',\n",
       "  'lmbda_sigma': 0.0007999999999999999,\n",
       "  'ordinal': 2.0},\n",
       " {'covar_type': 'sphere',\n",
       "  'lmbda_sigma': 0.0007999999999999999,\n",
       "  'ordinal': 5.0},\n",
       " {'covar_type': 'diag', 'lmbda_sigma': 0.0007999999999999999, 'ordinal': 0.5},\n",
       " {'covar_type': 'diag', 'lmbda_sigma': 0.0007999999999999999, 'ordinal': 1.0},\n",
       " {'covar_type': 'diag', 'lmbda_sigma': 0.0007999999999999999, 'ordinal': 2.0},\n",
       " {'covar_type': 'diag', 'lmbda_sigma': 0.0007999999999999999, 'ordinal': 5.0}]"
      ]
     },
     "execution_count": 23,
     "metadata": {},
     "output_type": "execute_result"
    }
   ],
   "source": [
    "fgn_exp_params_to_try"
   ]
  },
  {
   "cell_type": "code",
   "execution_count": 24,
   "metadata": {},
   "outputs": [],
   "source": [
    "# save list of all experiments to run\n",
    "with open(save_dir+\"/fgn_config_experiments_list.pckl\", 'wb') as f:\n",
    "    pickle.dump(fgn_exp_params_to_try, f, pickle.HIGHEST_PROTOCOL)"
   ]
  },
  {
   "cell_type": "code",
   "execution_count": null,
   "metadata": {},
   "outputs": [],
   "source": []
  }
 ],
 "metadata": {
  "kernelspec": {
   "display_name": "Python 2",
   "language": "python",
   "name": "python2"
  },
  "language_info": {
   "codemirror_mode": {
    "name": "ipython",
    "version": 2
   },
   "file_extension": ".py",
   "mimetype": "text/x-python",
   "name": "python",
   "nbconvert_exporter": "python",
   "pygments_lexer": "ipython2",
   "version": "2.7.12"
  }
 },
 "nbformat": 4,
 "nbformat_minor": 2
}
