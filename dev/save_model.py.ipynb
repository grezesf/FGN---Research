{
 "cells": [
  {
   "cell_type": "code",
   "execution_count": 1,
   "metadata": {},
   "outputs": [],
   "source": [
    "# dev of save_model.py"
   ]
  },
  {
   "cell_type": "code",
   "execution_count": null,
   "metadata": {},
   "outputs": [],
   "source": [
    "def save_model(location, name_prefix, **kwargs):\n",
    "    # saves a model in location, with name_prefix \n",
    "    # saves the full model, the state_dict, and the params to recreate it\n",
    "    \n",
    "    model_name = name_prefix + model_name_from_kwargs(**kwargs)\n",
    "    print(\"Saving trained model {} in {}\".format(model_name, location))\n",
    "\n",
    "    # save model entirely\n",
    "    torch.save(model, save_path+model_name+\"_full.pth\")\n",
    "\n",
    "    # save model weights\n",
    "    torch.save(model.state_dict(), save_path+model_name+\"_state_dict.pth\")\n",
    "\n",
    "    # # save training performance\n",
    "    # with open(save_path+model_name+\"_history.txt\", \"w\") as text_file:\n",
    "    #     text_file.write(\"Train Losses \\n{}\\n\".format(str(train_res['train_loss_hist'])))\n",
    "    #     text_file.write(\"Train Acc \\n{}\\n\".format(str(train_res['train_acc_hist'])))\n",
    "    #     text_file.write(\"Test Losses \\n{}\\n\".format(str(train_res['test_loss_hist'])))\n",
    "    #     text_file.write(\"Test Acc \\n{}\\n\".format(str(train_res['test_acc_hist'])))\n",
    "\n",
    "    # # save parameters\n",
    "    # with open(save_path+model_name+\"_parameters.txt\", \"w\") as text_file:\n",
    "    #     text_file.write(\"hidden_l_nums {}\\n\".format(str(hidden_l_nums)))\n",
    "    #     text_file.write(\"drop_p {}\\n\".format(str(drop_p)))\n",
    "    #     text_file.write(\"ordinal {}\\n\".format(str(ordinal)))\n",
    "    #     text_file.write(\"lambda for l2 loss {}\\n\".format(str(lmbda_l2)))\n",
    "    #     text_file.write(\"lambda for sigma loss {}\\n\".format(str(lmbda_sigs)))\n",
    "    #     text_file.write(\"noisy_centers {}\\n\".format(str(noisy_centers)))\n",
    "    #     text_file.write(\"batch_size {}\\n\".format(str(batch_size)))\n"
   ]
  },
  {
   "cell_type": "code",
   "execution_count": 2,
   "metadata": {},
   "outputs": [],
   "source": [
    "def model_name_from_kwargs(**kwargs):\n",
    "    print(kwargs)\n",
    "    return None"
   ]
  },
  {
   "cell_type": "code",
   "execution_count": null,
   "metadata": {},
   "outputs": [],
   "source": [
    "kwargs = {'type': 'fgn',\n",
    "          'hidden_layers'=[128,128],\n",
    "          'drop_p'=0.2\n",
    "          ''\n",
    "         }"
   ]
  },
  {
   "cell_type": "code",
   "execution_count": null,
   "metadata": {},
   "outputs": [],
   "source": [
    "model_name_from_kwargs"
   ]
  }
 ],
 "metadata": {
  "kernelspec": {
   "display_name": "Python 2",
   "language": "python",
   "name": "python2"
  },
  "language_info": {
   "codemirror_mode": {
    "name": "ipython",
    "version": 2
   },
   "file_extension": ".py",
   "mimetype": "text/x-python",
   "name": "python",
   "nbconvert_exporter": "python",
   "pygments_lexer": "ipython2",
   "version": "2.7.12"
  }
 },
 "nbformat": 4,
 "nbformat_minor": 2
}
