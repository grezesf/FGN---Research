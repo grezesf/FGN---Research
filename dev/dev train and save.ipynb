{
 "cells": [
  {
   "cell_type": "code",
   "execution_count": 1,
   "metadata": {},
   "outputs": [],
   "source": [
    "### pre-code\n",
    "import sys\n",
    "sys.path.append('/home/felix/Research/Adversarial Research/FGN---Research/')\n",
    "import Finite_Gaussian_Network_lib as fgnl\n",
    "import Finite_Gaussian_Network_lib.fgn_helper_lib as fgnh\n",
    "import torch"
   ]
  },
  {
   "cell_type": "code",
   "execution_count": 2,
   "metadata": {},
   "outputs": [
    {
     "name": "stdout",
     "output_type": "stream",
     "text": [
      "{'lmbda_sigs': 1.23456e-05, 'hidden_layer_sizes': [32, 32], 'lmbda_l2': 1e-05, 'out_feats': 10, 'covar_type': 'sphere', 'in_feats': 784}\n",
      "2019-09-10 14:22:24.187794_[32, 32]_fgn_sphere_lsig1.2346E-05_2\n",
      "../Experiments/folder for dev/2019-09-10 14:22:24.187794_[32, 32]_fgn_sphere_lsig1.2346E-05_2\n"
     ]
    }
   ],
   "source": [
    "# kwargs\n",
    "kwargs = {'in_feats':28*28, \n",
    "          'out_feats':10,\n",
    "          'hidden_layer_sizes':[32,32],\n",
    "          'covar_type':'sphere',\n",
    "          'lmbda_l2':0.00001,\n",
    "          'lmbda_sigs':0.0000123456,\n",
    "         }\n",
    "\n",
    "print(kwargs)\n",
    "hidden_layer_sizes = kwargs['hidden_layer_sizes']\n",
    "covar_type = kwargs['covar_type']\n",
    "lmbda_sigs = kwargs['lmbda_sigs']\n",
    "\n",
    "ite = 2\n",
    "model_type = 'fgn'\n",
    "\n",
    "timestamp = \"2019-09-10 14:22:24.187794\"\n",
    "model_name = \"_\".join((timestamp, str(hidden_layer_sizes), model_type, covar_type, 'lsig{:.4E}'.format(lmbda_sigs), str(ite)))\n",
    "print(model_name)\n",
    "full_save_path = \"../Experiments/folder for dev/\"+model_name\n",
    "print(full_save_path)\n",
    "\n",
    "# paramts to be passed to function\n",
    "model_type = 'fgn'\n",
    "device = torch.device('cuda')\n",
    "batch_size = 32\n",
    "(mnist_train_loader, mnist_val_loader, mnist_test_loader) = fgnh.mnist_dataloaders(batch_size)\n",
    "train_loader = mnist_train_loader\n",
    "val_dataloader = mnist_val_loader\n"
   ]
  },
  {
   "cell_type": "code",
   "execution_count": 3,
   "metadata": {},
   "outputs": [],
   "source": [
    "import os\n",
    "import torch\n",
    "import torch.optim as optim\n",
    "import Finite_Gaussian_Network_lib as fgnl\n",
    "import Finite_Gaussian_Network_lib.fgn_helper_lib as fgnh"
   ]
  },
  {
   "cell_type": "code",
   "execution_count": 4,
   "metadata": {},
   "outputs": [],
   "source": [
    "# def train_and_save_model(model_type, device, num_epochs, train_loader, val_loader, full_save_path, **kwargs):\n",
    "\n",
    "    # given a model type ('classic' or 'fgn'), and dataloaders, trains the model \n",
    "    # and saves model at save_path, and results (params, histories) in same directory\n",
    "    # kwargs are passed to model definition and training\n",
    "    \n"
   ]
  },
  {
   "cell_type": "code",
   "execution_count": 5,
   "metadata": {},
   "outputs": [],
   "source": [
    "# # extract paramters from kwargs\n",
    "# # kwargs classic\n",
    "# in_feats = kwargs['in_feats']\n",
    "# out_feats = kwargs['out_feats']\n",
    "# hidden_layer_sizes = kwargs['hidden_layer_sizes']\n",
    "# drop_p = kwargs['drop_p']\n",
    "# # kwargs for FGN\n",
    "# covar_type = kwargs['covar_type']\n",
    "# ordinal = kwargs['ordinal']\n",
    "# non_lin = kwargs['non_lin']\n",
    "# # kwargs for loss\n",
    "# lmbda_l2 = kwargs['lambda_l2']\n",
    "# lmbda_sig = kwargs['lmbda_sigs']\n",
    "\n",
    "# # kwargs for training\n",
    "# num_epochs = kwargs['num_epochs']\n",
    "# # device: a pytorch device, used to tell where to run the model\n",
    "# device = kwargs['device']"
   ]
  },
  {
   "cell_type": "code",
   "execution_count": 6,
   "metadata": {},
   "outputs": [
    {
     "name": "stdout",
     "output_type": "stream",
     "text": [
      "/home/felix/Research/Adversarial Research/FGN---Research/Experiments/folder for dev/\n",
      "Saving initial model (pre-training) 2019-09-10 14:22:24.187794_[32, 32]_fgn_sphere_lsig1.2346E-05_2 in /home/felix/Research/Adversarial Research/FGN---Research/Experiments/folder for dev/\n"
     ]
    },
    {
     "ename": "KeyboardInterrupt",
     "evalue": "",
     "output_type": "error",
     "traceback": [
      "\u001b[0;31m---------------------------------------------------------------------------\u001b[0m",
      "\u001b[0;31mKeyboardInterrupt\u001b[0m                         Traceback (most recent call last)",
      "\u001b[0;32m<ipython-input-6-600c63868893>\u001b[0m in \u001b[0;36m<module>\u001b[0;34m()\u001b[0m\n\u001b[1;32m     34\u001b[0m \u001b[0;31m# train the model\u001b[0m\u001b[0;34m\u001b[0m\u001b[0;34m\u001b[0m\u001b[0m\n\u001b[1;32m     35\u001b[0m train_res = fgnh.train(model=model, train_loader=train_loader, loss_func=loss, optimizer=optimizer, epochs=1, \n\u001b[0;32m---> 36\u001b[0;31m                        save_hist=2, pred_func=fgnh.cross_ent_pred_accuracy, Verbose=True)\n\u001b[0m\u001b[1;32m     37\u001b[0m \u001b[0;34m\u001b[0m\u001b[0m\n\u001b[1;32m     38\u001b[0m \u001b[0;34m\u001b[0m\u001b[0m\n",
      "\u001b[0;32m/home/felix/Research/Adversarial Research/FGN---Research/Finite_Gaussian_Network_lib/fgn_helper_lib/train.pyc\u001b[0m in \u001b[0;36mtrain\u001b[0;34m(model, train_loader, loss_func, optimizer, epochs, save_hist, **kwargs)\u001b[0m\n\u001b[1;32m    123\u001b[0m             \u001b[0;32mif\u001b[0m \u001b[0msave_hist\u001b[0m\u001b[0;34m==\u001b[0m\u001b[0;36m2\u001b[0m\u001b[0;34m:\u001b[0m\u001b[0;34m\u001b[0m\u001b[0m\n\u001b[1;32m    124\u001b[0m                 \u001b[0;32mfor\u001b[0m \u001b[0;34m(\u001b[0m\u001b[0mname\u001b[0m\u001b[0;34m,\u001b[0m\u001b[0mparam\u001b[0m\u001b[0;34m)\u001b[0m \u001b[0;32min\u001b[0m \u001b[0mfilter\u001b[0m\u001b[0;34m(\u001b[0m\u001b[0;32mlambda\u001b[0m \u001b[0;34m(\u001b[0m\u001b[0m_\u001b[0m\u001b[0;34m,\u001b[0m\u001b[0mp\u001b[0m\u001b[0;34m)\u001b[0m\u001b[0;34m:\u001b[0m \u001b[0mp\u001b[0m\u001b[0;34m.\u001b[0m\u001b[0mrequires_grad\u001b[0m\u001b[0;34m,\u001b[0m \u001b[0mmodel\u001b[0m\u001b[0;34m.\u001b[0m\u001b[0mnamed_parameters\u001b[0m\u001b[0;34m(\u001b[0m\u001b[0;34m)\u001b[0m \u001b[0;34m)\u001b[0m\u001b[0;34m:\u001b[0m\u001b[0;34m\u001b[0m\u001b[0m\n\u001b[0;32m--> 125\u001b[0;31m                     \u001b[0mhistories\u001b[0m\u001b[0;34m[\u001b[0m\u001b[0mname\u001b[0m\u001b[0;34m]\u001b[0m \u001b[0;34m=\u001b[0m \u001b[0mnp\u001b[0m\u001b[0;34m.\u001b[0m\u001b[0mappend\u001b[0m\u001b[0;34m(\u001b[0m\u001b[0mhistories\u001b[0m\u001b[0;34m[\u001b[0m\u001b[0mname\u001b[0m\u001b[0;34m]\u001b[0m\u001b[0;34m,\u001b[0m \u001b[0mnp\u001b[0m\u001b[0;34m.\u001b[0m\u001b[0mexpand_dims\u001b[0m\u001b[0;34m(\u001b[0m\u001b[0mparam\u001b[0m\u001b[0;34m.\u001b[0m\u001b[0mcpu\u001b[0m\u001b[0;34m(\u001b[0m\u001b[0;34m)\u001b[0m\u001b[0;34m.\u001b[0m\u001b[0mdetach\u001b[0m\u001b[0;34m(\u001b[0m\u001b[0;34m)\u001b[0m\u001b[0;34m.\u001b[0m\u001b[0mnumpy\u001b[0m\u001b[0;34m(\u001b[0m\u001b[0;34m)\u001b[0m\u001b[0;34m,\u001b[0m \u001b[0maxis\u001b[0m\u001b[0;34m=\u001b[0m\u001b[0;36m0\u001b[0m\u001b[0;34m)\u001b[0m\u001b[0;34m,\u001b[0m \u001b[0maxis\u001b[0m\u001b[0;34m=\u001b[0m\u001b[0;36m0\u001b[0m\u001b[0;34m)\u001b[0m\u001b[0;34m\u001b[0m\u001b[0m\n\u001b[0m\u001b[1;32m    126\u001b[0m \u001b[0;34m\u001b[0m\u001b[0m\n\u001b[1;32m    127\u001b[0m             \u001b[0;31m#end of batch\u001b[0m\u001b[0;34m\u001b[0m\u001b[0;34m\u001b[0m\u001b[0m\n",
      "\u001b[0;32m/home/felix/.local/lib/python2.7/site-packages/numpy/lib/function_base.pyc\u001b[0m in \u001b[0;36mappend\u001b[0;34m(arr, values, axis)\u001b[0m\n\u001b[1;32m   4692\u001b[0m         \u001b[0mvalues\u001b[0m \u001b[0;34m=\u001b[0m \u001b[0mravel\u001b[0m\u001b[0;34m(\u001b[0m\u001b[0mvalues\u001b[0m\u001b[0;34m)\u001b[0m\u001b[0;34m\u001b[0m\u001b[0m\n\u001b[1;32m   4693\u001b[0m         \u001b[0maxis\u001b[0m \u001b[0;34m=\u001b[0m \u001b[0marr\u001b[0m\u001b[0;34m.\u001b[0m\u001b[0mndim\u001b[0m\u001b[0;34m-\u001b[0m\u001b[0;36m1\u001b[0m\u001b[0;34m\u001b[0m\u001b[0m\n\u001b[0;32m-> 4694\u001b[0;31m     \u001b[0;32mreturn\u001b[0m \u001b[0mconcatenate\u001b[0m\u001b[0;34m(\u001b[0m\u001b[0;34m(\u001b[0m\u001b[0marr\u001b[0m\u001b[0;34m,\u001b[0m \u001b[0mvalues\u001b[0m\u001b[0;34m)\u001b[0m\u001b[0;34m,\u001b[0m \u001b[0maxis\u001b[0m\u001b[0;34m=\u001b[0m\u001b[0maxis\u001b[0m\u001b[0;34m)\u001b[0m\u001b[0;34m\u001b[0m\u001b[0m\n\u001b[0m\u001b[1;32m   4695\u001b[0m \u001b[0;34m\u001b[0m\u001b[0m\n\u001b[1;32m   4696\u001b[0m \u001b[0;34m\u001b[0m\u001b[0m\n",
      "\u001b[0;31mKeyboardInterrupt\u001b[0m: "
     ]
    }
   ],
   "source": [
    "\n",
    "# define model, training params and loss to use\n",
    "if model_type == 'classic':\n",
    "    model = fgnl.Feedforward_Classic_net(**kwargs)\n",
    "    loss = fgnh.def_classical_cross_ent_loss(**kwargs)\n",
    "    \n",
    "elif model_type == 'fgn':\n",
    "    model = fgnl.Feedforward_FGN_net(**kwargs)\n",
    "    loss = fgnl.def_fgn_cross_ent_loss(**kwargs)\n",
    "\n",
    "else:\n",
    "    # error\n",
    "    raise TypeError(\"model_type is classic or fgn\")\n",
    "\n",
    "model.to(device)\n",
    "    \n",
    "    \n",
    "# optimize every params that require grad\n",
    "optimizer = optim.RMSprop(filter(lambda p: p.requires_grad, model.parameters()),momentum=0.5)\n",
    "    \n",
    "# directory for saving\n",
    "save_dir = os.path.dirname(os.path.abspath(full_save_path))+os.path.sep\n",
    "print(save_dir)\n",
    "\n",
    "# save initial model (pre-trained)\n",
    "print(\"Saving initial model (pre-training) {} in {}\".format(model_name, save_dir))\n",
    "\n",
    "# save model entirely\n",
    "# torch.save(model, save_dir+model_name+\"_init_full.pth\")\n",
    "\n",
    "# save model weights\n",
    "# torch.save(model.state_dict(), save_dir+model_name+\"_init_state_dict.pth\")\n",
    "\n",
    "# train the model\n",
    "train_res = fgnh.train(model=model, train_loader=train_loader, loss_func=loss, optimizer=optimizer, epochs=1, \n",
    "                       save_hist=2, pred_func=fgnh.cross_ent_pred_accuracy, Verbose=True)\n",
    "\n",
    "\n",
    "# save trained model\n",
    "print(\"Saving trained model {} in {}\".format(model_name, save_dir))\n",
    "# save model entirely\n",
    "# torch.save(model, save_dir+model_name+\"_trained_full.pth\")\n",
    "\n",
    "# save model weights\n",
    "# torch.save(model.state_dict(), save_dir+model_name+\"_trained_state_dict.pth\")\n",
    "\n",
    "# save histories\n",
    "# with open(save_path+model_name+\"_history.txt\", \"w\") as text_file:\n",
    "#     text_file.write(\"Train Losses \\n{}\\n\".format(str(train_res['train_loss_hist'])))\n",
    "#     text_file.write(\"Train Acc \\n{}\\n\".format(str(train_res['train_acc_hist'])))\n",
    "#     text_file.write(\"Test Losses \\n{}\\n\".format(str(train_res['test_loss_hist'])))\n",
    "#     text_file.write(\"Test Acc \\n{}\\n\".format(str(train_res['test_acc_hist'])))\n",
    "\n",
    "# save parameters\n",
    "# with open(save_path+model_name+\"_parameters.txt\", \"w\") as text_file:\n",
    "#     text_file.write(\"{}\\n\".format(str(kwargs)))"
   ]
  },
  {
   "cell_type": "code",
   "execution_count": null,
   "metadata": {},
   "outputs": [],
   "source": []
  }
 ],
 "metadata": {
  "kernelspec": {
   "display_name": "Python 2",
   "language": "python",
   "name": "python2"
  },
  "language_info": {
   "codemirror_mode": {
    "name": "ipython",
    "version": 2
   },
   "file_extension": ".py",
   "mimetype": "text/x-python",
   "name": "python",
   "nbconvert_exporter": "python",
   "pygments_lexer": "ipython2",
   "version": "2.7.12"
  }
 },
 "nbformat": 4,
 "nbformat_minor": 2
}
