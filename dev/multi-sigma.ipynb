{
 "cells": [
  {
   "cell_type": "code",
   "execution_count": 1,
   "metadata": {},
   "outputs": [],
   "source": [
    "# dev of multi sigma per neuron"
   ]
  },
  {
   "cell_type": "code",
   "execution_count": 2,
   "metadata": {},
   "outputs": [],
   "source": [
    "# case 0 - one sigma per neuron = sigma*identity covariance matrix"
   ]
  },
  {
   "cell_type": "code",
   "execution_count": 3,
   "metadata": {},
   "outputs": [],
   "source": [
    "# case 1 - diag covariance matrix"
   ]
  },
  {
   "cell_type": "code",
   "execution_count": 4,
   "metadata": {},
   "outputs": [],
   "source": [
    "import torch\n",
    "import numpy as np"
   ]
  },
  {
   "cell_type": "code",
   "execution_count": 5,
   "metadata": {},
   "outputs": [
    {
     "name": "stderr",
     "output_type": "stream",
     "text": [
      "/usr/local/lib/python2.7/dist-packages/ipykernel_launcher.py:4: UserWarning: torch.range is deprecated in favor of torch.arange and will be removed in 0.5. Note that arange generates values in [start; end), not [start; end].\n",
      "  after removing the cwd from sys.path.\n"
     ]
    }
   ],
   "source": [
    "batch_size = 5\n",
    "input_dim = 3\n",
    "num_neurons = 2\n",
    "inputs = torch.range(start=1, end=batch_size*input_dim).reshape((batch_size,input_dim))"
   ]
  },
  {
   "cell_type": "code",
   "execution_count": 6,
   "metadata": {},
   "outputs": [
    {
     "name": "stdout",
     "output_type": "stream",
     "text": [
      "inputs\n",
      "torch.Size([5, 3])\n",
      "tensor([[ 1.,  2.,  3.],\n",
      "        [ 4.,  5.,  6.],\n",
      "        [ 7.,  8.,  9.],\n",
      "        [10., 11., 12.],\n",
      "        [13., 14., 15.]])\n"
     ]
    }
   ],
   "source": [
    "print(\"inputs\")\n",
    "print(inputs.shape)\n",
    "print(inputs)\n",
    "# inputs = torch.ones(size=(batch_size,input_dim))"
   ]
  },
  {
   "cell_type": "code",
   "execution_count": 7,
   "metadata": {},
   "outputs": [
    {
     "name": "stdout",
     "output_type": "stream",
     "text": [
      "centers\n",
      "torch.Size([2, 3])\n",
      "tensor([[1., 2., 3.],\n",
      "        [4., 5., 6.]])\n"
     ]
    },
    {
     "name": "stderr",
     "output_type": "stream",
     "text": [
      "/usr/local/lib/python2.7/dist-packages/ipykernel_launcher.py:2: UserWarning: torch.range is deprecated in favor of torch.arange and will be removed in 0.5. Note that arange generates values in [start; end), not [start; end].\n",
      "  \n"
     ]
    }
   ],
   "source": [
    "# centers = torch.rand(num_neurons, input_dim)\n",
    "centers = torch.range(start=1, end=num_neurons*input_dim).reshape((num_neurons,input_dim))\n",
    "print(\"centers\")\n",
    "print(centers.shape)\n",
    "print(centers)"
   ]
  },
  {
   "cell_type": "code",
   "execution_count": 8,
   "metadata": {},
   "outputs": [
    {
     "name": "stdout",
     "output_type": "stream",
     "text": [
      "distances\n",
      "torch.Size([5, 2, 3])\n",
      "tensor([[[ 0.,  0.,  0.],\n",
      "         [-3., -3., -3.]],\n",
      "\n",
      "        [[ 3.,  3.,  3.],\n",
      "         [ 0.,  0.,  0.]],\n",
      "\n",
      "        [[ 6.,  6.,  6.],\n",
      "         [ 3.,  3.,  3.]],\n",
      "\n",
      "        [[ 9.,  9.,  9.],\n",
      "         [ 6.,  6.,  6.]],\n",
      "\n",
      "        [[12., 12., 12.],\n",
      "         [ 9.,  9.,  9.]]])\n"
     ]
    }
   ],
   "source": [
    "distances = inputs.unsqueeze(1)-centers\n",
    "print(\"distances\")\n",
    "print(distances.shape)\n",
    "print(distances)"
   ]
  },
  {
   "cell_type": "code",
   "execution_count": 9,
   "metadata": {},
   "outputs": [
    {
     "name": "stdout",
     "output_type": "stream",
     "text": [
      "('neuron', 0)\n",
      "torch.Size([5, 3])\n",
      "tensor([[ 0.,  0.,  0.],\n",
      "        [ 3.,  3.,  3.],\n",
      "        [ 6.,  6.,  6.],\n",
      "        [ 9.,  9.,  9.],\n",
      "        [12., 12., 12.]])\n",
      "('neuron', 1)\n",
      "torch.Size([5, 3])\n",
      "tensor([[-3., -3., -3.],\n",
      "        [ 0.,  0.,  0.],\n",
      "        [ 3.,  3.,  3.],\n",
      "        [ 6.,  6.,  6.],\n",
      "        [ 9.,  9.,  9.]])\n"
     ]
    }
   ],
   "source": [
    "# distances per neuron\n",
    "for n in range(num_neurons):\n",
    "    print(\"neuron\", n)\n",
    "    print(distances[:,n,:].shape)\n",
    "    print(distances[:,n,:])"
   ]
  },
  {
   "cell_type": "code",
   "execution_count": 10,
   "metadata": {},
   "outputs": [
    {
     "name": "stdout",
     "output_type": "stream",
     "text": [
      "('covar shape', (3, 3))\n",
      "[[1. 0. 0.]\n",
      " [0. 2. 0.]\n",
      " [0. 0. 3.]]\n",
      "('covar matrixes shape', torch.Size([2, 3, 3]))\n",
      "tensor([[[1., 0., 0.],\n",
      "         [0., 2., 0.],\n",
      "         [0., 0., 3.]],\n",
      "\n",
      "        [[1., 0., 0.],\n",
      "         [0., 2., 0.],\n",
      "         [0., 0., 3.]]], dtype=torch.float64)\n",
      "inv_covar\n",
      "torch.Size([2, 3, 3])\n",
      "tensor([[[1.0000, 0.0000, -0.0000],\n",
      "         [0.0000, 0.5000, -0.0000],\n",
      "         [0.0000, 0.0000, 0.3333]],\n",
      "\n",
      "        [[1.0000, 0.0000, -0.0000],\n",
      "         [0.0000, 0.5000, -0.0000],\n",
      "         [0.0000, 0.0000, 0.3333]]], dtype=torch.float64)\n"
     ]
    }
   ],
   "source": [
    "# create a diagonal matrix of random covariances \n",
    "covar_matrix = np.eye(input_dim)\n",
    "covar_matrix = np.arange(1,input_dim+1)*covar_matrix\n",
    "print(\"covar shape\", covar_matrix.shape)\n",
    "print(covar_matrix)\n",
    "# covar_matrix for each neuron\n",
    "\n",
    "covar_matrixes = torch.tensor(np.tile(A=covar_matrix,reps=(num_neurons,1,1)))\n",
    "print(\"covar matrixes shape\", covar_matrixes.shape)\n",
    "print(covar_matrixes)\n",
    "# inv_covar = covar_matrix.inverse().unsqueeze(0).repeat(2, 1, 1)\n",
    "inv_covar = covar_matrixes.inverse()\n",
    "print(\"inv_covar\")\n",
    "print(inv_covar.shape)\n",
    "print(inv_covar)\n",
    "# inv_covar_2 = covar_matrix.unsqueeze(0).repeat(2, 1, 1)\n",
    "# print(inv_covar_2)"
   ]
  },
  {
   "cell_type": "code",
   "execution_count": 11,
   "metadata": {},
   "outputs": [
    {
     "data": {
      "text/plain": [
       "tensor([[1., 0., 0.],\n",
       "        [0., 1., 0.],\n",
       "        [0., 0., 1.]], dtype=torch.float64)"
      ]
     },
     "execution_count": 11,
     "metadata": {},
     "output_type": "execute_result"
    }
   ],
   "source": [
    "# check prod is identity\n",
    "torch.matmul(covar_matrixes[0], inv_covar[0])"
   ]
  },
  {
   "cell_type": "code",
   "execution_count": 12,
   "metadata": {
    "scrolled": false
   },
   "outputs": [
    {
     "name": "stdout",
     "output_type": "stream",
     "text": [
      "('d', torch.Size([5, 2, 3]))\n",
      "tensor([[[ 0.,  0.,  0.],\n",
      "         [-3., -3., -3.]],\n",
      "\n",
      "        [[ 3.,  3.,  3.],\n",
      "         [ 0.,  0.,  0.]],\n",
      "\n",
      "        [[ 6.,  6.,  6.],\n",
      "         [ 3.,  3.,  3.]],\n",
      "\n",
      "        [[ 9.,  9.,  9.],\n",
      "         [ 6.,  6.,  6.]],\n",
      "\n",
      "        [[12., 12., 12.],\n",
      "         [ 9.,  9.,  9.]]], dtype=torch.float64)\n",
      "('inv_covar', torch.Size([2, 3, 3]))\n",
      "('de', torch.Size([5, 2, 3]))\n",
      "tensor([[[ 0.,  0.,  0.],\n",
      "         [-6., -3., -2.]],\n",
      "\n",
      "        [[ 6.,  3.,  2.],\n",
      "         [ 0.,  0.,  0.]],\n",
      "\n",
      "        [[12.,  6.,  4.],\n",
      "         [ 6.,  3.,  2.]],\n",
      "\n",
      "        [[18.,  9.,  6.],\n",
      "         [12.,  6.,  4.]],\n",
      "\n",
      "        [[24., 12.,  8.],\n",
      "         [18.,  9.,  6.]]], dtype=torch.float64)\n",
      "('ded', torch.Size([5, 2]))\n",
      "tensor([[   0., -165.],\n",
      "        [ 330.,    0.],\n",
      "        [ 660.,  165.],\n",
      "        [ 990.,  330.],\n",
      "        [1320.,  495.]], dtype=torch.float64)\n",
      "('full', torch.Size([5, 2]))\n"
     ]
    }
   ],
   "source": [
    "# single vector case\n",
    "d = distances.double()\n",
    "print(\"d\", d.shape)\n",
    "print(d)\n",
    "print(\"inv_covar\", inv_covar.shape)\n",
    "# print(inv_covar)\n",
    "# de = torch.matmul(d,inv_covar)\n",
    "de = torch.einsum('ijk, abk->ijb',d,inv_covar)\n",
    "print(\"de\", de.shape)\n",
    "print(de)\n",
    "### one input one neuron\n",
    "# ded = torch.matmul(de,d)\n",
    "### many inputs, one neuron\n",
    "# ded = torch.einsum('ij,ij->i', de, d)\n",
    "### many inputs, many neurons\n",
    "ded = torch.einsum('ijk,ajk->ij', de, d)\n",
    "print(\"ded\", ded.shape)\n",
    "print(ded)\n",
    "# print(torch.matmul(de[0], d.transpose(0,1)))\n",
    "r_activity_full = torch.exp(-ded)\n",
    "print(\"full\", r_activity_full.shape)\n",
    "# print(r_activity_full)"
   ]
  },
  {
   "cell_type": "code",
   "execution_count": 13,
   "metadata": {},
   "outputs": [
    {
     "name": "stdout",
     "output_type": "stream",
     "text": [
      "[[[ 0  1]\n",
      "  [ 2  3]\n",
      "  [ 4  5]]\n",
      "\n",
      " [[ 6  7]\n",
      "  [ 8  9]\n",
      "  [10 11]]\n",
      "\n",
      " [[12 13]\n",
      "  [14 15]\n",
      "  [16 17]]\n",
      "\n",
      " [[18 19]\n",
      "  [20 21]\n",
      "  [22 23]]\n",
      "\n",
      " [[24 25]\n",
      "  [26 27]\n",
      "  [28 29]]]\n",
      "[[[ 0  1]\n",
      "  [ 2  3]]\n",
      "\n",
      " [[ 4  5]\n",
      "  [ 6  7]]\n",
      "\n",
      " [[ 8  9]\n",
      "  [10 11]]]\n"
     ]
    }
   ],
   "source": [
    "A = np.arange(5*3*2).reshape(5,3,2)\n",
    "B = np.arange(3*2*2).reshape(3,2,2)\n",
    "print(A)\n",
    "print(B)"
   ]
  },
  {
   "cell_type": "code",
   "execution_count": 14,
   "metadata": {},
   "outputs": [
    {
     "name": "stdout",
     "output_type": "stream",
     "text": [
      "(5, 3)\n",
      "[[  8100  36900  65700]\n",
      " [ 94500 123300 152100]\n",
      " [180900 209700 238500]\n",
      " [267300 296100 324900]\n",
      " [353700 382500 411300]]\n"
     ]
    }
   ],
   "source": [
    "r1 = np.einsum('abc,ijc,klc->ab', A, B, A) \n",
    "print(r1.shape)\n",
    "print(r1)"
   ]
  },
  {
   "cell_type": "code",
   "execution_count": 15,
   "metadata": {},
   "outputs": [
    {
     "name": "stdout",
     "output_type": "stream",
     "text": [
      "[[3.0000e+00 1.4500e+02 7.8300e+02]\n",
      " [2.7300e+02 1.6150e+03 4.2210e+03]\n",
      " [9.7500e+02 4.6690e+03 1.0395e+04]\n",
      " [2.1090e+03 9.3070e+03 1.9305e+04]\n",
      " [3.6750e+03 1.5529e+04 3.0951e+04]]\n",
      "(5, 3)\n"
     ]
    }
   ],
   "source": [
    "(a,b,c) = np.shape(A)\n",
    "(i,j,k) = np.shape(B)\n",
    "\n",
    "ded = np.zeros(a*b).reshape(a,b)\n",
    "# for every input in batch\n",
    "for ai in range(a):\n",
    "    # for every neuron\n",
    "    for bi in range(b):\n",
    "#         de =   np.matmul(distances[ai,bi,:], inv_covar_matrixes[bi,:,:])\n",
    "#         ded[ai,bi] = np.matmul(de, np.transpose(distances[ai,bi,:]))\n",
    "        ded[ai,bi] = np.einsum('i,ik,k->', A[ai,bi,:], B[bi,:,:],  A[ai,bi,:])\n",
    "\n",
    "print(ded)\n",
    "print(np.shape(ded))"
   ]
  },
  {
   "cell_type": "code",
   "execution_count": 16,
   "metadata": {},
   "outputs": [
    {
     "name": "stdout",
     "output_type": "stream",
     "text": [
      "[[    3   145   783]\n",
      " [  273  1615  4221]\n",
      " [  975  4669 10395]\n",
      " [ 2109  9307 19305]\n",
      " [ 3675 15529 30951]]\n"
     ]
    }
   ],
   "source": [
    "ded = np.einsum('...i,...ik,...k->...', A, B, A)\n",
    "print(ded)"
   ]
  },
  {
   "cell_type": "code",
   "execution_count": 17,
   "metadata": {},
   "outputs": [
    {
     "name": "stdout",
     "output_type": "stream",
     "text": [
      "tensor([[0, 1, 2],\n",
      "        [3, 4, 5]])\n",
      "tensor([0, 1, 2])\n",
      "tensor([ 5, 14])\n"
     ]
    }
   ],
   "source": [
    "a = torch.arange(6).reshape(2, 3)\n",
    "print(a)\n",
    "b = torch.arange(3)\n",
    "print(b)\n",
    "c = torch.einsum('k,ik->i', b, a)\n",
    "print(c)"
   ]
  },
  {
   "cell_type": "code",
   "execution_count": 18,
   "metadata": {},
   "outputs": [
    {
     "name": "stdout",
     "output_type": "stream",
     "text": [
      "torch.Size([3, 3])\n",
      "tensor([[1., 0., 0.],\n",
      "        [0., 1., 0.],\n",
      "        [0., 0., 1.]])\n"
     ]
    }
   ],
   "source": [
    "a = torch.eye(3)\n",
    "print(a.shape)\n",
    "print(a)"
   ]
  },
  {
   "cell_type": "code",
   "execution_count": 19,
   "metadata": {},
   "outputs": [
    {
     "name": "stdout",
     "output_type": "stream",
     "text": [
      "torch.Size([10, 3, 3])\n"
     ]
    }
   ],
   "source": [
    "b = torch.Tensor(10,3,3)\n",
    "print(b.shape)\n"
   ]
  },
  {
   "cell_type": "code",
   "execution_count": 20,
   "metadata": {},
   "outputs": [
    {
     "data": {
      "text/plain": [
       "90"
      ]
     },
     "execution_count": 20,
     "metadata": {},
     "output_type": "execute_result"
    }
   ],
   "source": [
    "np.prod(b.shape)"
   ]
  },
  {
   "cell_type": "code",
   "execution_count": 21,
   "metadata": {},
   "outputs": [
    {
     "name": "stdout",
     "output_type": "stream",
     "text": [
      "torch.Size([10, 3, 3])\n"
     ]
    }
   ],
   "source": [
    "c = a.expand_as(b)\n",
    "print(c.shape)"
   ]
  },
  {
   "cell_type": "code",
   "execution_count": 22,
   "metadata": {},
   "outputs": [
    {
     "name": "stdout",
     "output_type": "stream",
     "text": [
      "tensor([[1., 0., 0.],\n",
      "        [0., 1., 0.],\n",
      "        [0., 0., 1.]])\n"
     ]
    }
   ],
   "source": [
    "print(c[0])"
   ]
  },
  {
   "cell_type": "code",
   "execution_count": 23,
   "metadata": {},
   "outputs": [],
   "source": [
    "a = torch.tensor([1.8302, 1.3892, 1.0073, 1.4727, 1.6638, 1.8735, 1.7741, 1.2636, 1.8777,\n",
    "        1.5461])"
   ]
  },
  {
   "cell_type": "code",
   "execution_count": 24,
   "metadata": {},
   "outputs": [
    {
     "ename": "AttributeError",
     "evalue": "'module' object has no attribute 'tra'",
     "output_type": "error",
     "traceback": [
      "\u001b[0;31m---------------------------------------------------------------------------\u001b[0m",
      "\u001b[0;31mAttributeError\u001b[0m                            Traceback (most recent call last)",
      "\u001b[0;32m<ipython-input-24-71f4629af36c>\u001b[0m in \u001b[0;36m<module>\u001b[0;34m()\u001b[0m\n\u001b[0;32m----> 1\u001b[0;31m \u001b[0mtorch\u001b[0m\u001b[0;34m.\u001b[0m\u001b[0mtra\u001b[0m\u001b[0;34m\u001b[0m\u001b[0m\n\u001b[0m",
      "\u001b[0;31mAttributeError\u001b[0m: 'module' object has no attribute 'tra'"
     ]
    }
   ],
   "source": [
    "torch.tra"
   ]
  },
  {
   "cell_type": "code",
   "execution_count": null,
   "metadata": {},
   "outputs": [],
   "source": [
    "sigmas = torch.nn.Parameter(torch.Tensor(10, 3, 3,), requires_grad=True)"
   ]
  },
  {
   "cell_type": "code",
   "execution_count": null,
   "metadata": {},
   "outputs": [],
   "source": [
    "sigmas.data.copy_(sigmas)"
   ]
  },
  {
   "cell_type": "code",
   "execution_count": null,
   "metadata": {},
   "outputs": [],
   "source": [
    "2.0*torch.eye(3).expand_as(sigmas)"
   ]
  },
  {
   "cell_type": "code",
   "execution_count": null,
   "metadata": {},
   "outputs": [],
   "source": [
    "torch.einsum(equation=)"
   ]
  }
 ],
 "metadata": {
  "kernelspec": {
   "display_name": "Python 2",
   "language": "python",
   "name": "python2"
  },
  "language_info": {
   "codemirror_mode": {
    "name": "ipython",
    "version": 2
   },
   "file_extension": ".py",
   "mimetype": "text/x-python",
   "name": "python",
   "nbconvert_exporter": "python",
   "pygments_lexer": "ipython2",
   "version": "2.7.12"
  }
 },
 "nbformat": 4,
 "nbformat_minor": 2
}
