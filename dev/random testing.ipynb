{
 "cells": [
  {
   "cell_type": "code",
   "execution_count": 1,
   "metadata": {},
   "outputs": [],
   "source": [
    "import torch\n",
    "import numpy as np"
   ]
  },
  {
   "cell_type": "code",
   "execution_count": 20,
   "metadata": {},
   "outputs": [],
   "source": [
    "x = torch.randn(5, 3)\n",
    "y = -99*torch.rand(5,3)"
   ]
  },
  {
   "cell_type": "code",
   "execution_count": 21,
   "metadata": {},
   "outputs": [
    {
     "name": "stdout",
     "output_type": "stream",
     "text": [
      "tensor([[ 1.5568,  1.7817, -0.0585],\n",
      "        [-0.1102, -0.7366, -0.8254],\n",
      "        [-2.5701,  0.3645,  0.7269],\n",
      "        [ 1.7640, -1.2825,  0.1227],\n",
      "        [ 0.5386,  0.1989,  0.0610]])\n"
     ]
    }
   ],
   "source": [
    "print(x)"
   ]
  },
  {
   "cell_type": "code",
   "execution_count": 22,
   "metadata": {},
   "outputs": [
    {
     "name": "stdout",
     "output_type": "stream",
     "text": [
      "tensor([[-10.6328, -95.6246, -13.3005],\n",
      "        [-97.9882,  -9.7028, -24.0946],\n",
      "        [ -4.5923, -62.7251,  -8.8939],\n",
      "        [-52.0988, -76.9938, -12.7576],\n",
      "        [-68.3151, -51.7393, -49.4241]])\n"
     ]
    }
   ],
   "source": [
    "print(y)"
   ]
  },
  {
   "cell_type": "code",
   "execution_count": 24,
   "metadata": {},
   "outputs": [
    {
     "name": "stdout",
     "output_type": "stream",
     "text": [
      "tensor([[0., 0., 1.],\n",
      "        [1., 1., 1.],\n",
      "        [1., 0., 0.],\n",
      "        [0., 1., 0.],\n",
      "        [0., 0., 0.]])\n",
      "tensor([[1., 1., 0.],\n",
      "        [0., 0., 0.],\n",
      "        [0., 1., 1.],\n",
      "        [1., 0., 1.],\n",
      "        [1., 1., 1.]])\n"
     ]
    }
   ],
   "source": [
    "zero_inds = (x<0).float()\n",
    "nzero_inds = (x>=0).float()\n",
    "print(zero_inds)\n",
    "print(nzero_inds)"
   ]
  },
  {
   "cell_type": "code",
   "execution_count": 28,
   "metadata": {},
   "outputs": [
    {
     "data": {
      "text/plain": [
       "tensor([[-1.0633e+01, -9.5625e+01, -5.8486e-02],\n",
       "        [-1.1023e-01, -7.3662e-01, -8.2539e-01],\n",
       "        [-2.5701e+00, -6.2725e+01, -8.8939e+00],\n",
       "        [-5.2099e+01, -1.2825e+00, -1.2758e+01],\n",
       "        [-6.8315e+01, -5.1739e+01, -4.9424e+01]])"
      ]
     },
     "execution_count": 28,
     "metadata": {},
     "output_type": "execute_result"
    }
   ],
   "source": [
    "torch.mul(y, nzero_inds)+torch.mul(x,zero_inds)"
   ]
  },
  {
   "cell_type": "code",
   "execution_count": 26,
   "metadata": {},
   "outputs": [
    {
     "data": {
      "text/plain": [
       "tensor([[ 0.0000,  0.0000, -0.0000],\n",
       "        [-0.0000, -0.7366, -0.8254],\n",
       "        [-0.0000,  0.3645,  0.0000],\n",
       "        [ 1.7640, -1.2825,  0.0000],\n",
       "        [ 0.0000,  0.0000,  0.0000]])"
      ]
     },
     "execution_count": 26,
     "metadata": {},
     "output_type": "execute_result"
    }
   ],
   "source": [
    "torch.mul(x,inds)"
   ]
  },
  {
   "cell_type": "code",
   "execution_count": 27,
   "metadata": {},
   "outputs": [
    {
     "data": {
      "text/plain": [
       "tensor([[-10.6328, -95.6246,  -0.0000],\n",
       "        [ -0.0000,  -0.0000,  -0.0000],\n",
       "        [ -0.0000, -62.7251,  -8.8939],\n",
       "        [-52.0988,  -0.0000, -12.7576],\n",
       "        [-68.3151, -51.7393, -49.4241]])"
      ]
     },
     "execution_count": 27,
     "metadata": {},
     "output_type": "execute_result"
    }
   ],
   "source": [
    "torch.mul(y, nzero_inds)"
   ]
  },
  {
   "cell_type": "code",
   "execution_count": 31,
   "metadata": {},
   "outputs": [],
   "source": [
    "z = torch.FloatTensor(x.shape).uniform_(-10, 10)"
   ]
  },
  {
   "cell_type": "code",
   "execution_count": 32,
   "metadata": {},
   "outputs": [
    {
     "name": "stdout",
     "output_type": "stream",
     "text": [
      "tensor([[ 7.5608, -1.4678,  9.3779],\n",
      "        [ 5.4386,  1.9823, -3.7757],\n",
      "        [ 3.7084, -5.3523, -2.5741],\n",
      "        [-6.9177,  7.6486,  0.9215],\n",
      "        [ 8.2865, -3.0896, -3.5484]])\n"
     ]
    }
   ],
   "source": [
    "print(z)"
   ]
  },
  {
   "cell_type": "code",
   "execution_count": 35,
   "metadata": {},
   "outputs": [
    {
     "data": {
      "text/plain": [
       "9.377946853637695"
      ]
     },
     "execution_count": 35,
     "metadata": {},
     "output_type": "execute_result"
    }
   ],
   "source": [
    "torch.max(z).item()"
   ]
  },
  {
   "cell_type": "code",
   "execution_count": null,
   "metadata": {},
   "outputs": [],
   "source": []
  }
 ],
 "metadata": {
  "kernelspec": {
   "display_name": "Python 2",
   "language": "python",
   "name": "python2"
  },
  "language_info": {
   "codemirror_mode": {
    "name": "ipython",
    "version": 2
   },
   "file_extension": ".py",
   "mimetype": "text/x-python",
   "name": "python",
   "nbconvert_exporter": "python",
   "pygments_lexer": "ipython2",
   "version": "2.7.12"
  }
 },
 "nbformat": 4,
 "nbformat_minor": 2
}
