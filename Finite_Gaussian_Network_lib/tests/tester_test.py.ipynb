{
 "cells": [
  {
   "cell_type": "code",
   "execution_count": 1,
   "metadata": {},
   "outputs": [],
   "source": [
    "# test file for test.py"
   ]
  },
  {
   "cell_type": "code",
   "execution_count": 2,
   "metadata": {},
   "outputs": [],
   "source": [
    "import sys\n",
    "sys.path.append('/home/felix/Research/Adversarial Research/FGN---Research/')\n",
    "import Finite_Gaussian_Network_lib as fgnl\n",
    "import Finite_Gaussian_Network_lib.fgn_helper_lib as fgnh"
   ]
  },
  {
   "cell_type": "code",
   "execution_count": 3,
   "metadata": {},
   "outputs": [],
   "source": [
    "from __future__ import print_function\n",
    "\n",
    "import numpy as np\n",
    "\n",
    "import torch\n",
    "import torch.nn as nn\n",
    "import torch.nn.functional as F\n",
    "import torch.optim as optim\n",
    "from torchvision import datasets, transforms"
   ]
  },
  {
   "cell_type": "code",
   "execution_count": 4,
   "metadata": {},
   "outputs": [],
   "source": [
    "# random seeds\n",
    "torch.manual_seed(665)\n",
    "np.random.seed(326)"
   ]
  },
  {
   "cell_type": "code",
   "execution_count": 5,
   "metadata": {},
   "outputs": [],
   "source": [
    "# simple model\n",
    "# classical feed forward model with variable number of hidden layers and units per layer\n",
    "class Classic_MNIST_Net(nn.Module):\n",
    "    \n",
    "    def __init__(self,):\n",
    "        super(Classic_MNIST_Net, self).__init__()\n",
    "        \n",
    "        # one layer\n",
    "        in_feats=28*28\n",
    "        self.fl = nn.Linear(in_feats, 10)\n",
    "        \n",
    "    def forward(self, x):\n",
    "        # squash the image\n",
    "        x = x.view(-1, 28*28)\n",
    "        x = self.fl(x)\n",
    "        # softmax\n",
    "        x = F.log_softmax(x, dim=-1)\n",
    "        return x"
   ]
  },
  {
   "cell_type": "code",
   "execution_count": 6,
   "metadata": {},
   "outputs": [],
   "source": [
    "# Device: cpu only for reproducibility\n",
    "device = torch.device('cpu')"
   ]
  },
  {
   "cell_type": "code",
   "execution_count": 7,
   "metadata": {},
   "outputs": [],
   "source": [
    "# define model\n",
    "model = Classic_MNIST_Net().to(device)"
   ]
  },
  {
   "cell_type": "code",
   "execution_count": 8,
   "metadata": {},
   "outputs": [],
   "source": [
    "# load some data (MNIST)\n",
    "batch_size = 10000\n",
    "test_loader = torch.utils.data.DataLoader(\n",
    "    datasets.MNIST('/home/felix/Research/Adversarial Research/MNIST-dataset', train=False, download=False, \n",
    "                   transform=transforms.Compose([transforms.ToTensor(), transforms.Normalize((0.1307,), (0.3081,))\n",
    "            ])), \n",
    "        batch_size=batch_size, shuffle=False)"
   ]
  },
  {
   "cell_type": "code",
   "execution_count": 9,
   "metadata": {},
   "outputs": [],
   "source": [
    "# loss function\n",
    "def loss_func(model, output, target):\n",
    "    return F.nll_loss(output, target)"
   ]
  },
  {
   "cell_type": "code",
   "execution_count": 10,
   "metadata": {},
   "outputs": [],
   "source": [
    "# number of correct pred function\n",
    "def pred_func(output, target):\n",
    "    pred = output.max(1, keepdim=True)[1] # get the index of the max log-probability\n",
    "    correct = pred.eq(target.view_as(pred)).sum().item()\n",
    "    return correct"
   ]
  },
  {
   "cell_type": "code",
   "execution_count": 11,
   "metadata": {},
   "outputs": [
    {
     "name": "stdout",
     "output_type": "stream",
     "text": [
      "Test set - Average loss: 2.4556, Accuracy: 1068/10000 (11%)\n"
     ]
    }
   ],
   "source": [
    "### test 1: run on same device\n",
    "res = fgnh.test(model, test_loader, loss_func, pred_func=pred_func, verbose=True)"
   ]
  },
  {
   "cell_type": "code",
   "execution_count": 12,
   "metadata": {},
   "outputs": [],
   "source": [
    "# # Expected\n",
    "\n",
    "# Test set - Average loss: 2.4556, Accuracy: 1068/10000 (11%)"
   ]
  },
  {
   "cell_type": "code",
   "execution_count": 13,
   "metadata": {},
   "outputs": [
    {
     "data": {
      "text/plain": [
       "device(type='cpu')"
      ]
     },
     "execution_count": 13,
     "metadata": {},
     "output_type": "execute_result"
    }
   ],
   "source": [
    "next(model.parameters()).device"
   ]
  },
  {
   "cell_type": "code",
   "execution_count": 14,
   "metadata": {},
   "outputs": [
    {
     "name": "stdout",
     "output_type": "stream",
     "text": [
      "Warning: device specified. This might change model location (cuda<->cpu)\n",
      "Test set - Average loss: 2.4556, Accuracy: 1068/10000 (11%)\n"
     ]
    }
   ],
   "source": [
    "### test 2 :run on cuda instead of cpu\n",
    "res = fgnh.test(model, test_loader, loss_func, pred_func=pred_func, verbose=True, device=torch.device('cuda'))"
   ]
  },
  {
   "cell_type": "code",
   "execution_count": 15,
   "metadata": {},
   "outputs": [],
   "source": [
    "# # Expected\n",
    "\n",
    "# Warning: device specified. This might change model location (cuda<->cpu)\n",
    "# Test set - Average loss: 2.4556, Accuracy: 1068/10000 (11%)"
   ]
  },
  {
   "cell_type": "code",
   "execution_count": 16,
   "metadata": {},
   "outputs": [
    {
     "name": "stdout",
     "output_type": "stream",
     "text": [
      "{'test_loss': 2.455596923828125, 'test_accuracy': 10.68}\n"
     ]
    }
   ],
   "source": [
    "print(res)"
   ]
  }
 ],
 "metadata": {
  "kernelspec": {
   "display_name": "Python 2",
   "language": "python",
   "name": "python2"
  },
  "language_info": {
   "codemirror_mode": {
    "name": "ipython",
    "version": 2
   },
   "file_extension": ".py",
   "mimetype": "text/x-python",
   "name": "python",
   "nbconvert_exporter": "python",
   "pygments_lexer": "ipython2",
   "version": "2.7.12"
  }
 },
 "nbformat": 4,
 "nbformat_minor": 2
}
